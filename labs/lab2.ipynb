{
 "cells": [
  {
   "cell_type": "markdown",
   "metadata": {},
   "source": [
    "# MATH50003 (2023–24)\n",
<<<<<<< Updated upstream
    "# Lab 2: I.3 Dual Numbers and I.4 Newton's Method"
   ],
   "metadata": {}
=======
    "# Lab 2: I.3 Dual Numbers (and Newton's Method)"
   ]
>>>>>>> Stashed changes
  },
  {
   "cell_type": "markdown",
   "metadata": {},
   "source": [
    "In this lab we explore an alternative approach to computing derivatives:\n",
    "using _dual numbers_. This is a special mathematical object akin to complex numbers\n",
    "that allows us to compute derivatives to very high accuracy in an automated fashion,\n",
    "i.e. an example of [automatic differentiation](https://en.wikipedia.org/wiki/Automatic_differentiation)\n",
    "that is extremely important in Machine Learning and other computational applications.\n",
    "To realise dual numbers on a computer we need to introduce the notation of a \"type\"\n",
    "and create a customised type to represent dual numbers, which is what we discuss first.\n",
    "As an application of computing derivatives we consider root finding via [Newton's method](https://en.wikipedia.org/wiki/Newton%27s_method)."
   ]
  },
  {
   "cell_type": "markdown",
   "metadata": {},
   "source": [
    "**Learning Outcomes**\n",
    "\n",
    "Mathematical knowledge:\n",
    "\n",
    "1. Definition of dual numbers and functions applied dual numbers.\n",
    "2. Approximating second derivatives using second-order divided differences.\n",
    "3. Newton's method for root finding.\n",
    "\n",
    "Coding knowledge:\n",
    "\n",
    "1. The notion of a type and how to make your own type.\n",
    "2. Defining functions whose arguments are restricted to specific types.\n",
    "3. Overloading functions like `+`, `*`, and `exp` for a custom type."
   ]
  },
  {
   "cell_type": "markdown",
   "metadata": {},
   "source": [
    "We load the `Test` and `Plots` packages to be used below.\n",
    "We also define the function `nanabs` which is useful for logarithmically scaled\n",
    "plots. For brevity we use a shorthand `cond ? expr1 : expr2` which just means\n",
    "```julia\n",
    "if cond\n",
    "    expr1\n",
    "else\n",
    "    expr2\n",
    "end\n",
    "```"
   ]
  },
  {
   "cell_type": "code",
   "execution_count": 62,
   "metadata": {},
   "outputs": [
    {
     "data": {
      "text/plain": [
       "nanabs (generic function with 1 method)"
      ]
     },
     "execution_count": 62,
     "metadata": {},
     "output_type": "execute_result"
    }
   ],
   "source": [
    "using Plots, Test\n",
    "nanabs(x) = x == 0 ? NaN : abs(x)"
   ]
  },
  {
   "cell_type": "markdown",
   "metadata": {},
   "source": [
    "## Types in Julia"
   ]
  },
  {
   "cell_type": "markdown",
   "metadata": {},
   "source": [
    "Before we can use a concept like dual numbers we have to understand the notion of a \"type\".\n",
    "In compiled languages like Julia everything has a \"type\". The function `typeof` can be used to determine the type of,\n",
    "for example, a number.\n",
    "By default when we write an integer (e.g. `-123`) it is of type `Int`:"
   ]
  },
  {
   "cell_type": "code",
   "execution_count": 63,
   "metadata": {},
   "outputs": [
    {
     "data": {
      "text/plain": [
       "Int64"
      ]
     },
     "execution_count": 63,
     "metadata": {},
     "output_type": "execute_result"
    }
   ],
   "source": [
    "typeof(5)"
   ]
  },
  {
   "cell_type": "markdown",
   "metadata": {},
   "source": [
    "On a 64-bit machine this will print `Int64`, where the `64` indicates it is using precisely 64 bits\n",
    "to represent the number (a topic we will come back to in Part II). If we write something with\n",
    "a decimal point it represents a \"real\" number, whose storage is of type `Float64`:"
   ]
  },
  {
   "cell_type": "code",
   "execution_count": 64,
   "metadata": {},
   "outputs": [
    {
     "data": {
      "text/plain": [
       "Float64"
      ]
     },
     "execution_count": 64,
     "metadata": {},
     "output_type": "execute_result"
    }
   ],
   "source": [
    "typeof(5.3)"
   ]
  },
  {
   "cell_type": "markdown",
   "metadata": {},
   "source": [
    "This is called a \"floating point\" number, and again the `64` indicates it is using precisely\n",
    "64 bits to represent this number. (We will see this is why computations like divided differences\n",
    "have large errors: because we are limiting the number of \"digits\" to represent numbers we need to\n",
    "round our computations.) Note that some operations involving `Int`s return `Float64`s:"
   ]
  },
  {
   "cell_type": "code",
   "execution_count": 65,
   "metadata": {},
   "outputs": [
    {
     "data": {
      "text/plain": [
       "0.2"
      ]
     },
     "execution_count": 65,
     "metadata": {},
     "output_type": "execute_result"
    }
   ],
   "source": [
    "1/5 # 1 and 5 are Int but output is a Float64"
   ]
  },
  {
   "cell_type": "markdown",
   "metadata": {},
   "source": [
    "It is possible to have functions behave differently depending on the input type.\n",
    "To do so we can add a restriction denoted `::Int` or `::Float64` to the function \"signature\".\n",
    "Here we create a function `foo` that is equal to `1` if the input is an `Int`, `0` if the input is\n",
    "a `Float64`, and `-1` otherwise:"
   ]
  },
  {
   "cell_type": "code",
   "execution_count": 66,
   "metadata": {},
   "outputs": [
    {
     "data": {
      "text/plain": [
       "foo (generic function with 4 methods)"
      ]
     },
     "execution_count": 66,
     "metadata": {},
     "output_type": "execute_result"
    }
   ],
   "source": [
    "foo(x::Int) = 1 # The ::Int means this version is called when the input is an Int\n",
    "foo(x::Float64) = 0\n",
    "foo(x) = -1 # This is equivalent to f(x::Any) = -1"
   ]
  },
  {
   "cell_type": "markdown",
   "metadata": {},
   "source": [
    "Anything that is not an Int or Float64 will call this"
   ]
  },
  {
   "cell_type": "code",
   "execution_count": 67,
   "metadata": {},
   "outputs": [
    {
     "data": {
      "text/plain": [
       "(1, 0, -1, 0)"
      ]
     },
     "execution_count": 67,
     "metadata": {},
     "output_type": "execute_result"
    }
   ],
   "source": [
    "foo(3), foo(2.5), foo(\"hi\"), foo(3.0)"
   ]
  },
  {
   "cell_type": "markdown",
   "metadata": {},
   "source": [
    "The last line returns a list of `Int`s, which has the type `Tuple`.\n",
    "Note that there is a difference between an \"integer\" and the type `Int`: whilst 3.0 is an integer\n",
    "its type is `Float64` so `foo(3.0) == 0`."
   ]
  },
  {
   "cell_type": "markdown",
   "metadata": {},
   "source": [
    "**Remark** Every type has a \"supertype\", which is an \"abstract type\": something you can't make an instance of it.\n",
    "For example, in the same way that \"integers\"\n",
    "are subsets of the \"reals\" we have that `Int` and `Float64` are subtypes of\n",
    "`Real`. Which is a subtype of `Number`. Which, as is everything, a subtype of `Any`."
   ]
  },
  {
   "cell_type": "markdown",
   "metadata": {},
   "source": [
    "Types allow for combining multiple numbers (or instances of other types) to represent a more complicated\n",
    "object. A simple example of this is a complex number,\n",
    "which stores two real numbers $x$ and $y$ (either `Int` or `Float64` or indeed other real number types not yet discussed)\n",
    "to represent the complex number $x + {\\rm i} y$. In Julia ${\\rm i} = \\sqrt{-1}$ is denoted `im` and\n",
    "hence we can create a complex number like $1+2{\\rm i}$ as follows:"
   ]
  },
  {
   "cell_type": "code",
   "execution_count": 68,
   "metadata": {},
   "outputs": [
    {
     "data": {
      "text/plain": [
       "1 + 2im"
      ]
     },
     "execution_count": 68,
     "metadata": {},
     "output_type": "execute_result"
    }
   ],
   "source": [
    "z = 1 + 2im"
   ]
  },
  {
   "cell_type": "markdown",
   "metadata": {},
   "source": [
    "This complex number has two \"fields\": the real and imaginary part. Accessing the fields is done\n",
    "using a `.`, here we display the real and imaginary parts as a `Tuple`:"
   ]
  },
  {
   "cell_type": "code",
   "execution_count": 69,
   "metadata": {},
   "outputs": [
    {
     "data": {
      "text/plain": [
       "(1, 2)"
      ]
     },
     "execution_count": 69,
     "metadata": {},
     "output_type": "execute_result"
    }
   ],
   "source": [
    "z.re, z.im"
   ]
  },
  {
   "cell_type": "markdown",
   "metadata": {},
   "source": [
    "When we ask  its type we see it is a `Complex{Int}`:"
   ]
  },
  {
   "cell_type": "code",
   "execution_count": 70,
   "metadata": {},
   "outputs": [
    {
     "data": {
      "text/plain": [
       "Complex{Int64}"
      ]
     },
     "execution_count": 70,
     "metadata": {},
     "output_type": "execute_result"
    }
   ],
   "source": [
    "typeof(z)"
   ]
  },
  {
   "cell_type": "markdown",
   "metadata": {},
   "source": [
    "The `{Int}` indicates that each of the fields is an `Int`.\n",
    "Note we can add, subtract, multiply, or apply functions like `exp` to complex numbers:"
   ]
  },
  {
   "cell_type": "code",
   "execution_count": 71,
   "metadata": {},
   "outputs": [
    {
     "data": {
      "text/plain": [
       "1.0970208521148807e-5 - 0.002478727901132598im"
      ]
     },
     "execution_count": 71,
     "metadata": {},
     "output_type": "execute_result"
    }
   ],
   "source": [
    "exp(2z^2 + 3im)"
   ]
  },
  {
   "cell_type": "markdown",
   "metadata": {},
   "source": [
    "-----\n",
    "**Problem 1(a)** Use `typeof` to determine the type of `1.2 + 2.3im`."
   ]
  },
  {
   "cell_type": "code",
   "execution_count": 72,
   "metadata": {},
   "outputs": [
    {
     "data": {
      "text/plain": [
       "ComplexF64\u001b[90m (alias for \u001b[39m\u001b[90mComplex{Float64}\u001b[39m\u001b[90m)\u001b[39m"
      ]
     },
     "execution_count": 72,
     "metadata": {},
     "output_type": "execute_result"
    }
   ],
   "source": [
    "typeof(1.2+2.3im)"
   ]
  },
  {
   "cell_type": "markdown",
   "metadata": {},
   "source": [
    "**Problem 1(b)** Add another implementation of `foo` that returns `im` if the input\n",
    "is a `ComplexF64`."
   ]
  },
  {
   "cell_type": "code",
<<<<<<< Updated upstream
   "source": [
    "# TODO: Overload foo for when the input is a ComplexF64 and return im\n",
    "\n",
    "\n",
    "@test foo(1.1 + 2im) == im"
   ],
=======
   "execution_count": 73,
>>>>>>> Stashed changes
   "metadata": {},
   "outputs": [
    {
     "data": {
      "text/plain": [
       "\u001b[32m\u001b[1mTest Passed\u001b[22m\u001b[39m"
      ]
     },
     "execution_count": 73,
     "metadata": {},
     "output_type": "execute_result"
    }
   ],
   "source": [
    "function foo(x::ComplexF64)\n",
    "    return im  # the imaginary unit in Julia, equivalent to sqrt(-1)\n",
    "end\n",
    "\n",
    "@test foo(1.1 + 2im) == im\n"
   ]
  },
  {
   "cell_type": "markdown",
   "metadata": {},
   "source": [
    "------"
   ]
  },
  {
   "cell_type": "markdown",
   "metadata": {},
   "source": [
    "**Problem 2(a)** Consider the Taylor series approximation to the exponential:\n",
    "$$\n",
    "\\exp z ≈ ∑_{k=0}^n {z^k \\over k!}\n",
    "$$\n",
    "Complete the function `exp_t(z, n)` that computes this and returns a\n",
    "`Complex{Float64}` if the input is complex and a `Float64`.\n",
    "Do not use the inbuilt `factorial` function.\n",
    "Hint: It might help to think inductively: for $s_k = z^k/k!$ we have\n",
    "$$\n",
    "  s_{k+1}  = {z \\over k+1} s_k.\n",
    "$$"
   ]
  },
  {
   "cell_type": "code",
   "execution_count": 74,
   "metadata": {},
   "outputs": [
    {
     "data": {
      "text/plain": [
       "\u001b[32m\u001b[1mTest Passed\u001b[22m\u001b[39m"
      ]
     },
     "execution_count": 74,
     "metadata": {},
     "output_type": "execute_result"
    }
   ],
   "source": [
    "function exp_t(z, n)\n",
    "    # Initialize the sum with the first term of the series\n",
    "    sum = (z isa Complex) ? Complex{Float64}(1.0) : 1.0\n",
    "    term = sum  # This is s_0, which is 1\n",
    "\n",
    "    for k in 1:n\n",
    "        # Compute s_k using the inductive relationship\n",
    "        term *= z / k\n",
    "        sum += term\n",
    "    end\n",
    "\n",
    "    return sum\n",
    "end\n",
    "\n",
    "    # TODO: Compute the first (n+1)-terms of the Taylor series of exp\n",
    "    # evaluated at z\n",
    "@test exp_t(1.0, 10) isa Float64 # isa is used to test the type of a result\n",
    "@test exp_t(im, 10) isa ComplexF64 # isa is used to test the type of a result\n",
    "\n",
    "@test exp_t(1.0, 100) ≈ exp(1)"
   ]
  },
  {
   "cell_type": "markdown",
   "metadata": {},
   "source": [
    "**Problem 2(b)** Plot the error for `n = 1:1000` of `exp_t(z, n)` for `z = 1, im, -5`, and `-100`,\n",
    "scaling the y-axis logarithmically.\n",
    "Does the method appear to converge for all values of $z$?"
   ]
  },
  {
   "cell_type": "code",
   "execution_count": 75,
   "metadata": {},
   "outputs": [
    {
     "data": {
      "image/png": "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",
      "image/svg+xml": [
       "<?xml version=\"1.0\" encoding=\"utf-8\"?>\n",
       "<svg xmlns=\"http://www.w3.org/2000/svg\" xmlns:xlink=\"http://www.w3.org/1999/xlink\" width=\"600\" height=\"400\" viewBox=\"0 0 2400 1600\">\n",
       "<defs>\n",
       "  <clipPath id=\"clip060\">\n",
       "    <rect x=\"0\" y=\"0\" width=\"2400\" height=\"1600\"/>\n",
       "  </clipPath>\n",
       "</defs>\n",
       "<path clip-path=\"url(#clip060)\" d=\"M0 1600 L2400 1600 L2400 0 L0 0  Z\" fill=\"#ffffff\" fill-rule=\"evenodd\" fill-opacity=\"1\"/>\n",
       "<defs>\n",
       "  <clipPath id=\"clip061\">\n",
       "    <rect x=\"480\" y=\"0\" width=\"1681\" height=\"1600\"/>\n",
       "  </clipPath>\n",
       "</defs>\n",
       "<path clip-path=\"url(#clip060)\" d=\"M181.785 1486.45 L2352.76 1486.45 L2352.76 47.2441 L181.785 47.2441  Z\" fill=\"#ffffff\" fill-rule=\"evenodd\" fill-opacity=\"1\"/>\n",
       "<defs>\n",
       "  <clipPath id=\"clip062\">\n",
       "    <rect x=\"181\" y=\"47\" width=\"2172\" height=\"1440\"/>\n",
       "  </clipPath>\n",
       "</defs>\n",
       "<polyline clip-path=\"url(#clip062)\" style=\"stroke:#000000; stroke-linecap:round; stroke-linejoin:round; stroke-width:2; stroke-opacity:0.1; fill:none\" points=\"241.177,1486.45 241.177,47.2441 \"/>\n",
       "<polyline clip-path=\"url(#clip062)\" style=\"stroke:#000000; stroke-linecap:round; stroke-linejoin:round; stroke-width:2; stroke-opacity:0.1; fill:none\" points=\"753.711,1486.45 753.711,47.2441 \"/>\n",
       "<polyline clip-path=\"url(#clip062)\" style=\"stroke:#000000; stroke-linecap:round; stroke-linejoin:round; stroke-width:2; stroke-opacity:0.1; fill:none\" points=\"1266.25,1486.45 1266.25,47.2441 \"/>\n",
       "<polyline clip-path=\"url(#clip062)\" style=\"stroke:#000000; stroke-linecap:round; stroke-linejoin:round; stroke-width:2; stroke-opacity:0.1; fill:none\" points=\"1778.78,1486.45 1778.78,47.2441 \"/>\n",
       "<polyline clip-path=\"url(#clip062)\" style=\"stroke:#000000; stroke-linecap:round; stroke-linejoin:round; stroke-width:2; stroke-opacity:0.1; fill:none\" points=\"2291.31,1486.45 2291.31,47.2441 \"/>\n",
       "<polyline clip-path=\"url(#clip060)\" style=\"stroke:#000000; stroke-linecap:round; stroke-linejoin:round; stroke-width:4; stroke-opacity:1; fill:none\" points=\"181.785,1486.45 2352.76,1486.45 \"/>\n",
       "<polyline clip-path=\"url(#clip060)\" style=\"stroke:#000000; stroke-linecap:round; stroke-linejoin:round; stroke-width:4; stroke-opacity:1; fill:none\" points=\"241.177,1486.45 241.177,1467.55 \"/>\n",
       "<polyline clip-path=\"url(#clip060)\" style=\"stroke:#000000; stroke-linecap:round; stroke-linejoin:round; stroke-width:4; stroke-opacity:1; fill:none\" points=\"753.711,1486.45 753.711,1467.55 \"/>\n",
       "<polyline clip-path=\"url(#clip060)\" style=\"stroke:#000000; stroke-linecap:round; stroke-linejoin:round; stroke-width:4; stroke-opacity:1; fill:none\" points=\"1266.25,1486.45 1266.25,1467.55 \"/>\n",
       "<polyline clip-path=\"url(#clip060)\" style=\"stroke:#000000; stroke-linecap:round; stroke-linejoin:round; stroke-width:4; stroke-opacity:1; fill:none\" points=\"1778.78,1486.45 1778.78,1467.55 \"/>\n",
       "<polyline clip-path=\"url(#clip060)\" style=\"stroke:#000000; stroke-linecap:round; stroke-linejoin:round; stroke-width:4; stroke-opacity:1; fill:none\" points=\"2291.31,1486.45 2291.31,1467.55 \"/>\n",
       "<path clip-path=\"url(#clip060)\" d=\"M241.177 1517.37 Q237.566 1517.37 235.737 1520.93 Q233.932 1524.47 233.932 1531.6 Q233.932 1538.71 235.737 1542.27 Q237.566 1545.82 241.177 1545.82 Q244.811 1545.82 246.617 1542.27 Q248.446 1538.71 248.446 1531.6 Q248.446 1524.47 246.617 1520.93 Q244.811 1517.37 241.177 1517.37 M241.177 1513.66 Q246.987 1513.66 250.043 1518.27 Q253.122 1522.85 253.122 1531.6 Q253.122 1540.33 250.043 1544.94 Q246.987 1549.52 241.177 1549.52 Q235.367 1549.52 232.288 1544.94 Q229.233 1540.33 229.233 1531.6 Q229.233 1522.85 232.288 1518.27 Q235.367 1513.66 241.177 1513.66 Z\" fill=\"#000000\" fill-rule=\"nonzero\" fill-opacity=\"1\" /><path clip-path=\"url(#clip060)\" d=\"M717.404 1544.91 L733.723 1544.91 L733.723 1548.85 L711.779 1548.85 L711.779 1544.91 Q714.441 1542.16 719.024 1537.53 Q723.63 1532.88 724.811 1531.53 Q727.056 1529.01 727.936 1527.27 Q728.839 1525.51 728.839 1523.82 Q728.839 1521.07 726.894 1519.33 Q724.973 1517.6 721.871 1517.6 Q719.672 1517.6 717.218 1518.36 Q714.788 1519.13 712.01 1520.68 L712.01 1515.95 Q714.834 1514.82 717.288 1514.24 Q719.741 1513.66 721.779 1513.66 Q727.149 1513.66 730.343 1516.35 Q733.538 1519.03 733.538 1523.52 Q733.538 1525.65 732.728 1527.57 Q731.94 1529.47 729.834 1532.07 Q729.255 1532.74 726.153 1535.95 Q723.052 1539.15 717.404 1544.91 Z\" fill=\"#000000\" fill-rule=\"nonzero\" fill-opacity=\"1\" /><path clip-path=\"url(#clip060)\" d=\"M743.584 1514.29 L761.94 1514.29 L761.94 1518.22 L747.866 1518.22 L747.866 1526.7 Q748.885 1526.35 749.903 1526.19 Q750.922 1526 751.94 1526 Q757.727 1526 761.107 1529.17 Q764.487 1532.34 764.487 1537.76 Q764.487 1543.34 761.014 1546.44 Q757.542 1549.52 751.223 1549.52 Q749.047 1549.52 746.778 1549.15 Q744.533 1548.78 742.126 1548.04 L742.126 1543.34 Q744.209 1544.47 746.431 1545.03 Q748.653 1545.58 751.13 1545.58 Q755.135 1545.58 757.473 1543.48 Q759.811 1541.37 759.811 1537.76 Q759.811 1534.15 757.473 1532.04 Q755.135 1529.94 751.13 1529.94 Q749.255 1529.94 747.38 1530.35 Q745.528 1530.77 743.584 1531.65 L743.584 1514.29 Z\" fill=\"#000000\" fill-rule=\"nonzero\" fill-opacity=\"1\" /><path clip-path=\"url(#clip060)\" d=\"M783.699 1517.37 Q780.088 1517.37 778.26 1520.93 Q776.454 1524.47 776.454 1531.6 Q776.454 1538.71 778.26 1542.27 Q780.088 1545.82 783.699 1545.82 Q787.334 1545.82 789.139 1542.27 Q790.968 1538.71 790.968 1531.6 Q790.968 1524.47 789.139 1520.93 Q787.334 1517.37 783.699 1517.37 M783.699 1513.66 Q789.51 1513.66 792.565 1518.27 Q795.644 1522.85 795.644 1531.6 Q795.644 1540.33 792.565 1544.94 Q789.51 1549.52 783.699 1549.52 Q777.889 1549.52 774.811 1544.94 Q771.755 1540.33 771.755 1531.6 Q771.755 1522.85 774.811 1518.27 Q777.889 1513.66 783.699 1513.66 Z\" fill=\"#000000\" fill-rule=\"nonzero\" fill-opacity=\"1\" /><path clip-path=\"url(#clip060)\" d=\"M1225.86 1514.29 L1244.22 1514.29 L1244.22 1518.22 L1230.15 1518.22 L1230.15 1526.7 Q1231.16 1526.35 1232.18 1526.19 Q1233.2 1526 1234.22 1526 Q1240.01 1526 1243.39 1529.17 Q1246.77 1532.34 1246.77 1537.76 Q1246.77 1543.34 1243.29 1546.44 Q1239.82 1549.52 1233.5 1549.52 Q1231.33 1549.52 1229.06 1549.15 Q1226.81 1548.78 1224.41 1548.04 L1224.41 1543.34 Q1226.49 1544.47 1228.71 1545.03 Q1230.93 1545.58 1233.41 1545.58 Q1237.41 1545.58 1239.75 1543.48 Q1242.09 1541.37 1242.09 1537.76 Q1242.09 1534.15 1239.75 1532.04 Q1237.41 1529.94 1233.41 1529.94 Q1231.53 1529.94 1229.66 1530.35 Q1227.81 1530.77 1225.86 1531.65 L1225.86 1514.29 Z\" fill=\"#000000\" fill-rule=\"nonzero\" fill-opacity=\"1\" /><path clip-path=\"url(#clip060)\" d=\"M1265.98 1517.37 Q1262.37 1517.37 1260.54 1520.93 Q1258.73 1524.47 1258.73 1531.6 Q1258.73 1538.71 1260.54 1542.27 Q1262.37 1545.82 1265.98 1545.82 Q1269.61 1545.82 1271.42 1542.27 Q1273.25 1538.71 1273.25 1531.6 Q1273.25 1524.47 1271.42 1520.93 Q1269.61 1517.37 1265.98 1517.37 M1265.98 1513.66 Q1271.79 1513.66 1274.84 1518.27 Q1277.92 1522.85 1277.92 1531.6 Q1277.92 1540.33 1274.84 1544.94 Q1271.79 1549.52 1265.98 1549.52 Q1260.17 1549.52 1257.09 1544.94 Q1254.03 1540.33 1254.03 1531.6 Q1254.03 1522.85 1257.09 1518.27 Q1260.17 1513.66 1265.98 1513.66 Z\" fill=\"#000000\" fill-rule=\"nonzero\" fill-opacity=\"1\" /><path clip-path=\"url(#clip060)\" d=\"M1296.14 1517.37 Q1292.53 1517.37 1290.7 1520.93 Q1288.9 1524.47 1288.9 1531.6 Q1288.9 1538.71 1290.7 1542.27 Q1292.53 1545.82 1296.14 1545.82 Q1299.78 1545.82 1301.58 1542.27 Q1303.41 1538.71 1303.41 1531.6 Q1303.41 1524.47 1301.58 1520.93 Q1299.78 1517.37 1296.14 1517.37 M1296.14 1513.66 Q1301.95 1513.66 1305.01 1518.27 Q1308.09 1522.85 1308.09 1531.6 Q1308.09 1540.33 1305.01 1544.94 Q1301.95 1549.52 1296.14 1549.52 Q1290.33 1549.52 1287.25 1544.94 Q1284.2 1540.33 1284.2 1531.6 Q1284.2 1522.85 1287.25 1518.27 Q1290.33 1513.66 1296.14 1513.66 Z\" fill=\"#000000\" fill-rule=\"nonzero\" fill-opacity=\"1\" /><path clip-path=\"url(#clip060)\" d=\"M1737.05 1514.29 L1759.28 1514.29 L1759.28 1516.28 L1746.73 1548.85 L1741.85 1548.85 L1753.65 1518.22 L1737.05 1518.22 L1737.05 1514.29 Z\" fill=\"#000000\" fill-rule=\"nonzero\" fill-opacity=\"1\" /><path clip-path=\"url(#clip060)\" d=\"M1768.44 1514.29 L1786.8 1514.29 L1786.8 1518.22 L1772.73 1518.22 L1772.73 1526.7 Q1773.74 1526.35 1774.76 1526.19 Q1775.78 1526 1776.8 1526 Q1782.59 1526 1785.97 1529.17 Q1789.35 1532.34 1789.35 1537.76 Q1789.35 1543.34 1785.87 1546.44 Q1782.4 1549.52 1776.08 1549.52 Q1773.91 1549.52 1771.64 1549.15 Q1769.39 1548.78 1766.99 1548.04 L1766.99 1543.34 Q1769.07 1544.47 1771.29 1545.03 Q1773.51 1545.58 1775.99 1545.58 Q1779.99 1545.58 1782.33 1543.48 Q1784.67 1541.37 1784.67 1537.76 Q1784.67 1534.15 1782.33 1532.04 Q1779.99 1529.94 1775.99 1529.94 Q1774.11 1529.94 1772.24 1530.35 Q1770.39 1530.77 1768.44 1531.65 L1768.44 1514.29 Z\" fill=\"#000000\" fill-rule=\"nonzero\" fill-opacity=\"1\" /><path clip-path=\"url(#clip060)\" d=\"M1808.56 1517.37 Q1804.95 1517.37 1803.12 1520.93 Q1801.31 1524.47 1801.31 1531.6 Q1801.31 1538.71 1803.12 1542.27 Q1804.95 1545.82 1808.56 1545.82 Q1812.19 1545.82 1814 1542.27 Q1815.83 1538.71 1815.83 1531.6 Q1815.83 1524.47 1814 1520.93 Q1812.19 1517.37 1808.56 1517.37 M1808.56 1513.66 Q1814.37 1513.66 1817.42 1518.27 Q1820.5 1522.85 1820.5 1531.6 Q1820.5 1540.33 1817.42 1544.94 Q1814.37 1549.52 1808.56 1549.52 Q1802.75 1549.52 1799.67 1544.94 Q1796.61 1540.33 1796.61 1531.6 Q1796.61 1522.85 1799.67 1518.27 Q1802.75 1513.66 1808.56 1513.66 Z\" fill=\"#000000\" fill-rule=\"nonzero\" fill-opacity=\"1\" /><path clip-path=\"url(#clip060)\" d=\"M2235.84 1544.91 L2243.48 1544.91 L2243.48 1518.55 L2235.17 1520.21 L2235.17 1515.95 L2243.43 1514.29 L2248.11 1514.29 L2248.11 1544.91 L2255.75 1544.91 L2255.75 1548.85 L2235.84 1548.85 L2235.84 1544.91 Z\" fill=\"#000000\" fill-rule=\"nonzero\" fill-opacity=\"1\" /><path clip-path=\"url(#clip060)\" d=\"M2275.19 1517.37 Q2271.58 1517.37 2269.75 1520.93 Q2267.95 1524.47 2267.95 1531.6 Q2267.95 1538.71 2269.75 1542.27 Q2271.58 1545.82 2275.19 1545.82 Q2278.82 1545.82 2280.63 1542.27 Q2282.46 1538.71 2282.46 1531.6 Q2282.46 1524.47 2280.63 1520.93 Q2278.82 1517.37 2275.19 1517.37 M2275.19 1513.66 Q2281 1513.66 2284.06 1518.27 Q2287.14 1522.85 2287.14 1531.6 Q2287.14 1540.33 2284.06 1544.94 Q2281 1549.52 2275.19 1549.52 Q2269.38 1549.52 2266.3 1544.94 Q2263.25 1540.33 2263.25 1531.6 Q2263.25 1522.85 2266.3 1518.27 Q2269.38 1513.66 2275.19 1513.66 Z\" fill=\"#000000\" fill-rule=\"nonzero\" fill-opacity=\"1\" /><path clip-path=\"url(#clip060)\" d=\"M2305.35 1517.37 Q2301.74 1517.37 2299.91 1520.93 Q2298.11 1524.47 2298.11 1531.6 Q2298.11 1538.71 2299.91 1542.27 Q2301.74 1545.82 2305.35 1545.82 Q2308.99 1545.82 2310.79 1542.27 Q2312.62 1538.71 2312.62 1531.6 Q2312.62 1524.47 2310.79 1520.93 Q2308.99 1517.37 2305.35 1517.37 M2305.35 1513.66 Q2311.16 1513.66 2314.22 1518.27 Q2317.3 1522.85 2317.3 1531.6 Q2317.3 1540.33 2314.22 1544.94 Q2311.16 1549.52 2305.35 1549.52 Q2299.54 1549.52 2296.46 1544.94 Q2293.41 1540.33 2293.41 1531.6 Q2293.41 1522.85 2296.46 1518.27 Q2299.54 1513.66 2305.35 1513.66 Z\" fill=\"#000000\" fill-rule=\"nonzero\" fill-opacity=\"1\" /><path clip-path=\"url(#clip060)\" d=\"M2335.51 1517.37 Q2331.9 1517.37 2330.07 1520.93 Q2328.27 1524.47 2328.27 1531.6 Q2328.27 1538.71 2330.07 1542.27 Q2331.9 1545.82 2335.51 1545.82 Q2339.15 1545.82 2340.95 1542.27 Q2342.78 1538.71 2342.78 1531.6 Q2342.78 1524.47 2340.95 1520.93 Q2339.15 1517.37 2335.51 1517.37 M2335.51 1513.66 Q2341.32 1513.66 2344.38 1518.27 Q2347.46 1522.85 2347.46 1531.6 Q2347.46 1540.33 2344.38 1544.94 Q2341.32 1549.52 2335.51 1549.52 Q2329.7 1549.52 2326.63 1544.94 Q2323.57 1540.33 2323.57 1531.6 Q2323.57 1522.85 2326.63 1518.27 Q2329.7 1513.66 2335.51 1513.66 Z\" fill=\"#000000\" fill-rule=\"nonzero\" fill-opacity=\"1\" /><polyline clip-path=\"url(#clip062)\" style=\"stroke:#000000; stroke-linecap:round; stroke-linejoin:round; stroke-width:2; stroke-opacity:0.1; fill:none\" points=\"181.785,1070.19 2352.76,1070.19 \"/>\n",
       "<polyline clip-path=\"url(#clip062)\" style=\"stroke:#000000; stroke-linecap:round; stroke-linejoin:round; stroke-width:2; stroke-opacity:0.1; fill:none\" points=\"181.785,481.756 2352.76,481.756 \"/>\n",
       "<polyline clip-path=\"url(#clip060)\" style=\"stroke:#000000; stroke-linecap:round; stroke-linejoin:round; stroke-width:4; stroke-opacity:1; fill:none\" points=\"181.785,1486.45 181.785,47.2441 \"/>\n",
       "<polyline clip-path=\"url(#clip060)\" style=\"stroke:#000000; stroke-linecap:round; stroke-linejoin:round; stroke-width:4; stroke-opacity:1; fill:none\" points=\"181.785,1070.19 200.682,1070.19 \"/>\n",
       "<polyline clip-path=\"url(#clip060)\" style=\"stroke:#000000; stroke-linecap:round; stroke-linejoin:round; stroke-width:4; stroke-opacity:1; fill:none\" points=\"181.785,481.756 200.682,481.756 \"/>\n",
       "<path clip-path=\"url(#clip060)\" d=\"M75.0791 1089.98 L82.7179 1089.98 L82.7179 1063.61 L74.4078 1065.28 L74.4078 1061.02 L82.6716 1059.36 L87.3475 1059.36 L87.3475 1089.98 L94.9864 1089.98 L94.9864 1093.92 L75.0791 1093.92 L75.0791 1089.98 Z\" fill=\"#000000\" fill-rule=\"nonzero\" fill-opacity=\"1\" /><path clip-path=\"url(#clip060)\" d=\"M114.431 1062.43 Q110.82 1062.43 108.991 1066 Q107.185 1069.54 107.185 1076.67 Q107.185 1083.78 108.991 1087.34 Q110.82 1090.88 114.431 1090.88 Q118.065 1090.88 119.871 1087.34 Q121.699 1083.78 121.699 1076.67 Q121.699 1069.54 119.871 1066 Q118.065 1062.43 114.431 1062.43 M114.431 1058.73 Q120.241 1058.73 123.296 1063.34 Q126.375 1067.92 126.375 1076.67 Q126.375 1085.4 123.296 1090 Q120.241 1094.59 114.431 1094.59 Q108.621 1094.59 105.542 1090 Q102.486 1085.4 102.486 1076.67 Q102.486 1067.92 105.542 1063.34 Q108.621 1058.73 114.431 1058.73 Z\" fill=\"#000000\" fill-rule=\"nonzero\" fill-opacity=\"1\" /><path clip-path=\"url(#clip060)\" d=\"M136.08 1040.93 Q133.146 1040.93 131.66 1043.82 Q130.193 1046.7 130.193 1052.49 Q130.193 1058.27 131.66 1061.16 Q133.146 1064.04 136.08 1064.04 Q139.033 1064.04 140.5 1061.16 Q141.986 1058.27 141.986 1052.49 Q141.986 1046.7 140.5 1043.82 Q139.033 1040.93 136.08 1040.93 M136.08 1037.92 Q140.801 1037.92 143.283 1041.66 Q145.785 1045.38 145.785 1052.49 Q145.785 1059.58 143.283 1063.33 Q140.801 1067.05 136.08 1067.05 Q131.359 1067.05 128.858 1063.33 Q126.375 1059.58 126.375 1052.49 Q126.375 1045.38 128.858 1041.66 Q131.359 1037.92 136.08 1037.92 Z\" fill=\"#000000\" fill-rule=\"nonzero\" fill-opacity=\"1\" /><path clip-path=\"url(#clip060)\" d=\"M51.6634 501.549 L59.3023 501.549 L59.3023 475.183 L50.9921 476.85 L50.9921 472.59 L59.256 470.924 L63.9319 470.924 L63.9319 501.549 L71.5707 501.549 L71.5707 505.484 L51.6634 505.484 L51.6634 501.549 Z\" fill=\"#000000\" fill-rule=\"nonzero\" fill-opacity=\"1\" /><path clip-path=\"url(#clip060)\" d=\"M91.0151 474.002 Q87.404 474.002 85.5753 477.567 Q83.7697 481.109 83.7697 488.238 Q83.7697 495.345 85.5753 498.91 Q87.404 502.451 91.0151 502.451 Q94.6493 502.451 96.4548 498.91 Q98.2835 495.345 98.2835 488.238 Q98.2835 481.109 96.4548 477.567 Q94.6493 474.002 91.0151 474.002 M91.0151 470.299 Q96.8252 470.299 99.8808 474.905 Q102.959 479.489 102.959 488.238 Q102.959 496.965 99.8808 501.572 Q96.8252 506.155 91.0151 506.155 Q85.2049 506.155 82.1262 501.572 Q79.0707 496.965 79.0707 488.238 Q79.0707 479.489 82.1262 474.905 Q85.2049 470.299 91.0151 470.299 Z\" fill=\"#000000\" fill-rule=\"nonzero\" fill-opacity=\"1\" /><path clip-path=\"url(#clip060)\" d=\"M107.53 474.876 L120.789 474.876 L120.789 478.073 L102.959 478.073 L102.959 474.876 Q105.122 472.638 108.846 468.876 Q112.589 465.096 113.548 464.005 Q115.373 461.955 116.087 460.545 Q116.821 459.115 116.821 457.742 Q116.821 455.504 115.241 454.093 Q113.68 452.683 111.16 452.683 Q109.373 452.683 107.379 453.304 Q105.404 453.924 103.148 455.184 L103.148 451.348 Q105.442 450.426 107.436 449.956 Q109.429 449.486 111.084 449.486 Q115.448 449.486 118.043 451.667 Q120.639 453.849 120.639 457.498 Q120.639 459.228 119.98 460.789 Q119.341 462.331 117.63 464.438 Q117.159 464.983 114.639 467.597 Q112.119 470.193 107.53 474.876 Z\" fill=\"#000000\" fill-rule=\"nonzero\" fill-opacity=\"1\" /><path clip-path=\"url(#clip060)\" d=\"M128.801 449.993 L143.716 449.993 L143.716 453.191 L132.281 453.191 L132.281 460.074 Q133.108 459.792 133.936 459.661 Q134.763 459.51 135.591 459.51 Q140.293 459.51 143.039 462.087 Q145.785 464.663 145.785 469.064 Q145.785 473.597 142.964 476.117 Q140.142 478.619 135.008 478.619 Q133.24 478.619 131.397 478.318 Q129.572 478.017 127.616 477.415 L127.616 473.597 Q129.309 474.519 131.115 474.97 Q132.92 475.421 134.933 475.421 Q138.186 475.421 140.086 473.71 Q141.986 471.998 141.986 469.064 Q141.986 466.13 140.086 464.419 Q138.186 462.707 134.933 462.707 Q133.409 462.707 131.886 463.046 Q130.381 463.385 128.801 464.099 L128.801 449.993 Z\" fill=\"#000000\" fill-rule=\"nonzero\" fill-opacity=\"1\" /><polyline clip-path=\"url(#clip062)\" style=\"stroke:#009af9; stroke-linecap:round; stroke-linejoin:round; stroke-width:4; stroke-opacity:1; fill:none\" points=\"243.227,1073.57 245.277,1085.75 247.328,1100.49 249.378,1117.32 251.428,1135.9 253.478,1155.99 255.528,1177.4 257.578,1199.98 259.628,1223.62 261.679,1248.22 263.729,1273.69 265.779,1299.97 267.829,1326.99 269.879,1354.73 271.929,1383.22 273.979,1415.09 276.029,1431.54 278.08,1431.54 280.13,1431.54 282.18,1431.54 284.23,1431.54 286.28,1431.54 288.33,1431.54 290.38,1431.54 292.431,1431.54 294.481,1431.54 296.531,1431.54 298.581,1431.54 300.631,1431.54 302.681,1431.54 304.731,1431.54 306.782,1431.54 308.832,1431.54 310.882,1431.54 312.932,1431.54 314.982,1431.54 317.032,1431.54 319.082,1431.54 321.132,1431.54 323.183,1431.54 325.233,1431.54 327.283,1431.54 329.333,1431.54 331.383,1431.54 333.433,1431.54 335.483,1431.54 337.534,1431.54 339.584,1431.54 341.634,1431.54 343.684,1431.54 345.734,1431.54 347.784,1431.54 349.834,1431.54 351.885,1431.54 353.935,1431.54 355.985,1431.54 358.035,1431.54 360.085,1431.54 362.135,1431.54 364.185,1431.54 366.235,1431.54 368.286,1431.54 370.336,1431.54 372.386,1431.54 374.436,1431.54 376.486,1431.54 378.536,1431.54 380.586,1431.54 382.637,1431.54 384.687,1431.54 386.737,1431.54 388.787,1431.54 390.837,1431.54 392.887,1431.54 394.937,1431.54 396.988,1431.54 399.038,1431.54 401.088,1431.54 403.138,1431.54 405.188,1431.54 407.238,1431.54 409.288,1431.54 411.338,1431.54 413.389,1431.54 415.439,1431.54 417.489,1431.54 419.539,1431.54 421.589,1431.54 423.639,1431.54 425.689,1431.54 427.74,1431.54 429.79,1431.54 431.84,1431.54 433.89,1431.54 435.94,1431.54 437.99,1431.54 440.04,1431.54 442.091,1431.54 444.141,1431.54 446.191,1431.54 448.241,1431.54 450.291,1431.54 452.341,1431.54 454.391,1431.54 456.441,1431.54 458.492,1431.54 460.542,1431.54 462.592,1431.54 464.642,1431.54 466.692,1431.54 468.742,1431.54 470.792,1431.54 472.843,1431.54 474.893,1431.54 476.943,1431.54 478.993,1431.54 481.043,1431.54 483.093,1431.54 485.143,1431.54 487.194,1431.54 489.244,1431.54 491.294,1431.54 493.344,1431.54 495.394,1431.54 497.444,1431.54 499.494,1431.54 501.544,1431.54 503.595,1431.54 505.645,1431.54 507.695,1431.54 509.745,1431.54 511.795,1431.54 513.845,1431.54 515.895,1431.54 517.946,1431.54 519.996,1431.54 522.046,1431.54 524.096,1431.54 526.146,1431.54 528.196,1431.54 530.246,1431.54 532.297,1431.54 534.347,1431.54 536.397,1431.54 538.447,1431.54 540.497,1431.54 542.547,1431.54 544.597,1431.54 546.647,1431.54 548.698,1431.54 550.748,1431.54 552.798,1431.54 554.848,1431.54 556.898,1431.54 558.948,1431.54 560.998,1431.54 563.049,1431.54 565.099,1431.54 567.149,1431.54 569.199,1431.54 571.249,1431.54 573.299,1431.54 575.349,1431.54 577.4,1431.54 579.45,1431.54 581.5,1431.54 583.55,1431.54 585.6,1431.54 587.65,1431.54 589.7,1431.54 591.75,1431.54 593.801,1431.54 595.851,1431.54 597.901,1431.54 599.951,1431.54 602.001,1431.54 604.051,1431.54 606.101,1431.54 608.152,1431.54 610.202,1431.54 612.252,1431.54 614.302,1431.54 616.352,1431.54 618.402,1431.54 620.452,1431.54 622.502,1431.54 624.553,1431.54 626.603,1431.54 628.653,1431.54 630.703,1431.54 632.753,1431.54 634.803,1431.54 636.853,1431.54 638.904,1431.54 640.954,1431.54 643.004,1431.54 645.054,1431.54 647.104,1431.54 649.154,1431.54 651.204,1431.54 653.255,1431.54 655.305,1431.54 657.355,1431.54 659.405,1431.54 661.455,1431.54 663.505,1431.54 665.555,1431.54 667.605,1431.54 669.656,1431.54 671.706,1431.54 673.756,1431.54 675.806,1431.54 677.856,1431.54 679.906,1431.54 681.956,1431.54 684.007,1431.54 686.057,1431.54 688.107,1431.54 690.157,1431.54 692.207,1431.54 694.257,1431.54 696.307,1431.54 698.358,1431.54 700.408,1431.54 702.458,1431.54 704.508,1431.54 706.558,1431.54 708.608,1431.54 710.658,1431.54 712.708,1431.54 714.759,1431.54 716.809,1431.54 718.859,1431.54 720.909,1431.54 722.959,1431.54 725.009,1431.54 727.059,1431.54 729.11,1431.54 731.16,1431.54 733.21,1431.54 735.26,1431.54 737.31,1431.54 739.36,1431.54 741.41,1431.54 743.461,1431.54 745.511,1431.54 747.561,1431.54 749.611,1431.54 751.661,1431.54 753.711,1431.54 755.761,1431.54 757.811,1431.54 759.862,1431.54 761.912,1431.54 763.962,1431.54 766.012,1431.54 768.062,1431.54 770.112,1431.54 772.162,1431.54 774.213,1431.54 776.263,1431.54 778.313,1431.54 780.363,1431.54 782.413,1431.54 784.463,1431.54 786.513,1431.54 788.564,1431.54 790.614,1431.54 792.664,1431.54 794.714,1431.54 796.764,1431.54 798.814,1431.54 800.864,1431.54 802.914,1431.54 804.965,1431.54 807.015,1431.54 809.065,1431.54 811.115,1431.54 813.165,1431.54 815.215,1431.54 817.265,1431.54 819.316,1431.54 821.366,1431.54 823.416,1431.54 825.466,1431.54 827.516,1431.54 829.566,1431.54 831.616,1431.54 833.667,1431.54 835.717,1431.54 837.767,1431.54 839.817,1431.54 841.867,1431.54 843.917,1431.54 845.967,1431.54 848.017,1431.54 850.068,1431.54 852.118,1431.54 854.168,1431.54 856.218,1431.54 858.268,1431.54 860.318,1431.54 862.368,1431.54 864.419,1431.54 866.469,1431.54 868.519,1431.54 870.569,1431.54 872.619,1431.54 874.669,1431.54 876.719,1431.54 878.77,1431.54 880.82,1431.54 882.87,1431.54 884.92,1431.54 886.97,1431.54 889.02,1431.54 891.07,1431.54 893.12,1431.54 895.171,1431.54 897.221,1431.54 899.271,1431.54 901.321,1431.54 903.371,1431.54 905.421,1431.54 907.471,1431.54 909.522,1431.54 911.572,1431.54 913.622,1431.54 915.672,1431.54 917.722,1431.54 919.772,1431.54 921.822,1431.54 923.873,1431.54 925.923,1431.54 927.973,1431.54 930.023,1431.54 932.073,1431.54 934.123,1431.54 936.173,1431.54 938.223,1431.54 940.274,1431.54 942.324,1431.54 944.374,1431.54 946.424,1431.54 948.474,1431.54 950.524,1431.54 952.574,1431.54 954.625,1431.54 956.675,1431.54 958.725,1431.54 960.775,1431.54 962.825,1431.54 964.875,1431.54 966.925,1431.54 968.976,1431.54 971.026,1431.54 973.076,1431.54 975.126,1431.54 977.176,1431.54 979.226,1431.54 981.276,1431.54 983.326,1431.54 985.377,1431.54 987.427,1431.54 989.477,1431.54 991.527,1431.54 993.577,1431.54 995.627,1431.54 997.677,1431.54 999.728,1431.54 1001.78,1431.54 1003.83,1431.54 1005.88,1431.54 1007.93,1431.54 1009.98,1431.54 1012.03,1431.54 1014.08,1431.54 1016.13,1431.54 1018.18,1431.54 1020.23,1431.54 1022.28,1431.54 1024.33,1431.54 1026.38,1431.54 1028.43,1431.54 1030.48,1431.54 1032.53,1431.54 1034.58,1431.54 1036.63,1431.54 1038.68,1431.54 1040.73,1431.54 1042.78,1431.54 1044.83,1431.54 1046.88,1431.54 1048.93,1431.54 1050.98,1431.54 1053.03,1431.54 1055.08,1431.54 1057.13,1431.54 1059.18,1431.54 1061.23,1431.54 1063.28,1431.54 1065.33,1431.54 1067.38,1431.54 1069.43,1431.54 1071.48,1431.54 1073.53,1431.54 1075.58,1431.54 1077.63,1431.54 1079.68,1431.54 1081.73,1431.54 1083.78,1431.54 1085.83,1431.54 1087.88,1431.54 1089.93,1431.54 1091.98,1431.54 1094.03,1431.54 1096.08,1431.54 1098.13,1431.54 1100.18,1431.54 1102.23,1431.54 1104.28,1431.54 1106.33,1431.54 1108.38,1431.54 1110.43,1431.54 1112.49,1431.54 1114.54,1431.54 1116.59,1431.54 1118.64,1431.54 1120.69,1431.54 1122.74,1431.54 1124.79,1431.54 1126.84,1431.54 1128.89,1431.54 1130.94,1431.54 1132.99,1431.54 1135.04,1431.54 1137.09,1431.54 1139.14,1431.54 1141.19,1431.54 1143.24,1431.54 1145.29,1431.54 1147.34,1431.54 1149.39,1431.54 1151.44,1431.54 1153.49,1431.54 1155.54,1431.54 1157.59,1431.54 1159.64,1431.54 1161.69,1431.54 1163.74,1431.54 1165.79,1431.54 1167.84,1431.54 1169.89,1431.54 1171.94,1431.54 1173.99,1431.54 1176.04,1431.54 1178.09,1431.54 1180.14,1431.54 1182.19,1431.54 1184.24,1431.54 1186.29,1431.54 1188.34,1431.54 1190.39,1431.54 1192.44,1431.54 1194.49,1431.54 1196.54,1431.54 1198.59,1431.54 1200.64,1431.54 1202.69,1431.54 1204.74,1431.54 1206.79,1431.54 1208.84,1431.54 1210.89,1431.54 1212.94,1431.54 1214.99,1431.54 1217.04,1431.54 1219.09,1431.54 1221.14,1431.54 1223.19,1431.54 1225.24,1431.54 1227.29,1431.54 1229.34,1431.54 1231.39,1431.54 1233.44,1431.54 1235.49,1431.54 1237.54,1431.54 1239.59,1431.54 1241.64,1431.54 1243.69,1431.54 1245.74,1431.54 1247.79,1431.54 1249.84,1431.54 1251.89,1431.54 1253.94,1431.54 1255.99,1431.54 1258.04,1431.54 1260.09,1431.54 1262.14,1431.54 1264.2,1431.54 1266.25,1431.54 1268.3,1431.54 1270.35,1431.54 1272.4,1431.54 1274.45,1431.54 1276.5,1431.54 1278.55,1431.54 1280.6,1431.54 1282.65,1431.54 1284.7,1431.54 1286.75,1431.54 1288.8,1431.54 1290.85,1431.54 1292.9,1431.54 1294.95,1431.54 1297,1431.54 1299.05,1431.54 1301.1,1431.54 1303.15,1431.54 1305.2,1431.54 1307.25,1431.54 1309.3,1431.54 1311.35,1431.54 1313.4,1431.54 1315.45,1431.54 1317.5,1431.54 1319.55,1431.54 1321.6,1431.54 1323.65,1431.54 1325.7,1431.54 1327.75,1431.54 1329.8,1431.54 1331.85,1431.54 1333.9,1431.54 1335.95,1431.54 1338,1431.54 1340.05,1431.54 1342.1,1431.54 1344.15,1431.54 1346.2,1431.54 1348.25,1431.54 1350.3,1431.54 1352.35,1431.54 1354.4,1431.54 1356.45,1431.54 1358.5,1431.54 1360.55,1431.54 1362.6,1431.54 1364.65,1431.54 1366.7,1431.54 1368.75,1431.54 1370.8,1431.54 1372.85,1431.54 1374.9,1431.54 1376.95,1431.54 1379,1431.54 1381.05,1431.54 1383.1,1431.54 1385.15,1431.54 1387.2,1431.54 1389.25,1431.54 1391.3,1431.54 1393.35,1431.54 1395.4,1431.54 1397.45,1431.54 1399.5,1431.54 1401.55,1431.54 1403.6,1431.54 1405.65,1431.54 1407.7,1431.54 1409.75,1431.54 1411.8,1431.54 1413.86,1431.54 1415.91,1431.54 1417.96,1431.54 1420.01,1431.54 1422.06,1431.54 1424.11,1431.54 1426.16,1431.54 1428.21,1431.54 1430.26,1431.54 1432.31,1431.54 1434.36,1431.54 1436.41,1431.54 1438.46,1431.54 1440.51,1431.54 1442.56,1431.54 1444.61,1431.54 1446.66,1431.54 1448.71,1431.54 1450.76,1431.54 1452.81,1431.54 1454.86,1431.54 1456.91,1431.54 1458.96,1431.54 1461.01,1431.54 1463.06,1431.54 1465.11,1431.54 1467.16,1431.54 1469.21,1431.54 1471.26,1431.54 1473.31,1431.54 1475.36,1431.54 1477.41,1431.54 1479.46,1431.54 1481.51,1431.54 1483.56,1431.54 1485.61,1431.54 1487.66,1431.54 1489.71,1431.54 1491.76,1431.54 1493.81,1431.54 1495.86,1431.54 1497.91,1431.54 1499.96,1431.54 1502.01,1431.54 1504.06,1431.54 1506.11,1431.54 1508.16,1431.54 1510.21,1431.54 1512.26,1431.54 1514.31,1431.54 1516.36,1431.54 1518.41,1431.54 1520.46,1431.54 1522.51,1431.54 1524.56,1431.54 1526.61,1431.54 1528.66,1431.54 1530.71,1431.54 1532.76,1431.54 1534.81,1431.54 1536.86,1431.54 1538.91,1431.54 1540.96,1431.54 1543.01,1431.54 1545.06,1431.54 1547.11,1431.54 1549.16,1431.54 1551.21,1431.54 1553.26,1431.54 1555.31,1431.54 1557.36,1431.54 1559.41,1431.54 1561.46,1431.54 1563.51,1431.54 1565.57,1431.54 1567.62,1431.54 1569.67,1431.54 1571.72,1431.54 1573.77,1431.54 1575.82,1431.54 1577.87,1431.54 1579.92,1431.54 1581.97,1431.54 1584.02,1431.54 1586.07,1431.54 1588.12,1431.54 1590.17,1431.54 1592.22,1431.54 1594.27,1431.54 1596.32,1431.54 1598.37,1431.54 1600.42,1431.54 1602.47,1431.54 1604.52,1431.54 1606.57,1431.54 1608.62,1431.54 1610.67,1431.54 1612.72,1431.54 1614.77,1431.54 1616.82,1431.54 1618.87,1431.54 1620.92,1431.54 1622.97,1431.54 1625.02,1431.54 1627.07,1431.54 1629.12,1431.54 1631.17,1431.54 1633.22,1431.54 1635.27,1431.54 1637.32,1431.54 1639.37,1431.54 1641.42,1431.54 1643.47,1431.54 1645.52,1431.54 1647.57,1431.54 1649.62,1431.54 1651.67,1431.54 1653.72,1431.54 1655.77,1431.54 1657.82,1431.54 1659.87,1431.54 1661.92,1431.54 1663.97,1431.54 1666.02,1431.54 1668.07,1431.54 1670.12,1431.54 1672.17,1431.54 1674.22,1431.54 1676.27,1431.54 1678.32,1431.54 1680.37,1431.54 1682.42,1431.54 1684.47,1431.54 1686.52,1431.54 1688.57,1431.54 1690.62,1431.54 1692.67,1431.54 1694.72,1431.54 1696.77,1431.54 1698.82,1431.54 1700.87,1431.54 1702.92,1431.54 1704.97,1431.54 1707.02,1431.54 1709.07,1431.54 1711.12,1431.54 1713.17,1431.54 1715.23,1431.54 1717.28,1431.54 1719.33,1431.54 1721.38,1431.54 1723.43,1431.54 1725.48,1431.54 1727.53,1431.54 1729.58,1431.54 1731.63,1431.54 1733.68,1431.54 1735.73,1431.54 1737.78,1431.54 1739.83,1431.54 1741.88,1431.54 1743.93,1431.54 1745.98,1431.54 1748.03,1431.54 1750.08,1431.54 1752.13,1431.54 1754.18,1431.54 1756.23,1431.54 1758.28,1431.54 1760.33,1431.54 1762.38,1431.54 1764.43,1431.54 1766.48,1431.54 1768.53,1431.54 1770.58,1431.54 1772.63,1431.54 1774.68,1431.54 1776.73,1431.54 1778.78,1431.54 1780.83,1431.54 1782.88,1431.54 1784.93,1431.54 1786.98,1431.54 1789.03,1431.54 1791.08,1431.54 1793.13,1431.54 1795.18,1431.54 1797.23,1431.54 1799.28,1431.54 1801.33,1431.54 1803.38,1431.54 1805.43,1431.54 1807.48,1431.54 1809.53,1431.54 1811.58,1431.54 1813.63,1431.54 1815.68,1431.54 1817.73,1431.54 1819.78,1431.54 1821.83,1431.54 1823.88,1431.54 1825.93,1431.54 1827.98,1431.54 1830.03,1431.54 1832.08,1431.54 1834.13,1431.54 1836.18,1431.54 1838.23,1431.54 1840.28,1431.54 1842.33,1431.54 1844.38,1431.54 1846.43,1431.54 1848.48,1431.54 1850.53,1431.54 1852.58,1431.54 1854.63,1431.54 1856.68,1431.54 1858.73,1431.54 1860.78,1431.54 1862.83,1431.54 1864.89,1431.54 1866.94,1431.54 1868.99,1431.54 1871.04,1431.54 1873.09,1431.54 1875.14,1431.54 1877.19,1431.54 1879.24,1431.54 1881.29,1431.54 1883.34,1431.54 1885.39,1431.54 1887.44,1431.54 1889.49,1431.54 1891.54,1431.54 1893.59,1431.54 1895.64,1431.54 1897.69,1431.54 1899.74,1431.54 1901.79,1431.54 1903.84,1431.54 1905.89,1431.54 1907.94,1431.54 1909.99,1431.54 1912.04,1431.54 1914.09,1431.54 1916.14,1431.54 1918.19,1431.54 1920.24,1431.54 1922.29,1431.54 1924.34,1431.54 1926.39,1431.54 1928.44,1431.54 1930.49,1431.54 1932.54,1431.54 1934.59,1431.54 1936.64,1431.54 1938.69,1431.54 1940.74,1431.54 1942.79,1431.54 1944.84,1431.54 1946.89,1431.54 1948.94,1431.54 1950.99,1431.54 1953.04,1431.54 1955.09,1431.54 1957.14,1431.54 1959.19,1431.54 1961.24,1431.54 1963.29,1431.54 1965.34,1431.54 1967.39,1431.54 1969.44,1431.54 1971.49,1431.54 1973.54,1431.54 1975.59,1431.54 1977.64,1431.54 1979.69,1431.54 1981.74,1431.54 1983.79,1431.54 1985.84,1431.54 1987.89,1431.54 1989.94,1431.54 1991.99,1431.54 1994.04,1431.54 1996.09,1431.54 1998.14,1431.54 2000.19,1431.54 2002.24,1431.54 2004.29,1431.54 2006.34,1431.54 2008.39,1431.54 2010.44,1431.54 2012.49,1431.54 2014.54,1431.54 2016.6,1431.54 2018.65,1431.54 2020.7,1431.54 2022.75,1431.54 2024.8,1431.54 2026.85,1431.54 2028.9,1431.54 2030.95,1431.54 2033,1431.54 2035.05,1431.54 2037.1,1431.54 2039.15,1431.54 2041.2,1431.54 2043.25,1431.54 2045.3,1431.54 2047.35,1431.54 2049.4,1431.54 2051.45,1431.54 2053.5,1431.54 2055.55,1431.54 2057.6,1431.54 2059.65,1431.54 2061.7,1431.54 2063.75,1431.54 2065.8,1431.54 2067.85,1431.54 2069.9,1431.54 2071.95,1431.54 2074,1431.54 2076.05,1431.54 2078.1,1431.54 2080.15,1431.54 2082.2,1431.54 2084.25,1431.54 2086.3,1431.54 2088.35,1431.54 2090.4,1431.54 2092.45,1431.54 2094.5,1431.54 2096.55,1431.54 2098.6,1431.54 2100.65,1431.54 2102.7,1431.54 2104.75,1431.54 2106.8,1431.54 2108.85,1431.54 2110.9,1431.54 2112.95,1431.54 2115,1431.54 2117.05,1431.54 2119.1,1431.54 2121.15,1431.54 2123.2,1431.54 2125.25,1431.54 2127.3,1431.54 2129.35,1431.54 2131.4,1431.54 2133.45,1431.54 2135.5,1431.54 2137.55,1431.54 2139.6,1431.54 2141.65,1431.54 2143.7,1431.54 2145.75,1431.54 2147.8,1431.54 2149.85,1431.54 2151.9,1431.54 2153.95,1431.54 2156,1431.54 2158.05,1431.54 2160.1,1431.54 2162.15,1431.54 2164.2,1431.54 2166.26,1431.54 2168.31,1431.54 2170.36,1431.54 2172.41,1431.54 2174.46,1431.54 2176.51,1431.54 2178.56,1431.54 2180.61,1431.54 2182.66,1431.54 2184.71,1431.54 2186.76,1431.54 2188.81,1431.54 2190.86,1431.54 2192.91,1431.54 2194.96,1431.54 2197.01,1431.54 2199.06,1431.54 2201.11,1431.54 2203.16,1431.54 2205.21,1431.54 2207.26,1431.54 2209.31,1431.54 2211.36,1431.54 2213.41,1431.54 2215.46,1431.54 2217.51,1431.54 2219.56,1431.54 2221.61,1431.54 2223.66,1431.54 2225.71,1431.54 2227.76,1431.54 2229.81,1431.54 2231.86,1431.54 2233.91,1431.54 2235.96,1431.54 2238.01,1431.54 2240.06,1431.54 2242.11,1431.54 2244.16,1431.54 2246.21,1431.54 2248.26,1431.54 2250.31,1431.54 2252.36,1431.54 2254.41,1431.54 2256.46,1431.54 2258.51,1431.54 2260.56,1431.54 2262.61,1431.54 2264.66,1431.54 2266.71,1431.54 2268.76,1431.54 2270.81,1431.54 2272.86,1431.54 2274.91,1431.54 2276.96,1431.54 2279.01,1431.54 2281.06,1431.54 2283.11,1431.54 2285.16,1431.54 2287.21,1431.54 2289.26,1431.54 2291.31,1431.54 \"/>\n",
       "<polyline clip-path=\"url(#clip062)\" style=\"stroke:#e26f46; stroke-linecap:round; stroke-linejoin:round; stroke-width:4; stroke-opacity:1; fill:none\" points=\"243.227,1077.56 245.277,1088.7 247.328,1102.81 249.378,1119.23 251.428,1137.52 253.478,1157.4 255.528,1178.64 257.578,1201.09 259.628,1224.62 261.679,1249.13 263.729,1274.53 265.779,1300.74 267.829,1327.72 269.879,1355.39 271.929,1383.71 273.979,1412.81 \"/>\n",
       "<polyline clip-path=\"url(#clip062)\" style=\"stroke:#e26f46; stroke-linecap:round; stroke-linejoin:round; stroke-width:4; stroke-opacity:1; fill:none\" points=\"278.08,1445.72 280.13,1445.72 282.18,1445.72 284.23,1445.72 286.28,1445.72 288.33,1445.72 290.38,1445.72 292.431,1445.72 294.481,1445.72 296.531,1445.72 298.581,1445.72 300.631,1445.72 302.681,1445.72 304.731,1445.72 306.782,1445.72 308.832,1445.72 310.882,1445.72 312.932,1445.72 314.982,1445.72 317.032,1445.72 319.082,1445.72 321.132,1445.72 323.183,1445.72 325.233,1445.72 327.283,1445.72 329.333,1445.72 331.383,1445.72 333.433,1445.72 335.483,1445.72 337.534,1445.72 339.584,1445.72 341.634,1445.72 343.684,1445.72 345.734,1445.72 347.784,1445.72 349.834,1445.72 351.885,1445.72 353.935,1445.72 355.985,1445.72 358.035,1445.72 360.085,1445.72 362.135,1445.72 364.185,1445.72 366.235,1445.72 368.286,1445.72 370.336,1445.72 372.386,1445.72 374.436,1445.72 376.486,1445.72 378.536,1445.72 380.586,1445.72 382.637,1445.72 384.687,1445.72 386.737,1445.72 388.787,1445.72 390.837,1445.72 392.887,1445.72 394.937,1445.72 396.988,1445.72 399.038,1445.72 401.088,1445.72 403.138,1445.72 405.188,1445.72 407.238,1445.72 409.288,1445.72 411.338,1445.72 413.389,1445.72 415.439,1445.72 417.489,1445.72 419.539,1445.72 421.589,1445.72 423.639,1445.72 425.689,1445.72 427.74,1445.72 429.79,1445.72 431.84,1445.72 433.89,1445.72 435.94,1445.72 437.99,1445.72 440.04,1445.72 442.091,1445.72 444.141,1445.72 446.191,1445.72 448.241,1445.72 450.291,1445.72 452.341,1445.72 454.391,1445.72 456.441,1445.72 458.492,1445.72 460.542,1445.72 462.592,1445.72 464.642,1445.72 466.692,1445.72 468.742,1445.72 470.792,1445.72 472.843,1445.72 474.893,1445.72 476.943,1445.72 478.993,1445.72 481.043,1445.72 483.093,1445.72 485.143,1445.72 487.194,1445.72 489.244,1445.72 491.294,1445.72 493.344,1445.72 495.394,1445.72 497.444,1445.72 499.494,1445.72 501.544,1445.72 503.595,1445.72 505.645,1445.72 507.695,1445.72 509.745,1445.72 511.795,1445.72 513.845,1445.72 515.895,1445.72 517.946,1445.72 519.996,1445.72 522.046,1445.72 524.096,1445.72 526.146,1445.72 528.196,1445.72 530.246,1445.72 532.297,1445.72 534.347,1445.72 536.397,1445.72 538.447,1445.72 540.497,1445.72 542.547,1445.72 544.597,1445.72 546.647,1445.72 548.698,1445.72 550.748,1445.72 552.798,1445.72 554.848,1445.72 556.898,1445.72 558.948,1445.72 560.998,1445.72 563.049,1445.72 565.099,1445.72 567.149,1445.72 569.199,1445.72 571.249,1445.72 573.299,1445.72 575.349,1445.72 577.4,1445.72 579.45,1445.72 581.5,1445.72 583.55,1445.72 585.6,1445.72 587.65,1445.72 589.7,1445.72 591.75,1445.72 593.801,1445.72 595.851,1445.72 597.901,1445.72 599.951,1445.72 602.001,1445.72 604.051,1445.72 606.101,1445.72 608.152,1445.72 610.202,1445.72 612.252,1445.72 614.302,1445.72 616.352,1445.72 618.402,1445.72 620.452,1445.72 622.502,1445.72 624.553,1445.72 626.603,1445.72 628.653,1445.72 630.703,1445.72 632.753,1445.72 634.803,1445.72 636.853,1445.72 638.904,1445.72 640.954,1445.72 643.004,1445.72 645.054,1445.72 647.104,1445.72 649.154,1445.72 651.204,1445.72 653.255,1445.72 655.305,1445.72 657.355,1445.72 659.405,1445.72 661.455,1445.72 663.505,1445.72 665.555,1445.72 667.605,1445.72 669.656,1445.72 671.706,1445.72 673.756,1445.72 675.806,1445.72 677.856,1445.72 679.906,1445.72 681.956,1445.72 684.007,1445.72 686.057,1445.72 688.107,1445.72 690.157,1445.72 692.207,1445.72 694.257,1445.72 696.307,1445.72 698.358,1445.72 700.408,1445.72 702.458,1445.72 704.508,1445.72 706.558,1445.72 708.608,1445.72 710.658,1445.72 712.708,1445.72 714.759,1445.72 716.809,1445.72 718.859,1445.72 720.909,1445.72 722.959,1445.72 725.009,1445.72 727.059,1445.72 729.11,1445.72 731.16,1445.72 733.21,1445.72 735.26,1445.72 737.31,1445.72 739.36,1445.72 741.41,1445.72 743.461,1445.72 745.511,1445.72 747.561,1445.72 749.611,1445.72 751.661,1445.72 753.711,1445.72 755.761,1445.72 757.811,1445.72 759.862,1445.72 761.912,1445.72 763.962,1445.72 766.012,1445.72 768.062,1445.72 770.112,1445.72 772.162,1445.72 774.213,1445.72 776.263,1445.72 778.313,1445.72 780.363,1445.72 782.413,1445.72 784.463,1445.72 786.513,1445.72 788.564,1445.72 790.614,1445.72 792.664,1445.72 794.714,1445.72 796.764,1445.72 798.814,1445.72 800.864,1445.72 802.914,1445.72 804.965,1445.72 807.015,1445.72 809.065,1445.72 811.115,1445.72 813.165,1445.72 815.215,1445.72 817.265,1445.72 819.316,1445.72 821.366,1445.72 823.416,1445.72 825.466,1445.72 827.516,1445.72 829.566,1445.72 831.616,1445.72 833.667,1445.72 835.717,1445.72 837.767,1445.72 839.817,1445.72 841.867,1445.72 843.917,1445.72 845.967,1445.72 848.017,1445.72 850.068,1445.72 852.118,1445.72 854.168,1445.72 856.218,1445.72 858.268,1445.72 860.318,1445.72 862.368,1445.72 864.419,1445.72 866.469,1445.72 868.519,1445.72 870.569,1445.72 872.619,1445.72 874.669,1445.72 876.719,1445.72 878.77,1445.72 880.82,1445.72 882.87,1445.72 884.92,1445.72 886.97,1445.72 889.02,1445.72 891.07,1445.72 893.12,1445.72 895.171,1445.72 897.221,1445.72 899.271,1445.72 901.321,1445.72 903.371,1445.72 905.421,1445.72 907.471,1445.72 909.522,1445.72 911.572,1445.72 913.622,1445.72 915.672,1445.72 917.722,1445.72 919.772,1445.72 921.822,1445.72 923.873,1445.72 925.923,1445.72 927.973,1445.72 930.023,1445.72 932.073,1445.72 934.123,1445.72 936.173,1445.72 938.223,1445.72 940.274,1445.72 942.324,1445.72 944.374,1445.72 946.424,1445.72 948.474,1445.72 950.524,1445.72 952.574,1445.72 954.625,1445.72 956.675,1445.72 958.725,1445.72 960.775,1445.72 962.825,1445.72 964.875,1445.72 966.925,1445.72 968.976,1445.72 971.026,1445.72 973.076,1445.72 975.126,1445.72 977.176,1445.72 979.226,1445.72 981.276,1445.72 983.326,1445.72 985.377,1445.72 987.427,1445.72 989.477,1445.72 991.527,1445.72 993.577,1445.72 995.627,1445.72 997.677,1445.72 999.728,1445.72 1001.78,1445.72 1003.83,1445.72 1005.88,1445.72 1007.93,1445.72 1009.98,1445.72 1012.03,1445.72 1014.08,1445.72 1016.13,1445.72 1018.18,1445.72 1020.23,1445.72 1022.28,1445.72 1024.33,1445.72 1026.38,1445.72 1028.43,1445.72 1030.48,1445.72 1032.53,1445.72 1034.58,1445.72 1036.63,1445.72 1038.68,1445.72 1040.73,1445.72 1042.78,1445.72 1044.83,1445.72 1046.88,1445.72 1048.93,1445.72 1050.98,1445.72 1053.03,1445.72 1055.08,1445.72 1057.13,1445.72 1059.18,1445.72 1061.23,1445.72 1063.28,1445.72 1065.33,1445.72 1067.38,1445.72 1069.43,1445.72 1071.48,1445.72 1073.53,1445.72 1075.58,1445.72 1077.63,1445.72 1079.68,1445.72 1081.73,1445.72 1083.78,1445.72 1085.83,1445.72 1087.88,1445.72 1089.93,1445.72 1091.98,1445.72 1094.03,1445.72 1096.08,1445.72 1098.13,1445.72 1100.18,1445.72 1102.23,1445.72 1104.28,1445.72 1106.33,1445.72 1108.38,1445.72 1110.43,1445.72 1112.49,1445.72 1114.54,1445.72 1116.59,1445.72 1118.64,1445.72 1120.69,1445.72 1122.74,1445.72 1124.79,1445.72 1126.84,1445.72 1128.89,1445.72 1130.94,1445.72 1132.99,1445.72 1135.04,1445.72 1137.09,1445.72 1139.14,1445.72 1141.19,1445.72 1143.24,1445.72 1145.29,1445.72 1147.34,1445.72 1149.39,1445.72 1151.44,1445.72 1153.49,1445.72 1155.54,1445.72 1157.59,1445.72 1159.64,1445.72 1161.69,1445.72 1163.74,1445.72 1165.79,1445.72 1167.84,1445.72 1169.89,1445.72 1171.94,1445.72 1173.99,1445.72 1176.04,1445.72 1178.09,1445.72 1180.14,1445.72 1182.19,1445.72 1184.24,1445.72 1186.29,1445.72 1188.34,1445.72 1190.39,1445.72 1192.44,1445.72 1194.49,1445.72 1196.54,1445.72 1198.59,1445.72 1200.64,1445.72 1202.69,1445.72 1204.74,1445.72 1206.79,1445.72 1208.84,1445.72 1210.89,1445.72 1212.94,1445.72 1214.99,1445.72 1217.04,1445.72 1219.09,1445.72 1221.14,1445.72 1223.19,1445.72 1225.24,1445.72 1227.29,1445.72 1229.34,1445.72 1231.39,1445.72 1233.44,1445.72 1235.49,1445.72 1237.54,1445.72 1239.59,1445.72 1241.64,1445.72 1243.69,1445.72 1245.74,1445.72 1247.79,1445.72 1249.84,1445.72 1251.89,1445.72 1253.94,1445.72 1255.99,1445.72 1258.04,1445.72 1260.09,1445.72 1262.14,1445.72 1264.2,1445.72 1266.25,1445.72 1268.3,1445.72 1270.35,1445.72 1272.4,1445.72 1274.45,1445.72 1276.5,1445.72 1278.55,1445.72 1280.6,1445.72 1282.65,1445.72 1284.7,1445.72 1286.75,1445.72 1288.8,1445.72 1290.85,1445.72 1292.9,1445.72 1294.95,1445.72 1297,1445.72 1299.05,1445.72 1301.1,1445.72 1303.15,1445.72 1305.2,1445.72 1307.25,1445.72 1309.3,1445.72 1311.35,1445.72 1313.4,1445.72 1315.45,1445.72 1317.5,1445.72 1319.55,1445.72 1321.6,1445.72 1323.65,1445.72 1325.7,1445.72 1327.75,1445.72 1329.8,1445.72 1331.85,1445.72 1333.9,1445.72 1335.95,1445.72 1338,1445.72 1340.05,1445.72 1342.1,1445.72 1344.15,1445.72 1346.2,1445.72 1348.25,1445.72 1350.3,1445.72 1352.35,1445.72 1354.4,1445.72 1356.45,1445.72 1358.5,1445.72 1360.55,1445.72 1362.6,1445.72 1364.65,1445.72 1366.7,1445.72 1368.75,1445.72 1370.8,1445.72 1372.85,1445.72 1374.9,1445.72 1376.95,1445.72 1379,1445.72 1381.05,1445.72 1383.1,1445.72 1385.15,1445.72 1387.2,1445.72 1389.25,1445.72 1391.3,1445.72 1393.35,1445.72 1395.4,1445.72 1397.45,1445.72 1399.5,1445.72 1401.55,1445.72 1403.6,1445.72 1405.65,1445.72 1407.7,1445.72 1409.75,1445.72 1411.8,1445.72 1413.86,1445.72 1415.91,1445.72 1417.96,1445.72 1420.01,1445.72 1422.06,1445.72 1424.11,1445.72 1426.16,1445.72 1428.21,1445.72 1430.26,1445.72 1432.31,1445.72 1434.36,1445.72 1436.41,1445.72 1438.46,1445.72 1440.51,1445.72 1442.56,1445.72 1444.61,1445.72 1446.66,1445.72 1448.71,1445.72 1450.76,1445.72 1452.81,1445.72 1454.86,1445.72 1456.91,1445.72 1458.96,1445.72 1461.01,1445.72 1463.06,1445.72 1465.11,1445.72 1467.16,1445.72 1469.21,1445.72 1471.26,1445.72 1473.31,1445.72 1475.36,1445.72 1477.41,1445.72 1479.46,1445.72 1481.51,1445.72 1483.56,1445.72 1485.61,1445.72 1487.66,1445.72 1489.71,1445.72 1491.76,1445.72 1493.81,1445.72 1495.86,1445.72 1497.91,1445.72 1499.96,1445.72 1502.01,1445.72 1504.06,1445.72 1506.11,1445.72 1508.16,1445.72 1510.21,1445.72 1512.26,1445.72 1514.31,1445.72 1516.36,1445.72 1518.41,1445.72 1520.46,1445.72 1522.51,1445.72 1524.56,1445.72 1526.61,1445.72 1528.66,1445.72 1530.71,1445.72 1532.76,1445.72 1534.81,1445.72 1536.86,1445.72 1538.91,1445.72 1540.96,1445.72 1543.01,1445.72 1545.06,1445.72 1547.11,1445.72 1549.16,1445.72 1551.21,1445.72 1553.26,1445.72 1555.31,1445.72 1557.36,1445.72 1559.41,1445.72 1561.46,1445.72 1563.51,1445.72 1565.57,1445.72 1567.62,1445.72 1569.67,1445.72 1571.72,1445.72 1573.77,1445.72 1575.82,1445.72 1577.87,1445.72 1579.92,1445.72 1581.97,1445.72 1584.02,1445.72 1586.07,1445.72 1588.12,1445.72 1590.17,1445.72 1592.22,1445.72 1594.27,1445.72 1596.32,1445.72 1598.37,1445.72 1600.42,1445.72 1602.47,1445.72 1604.52,1445.72 1606.57,1445.72 1608.62,1445.72 1610.67,1445.72 1612.72,1445.72 1614.77,1445.72 1616.82,1445.72 1618.87,1445.72 1620.92,1445.72 1622.97,1445.72 1625.02,1445.72 1627.07,1445.72 1629.12,1445.72 1631.17,1445.72 1633.22,1445.72 1635.27,1445.72 1637.32,1445.72 1639.37,1445.72 1641.42,1445.72 1643.47,1445.72 1645.52,1445.72 1647.57,1445.72 1649.62,1445.72 1651.67,1445.72 1653.72,1445.72 1655.77,1445.72 1657.82,1445.72 1659.87,1445.72 1661.92,1445.72 1663.97,1445.72 1666.02,1445.72 1668.07,1445.72 1670.12,1445.72 1672.17,1445.72 1674.22,1445.72 1676.27,1445.72 1678.32,1445.72 1680.37,1445.72 1682.42,1445.72 1684.47,1445.72 1686.52,1445.72 1688.57,1445.72 1690.62,1445.72 1692.67,1445.72 1694.72,1445.72 1696.77,1445.72 1698.82,1445.72 1700.87,1445.72 1702.92,1445.72 1704.97,1445.72 1707.02,1445.72 1709.07,1445.72 1711.12,1445.72 1713.17,1445.72 1715.23,1445.72 1717.28,1445.72 1719.33,1445.72 1721.38,1445.72 1723.43,1445.72 1725.48,1445.72 1727.53,1445.72 1729.58,1445.72 1731.63,1445.72 1733.68,1445.72 1735.73,1445.72 1737.78,1445.72 1739.83,1445.72 1741.88,1445.72 1743.93,1445.72 1745.98,1445.72 1748.03,1445.72 1750.08,1445.72 1752.13,1445.72 1754.18,1445.72 1756.23,1445.72 1758.28,1445.72 1760.33,1445.72 1762.38,1445.72 1764.43,1445.72 1766.48,1445.72 1768.53,1445.72 1770.58,1445.72 1772.63,1445.72 1774.68,1445.72 1776.73,1445.72 1778.78,1445.72 1780.83,1445.72 1782.88,1445.72 1784.93,1445.72 1786.98,1445.72 1789.03,1445.72 1791.08,1445.72 1793.13,1445.72 1795.18,1445.72 1797.23,1445.72 1799.28,1445.72 1801.33,1445.72 1803.38,1445.72 1805.43,1445.72 1807.48,1445.72 1809.53,1445.72 1811.58,1445.72 1813.63,1445.72 1815.68,1445.72 1817.73,1445.72 1819.78,1445.72 1821.83,1445.72 1823.88,1445.72 1825.93,1445.72 1827.98,1445.72 1830.03,1445.72 1832.08,1445.72 1834.13,1445.72 1836.18,1445.72 1838.23,1445.72 1840.28,1445.72 1842.33,1445.72 1844.38,1445.72 1846.43,1445.72 1848.48,1445.72 1850.53,1445.72 1852.58,1445.72 1854.63,1445.72 1856.68,1445.72 1858.73,1445.72 1860.78,1445.72 1862.83,1445.72 1864.89,1445.72 1866.94,1445.72 1868.99,1445.72 1871.04,1445.72 1873.09,1445.72 1875.14,1445.72 1877.19,1445.72 1879.24,1445.72 1881.29,1445.72 1883.34,1445.72 1885.39,1445.72 1887.44,1445.72 1889.49,1445.72 1891.54,1445.72 1893.59,1445.72 1895.64,1445.72 1897.69,1445.72 1899.74,1445.72 1901.79,1445.72 1903.84,1445.72 1905.89,1445.72 1907.94,1445.72 1909.99,1445.72 1912.04,1445.72 1914.09,1445.72 1916.14,1445.72 1918.19,1445.72 1920.24,1445.72 1922.29,1445.72 1924.34,1445.72 1926.39,1445.72 1928.44,1445.72 1930.49,1445.72 1932.54,1445.72 1934.59,1445.72 1936.64,1445.72 1938.69,1445.72 1940.74,1445.72 1942.79,1445.72 1944.84,1445.72 1946.89,1445.72 1948.94,1445.72 1950.99,1445.72 1953.04,1445.72 1955.09,1445.72 1957.14,1445.72 1959.19,1445.72 1961.24,1445.72 1963.29,1445.72 1965.34,1445.72 1967.39,1445.72 1969.44,1445.72 1971.49,1445.72 1973.54,1445.72 1975.59,1445.72 1977.64,1445.72 1979.69,1445.72 1981.74,1445.72 1983.79,1445.72 1985.84,1445.72 1987.89,1445.72 1989.94,1445.72 1991.99,1445.72 1994.04,1445.72 1996.09,1445.72 1998.14,1445.72 2000.19,1445.72 2002.24,1445.72 2004.29,1445.72 2006.34,1445.72 2008.39,1445.72 2010.44,1445.72 2012.49,1445.72 2014.54,1445.72 2016.6,1445.72 2018.65,1445.72 2020.7,1445.72 2022.75,1445.72 2024.8,1445.72 2026.85,1445.72 2028.9,1445.72 2030.95,1445.72 2033,1445.72 2035.05,1445.72 2037.1,1445.72 2039.15,1445.72 2041.2,1445.72 2043.25,1445.72 2045.3,1445.72 2047.35,1445.72 2049.4,1445.72 2051.45,1445.72 2053.5,1445.72 2055.55,1445.72 2057.6,1445.72 2059.65,1445.72 2061.7,1445.72 2063.75,1445.72 2065.8,1445.72 2067.85,1445.72 2069.9,1445.72 2071.95,1445.72 2074,1445.72 2076.05,1445.72 2078.1,1445.72 2080.15,1445.72 2082.2,1445.72 2084.25,1445.72 2086.3,1445.72 2088.35,1445.72 2090.4,1445.72 2092.45,1445.72 2094.5,1445.72 2096.55,1445.72 2098.6,1445.72 2100.65,1445.72 2102.7,1445.72 2104.75,1445.72 2106.8,1445.72 2108.85,1445.72 2110.9,1445.72 2112.95,1445.72 2115,1445.72 2117.05,1445.72 2119.1,1445.72 2121.15,1445.72 2123.2,1445.72 2125.25,1445.72 2127.3,1445.72 2129.35,1445.72 2131.4,1445.72 2133.45,1445.72 2135.5,1445.72 2137.55,1445.72 2139.6,1445.72 2141.65,1445.72 2143.7,1445.72 2145.75,1445.72 2147.8,1445.72 2149.85,1445.72 2151.9,1445.72 2153.95,1445.72 2156,1445.72 2158.05,1445.72 2160.1,1445.72 2162.15,1445.72 2164.2,1445.72 2166.26,1445.72 2168.31,1445.72 2170.36,1445.72 2172.41,1445.72 2174.46,1445.72 2176.51,1445.72 2178.56,1445.72 2180.61,1445.72 2182.66,1445.72 2184.71,1445.72 2186.76,1445.72 2188.81,1445.72 2190.86,1445.72 2192.91,1445.72 2194.96,1445.72 2197.01,1445.72 2199.06,1445.72 2201.11,1445.72 2203.16,1445.72 2205.21,1445.72 2207.26,1445.72 2209.31,1445.72 2211.36,1445.72 2213.41,1445.72 2215.46,1445.72 2217.51,1445.72 2219.56,1445.72 2221.61,1445.72 2223.66,1445.72 2225.71,1445.72 2227.76,1445.72 2229.81,1445.72 2231.86,1445.72 2233.91,1445.72 2235.96,1445.72 2238.01,1445.72 2240.06,1445.72 2242.11,1445.72 2244.16,1445.72 2246.21,1445.72 2248.26,1445.72 2250.31,1445.72 2252.36,1445.72 2254.41,1445.72 2256.46,1445.72 2258.51,1445.72 2260.56,1445.72 2262.61,1445.72 2264.66,1445.72 2266.71,1445.72 2268.76,1445.72 2270.81,1445.72 2272.86,1445.72 2274.91,1445.72 2276.96,1445.72 2279.01,1445.72 2281.06,1445.72 2283.11,1445.72 2285.16,1445.72 2287.21,1445.72 2289.26,1445.72 2291.31,1445.72 \"/>\n",
       "<polyline clip-path=\"url(#clip062)\" style=\"stroke:#3da44d; stroke-linecap:round; stroke-linejoin:round; stroke-width:4; stroke-opacity:1; fill:none\" points=\"243.227,1047.73 245.277,1032.23 247.328,1020.78 249.378,1012.19 251.428,1005.83 253.478,1001.28 255.528,998.259 257.578,996.565 259.628,996.041 261.679,996.565 263.729,998.036 265.779,1000.37 267.829,1003.51 269.879,1007.38 271.929,1011.93 273.979,1017.14 276.029,1022.94 278.08,1029.32 280.13,1036.23 282.18,1043.66 284.23,1051.58 286.28,1059.96 288.33,1068.78 290.38,1078.03 292.431,1087.69 294.481,1097.74 296.531,1108.17 298.581,1118.97 300.631,1130.11 302.681,1141.6 304.731,1153.41 306.782,1165.55 308.832,1177.99 310.882,1190.73 312.932,1203.76 314.982,1217.08 317.032,1230.67 319.082,1244.53 321.132,1258.65 323.183,1273.02 325.233,1287.64 327.283,1302.52 329.333,1317.58 331.383,1333.09 333.433,1347.9 335.483,1367.76 337.534,1371.44 339.584,1378.66 341.634,1376.72 343.684,1377.08 345.734,1377 347.784,1377.02 349.834,1377.02 351.885,1377.02 353.935,1377.02 355.985,1377.02 358.035,1377.02 360.085,1377.02 362.135,1377.02 364.185,1377.02 366.235,1377.02 368.286,1377.02 370.336,1377.02 372.386,1377.02 374.436,1377.02 376.486,1377.02 378.536,1377.02 380.586,1377.02 382.637,1377.02 384.687,1377.02 386.737,1377.02 388.787,1377.02 390.837,1377.02 392.887,1377.02 394.937,1377.02 396.988,1377.02 399.038,1377.02 401.088,1377.02 403.138,1377.02 405.188,1377.02 407.238,1377.02 409.288,1377.02 411.338,1377.02 413.389,1377.02 415.439,1377.02 417.489,1377.02 419.539,1377.02 421.589,1377.02 423.639,1377.02 425.689,1377.02 427.74,1377.02 429.79,1377.02 431.84,1377.02 433.89,1377.02 435.94,1377.02 437.99,1377.02 440.04,1377.02 442.091,1377.02 444.141,1377.02 446.191,1377.02 448.241,1377.02 450.291,1377.02 452.341,1377.02 454.391,1377.02 456.441,1377.02 458.492,1377.02 460.542,1377.02 462.592,1377.02 464.642,1377.02 466.692,1377.02 468.742,1377.02 470.792,1377.02 472.843,1377.02 474.893,1377.02 476.943,1377.02 478.993,1377.02 481.043,1377.02 483.093,1377.02 485.143,1377.02 487.194,1377.02 489.244,1377.02 491.294,1377.02 493.344,1377.02 495.394,1377.02 497.444,1377.02 499.494,1377.02 501.544,1377.02 503.595,1377.02 505.645,1377.02 507.695,1377.02 509.745,1377.02 511.795,1377.02 513.845,1377.02 515.895,1377.02 517.946,1377.02 519.996,1377.02 522.046,1377.02 524.096,1377.02 526.146,1377.02 528.196,1377.02 530.246,1377.02 532.297,1377.02 534.347,1377.02 536.397,1377.02 538.447,1377.02 540.497,1377.02 542.547,1377.02 544.597,1377.02 546.647,1377.02 548.698,1377.02 550.748,1377.02 552.798,1377.02 554.848,1377.02 556.898,1377.02 558.948,1377.02 560.998,1377.02 563.049,1377.02 565.099,1377.02 567.149,1377.02 569.199,1377.02 571.249,1377.02 573.299,1377.02 575.349,1377.02 577.4,1377.02 579.45,1377.02 581.5,1377.02 583.55,1377.02 585.6,1377.02 587.65,1377.02 589.7,1377.02 591.75,1377.02 593.801,1377.02 595.851,1377.02 597.901,1377.02 599.951,1377.02 602.001,1377.02 604.051,1377.02 606.101,1377.02 608.152,1377.02 610.202,1377.02 612.252,1377.02 614.302,1377.02 616.352,1377.02 618.402,1377.02 620.452,1377.02 622.502,1377.02 624.553,1377.02 626.603,1377.02 628.653,1377.02 630.703,1377.02 632.753,1377.02 634.803,1377.02 636.853,1377.02 638.904,1377.02 640.954,1377.02 643.004,1377.02 645.054,1377.02 647.104,1377.02 649.154,1377.02 651.204,1377.02 653.255,1377.02 655.305,1377.02 657.355,1377.02 659.405,1377.02 661.455,1377.02 663.505,1377.02 665.555,1377.02 667.605,1377.02 669.656,1377.02 671.706,1377.02 673.756,1377.02 675.806,1377.02 677.856,1377.02 679.906,1377.02 681.956,1377.02 684.007,1377.02 686.057,1377.02 688.107,1377.02 690.157,1377.02 692.207,1377.02 694.257,1377.02 696.307,1377.02 698.358,1377.02 700.408,1377.02 702.458,1377.02 704.508,1377.02 706.558,1377.02 708.608,1377.02 710.658,1377.02 712.708,1377.02 714.759,1377.02 716.809,1377.02 718.859,1377.02 720.909,1377.02 722.959,1377.02 725.009,1377.02 727.059,1377.02 729.11,1377.02 731.16,1377.02 733.21,1377.02 735.26,1377.02 737.31,1377.02 739.36,1377.02 741.41,1377.02 743.461,1377.02 745.511,1377.02 747.561,1377.02 749.611,1377.02 751.661,1377.02 753.711,1377.02 755.761,1377.02 757.811,1377.02 759.862,1377.02 761.912,1377.02 763.962,1377.02 766.012,1377.02 768.062,1377.02 770.112,1377.02 772.162,1377.02 774.213,1377.02 776.263,1377.02 778.313,1377.02 780.363,1377.02 782.413,1377.02 784.463,1377.02 786.513,1377.02 788.564,1377.02 790.614,1377.02 792.664,1377.02 794.714,1377.02 796.764,1377.02 798.814,1377.02 800.864,1377.02 802.914,1377.02 804.965,1377.02 807.015,1377.02 809.065,1377.02 811.115,1377.02 813.165,1377.02 815.215,1377.02 817.265,1377.02 819.316,1377.02 821.366,1377.02 823.416,1377.02 825.466,1377.02 827.516,1377.02 829.566,1377.02 831.616,1377.02 833.667,1377.02 835.717,1377.02 837.767,1377.02 839.817,1377.02 841.867,1377.02 843.917,1377.02 845.967,1377.02 848.017,1377.02 850.068,1377.02 852.118,1377.02 854.168,1377.02 856.218,1377.02 858.268,1377.02 860.318,1377.02 862.368,1377.02 864.419,1377.02 866.469,1377.02 868.519,1377.02 870.569,1377.02 872.619,1377.02 874.669,1377.02 876.719,1377.02 878.77,1377.02 880.82,1377.02 882.87,1377.02 884.92,1377.02 886.97,1377.02 889.02,1377.02 891.07,1377.02 893.12,1377.02 895.171,1377.02 897.221,1377.02 899.271,1377.02 901.321,1377.02 903.371,1377.02 905.421,1377.02 907.471,1377.02 909.522,1377.02 911.572,1377.02 913.622,1377.02 915.672,1377.02 917.722,1377.02 919.772,1377.02 921.822,1377.02 923.873,1377.02 925.923,1377.02 927.973,1377.02 930.023,1377.02 932.073,1377.02 934.123,1377.02 936.173,1377.02 938.223,1377.02 940.274,1377.02 942.324,1377.02 944.374,1377.02 946.424,1377.02 948.474,1377.02 950.524,1377.02 952.574,1377.02 954.625,1377.02 956.675,1377.02 958.725,1377.02 960.775,1377.02 962.825,1377.02 964.875,1377.02 966.925,1377.02 968.976,1377.02 971.026,1377.02 973.076,1377.02 975.126,1377.02 977.176,1377.02 979.226,1377.02 981.276,1377.02 983.326,1377.02 985.377,1377.02 987.427,1377.02 989.477,1377.02 991.527,1377.02 993.577,1377.02 995.627,1377.02 997.677,1377.02 999.728,1377.02 1001.78,1377.02 1003.83,1377.02 1005.88,1377.02 1007.93,1377.02 1009.98,1377.02 1012.03,1377.02 1014.08,1377.02 1016.13,1377.02 1018.18,1377.02 1020.23,1377.02 1022.28,1377.02 1024.33,1377.02 1026.38,1377.02 1028.43,1377.02 1030.48,1377.02 1032.53,1377.02 1034.58,1377.02 1036.63,1377.02 1038.68,1377.02 1040.73,1377.02 1042.78,1377.02 1044.83,1377.02 1046.88,1377.02 1048.93,1377.02 1050.98,1377.02 1053.03,1377.02 1055.08,1377.02 1057.13,1377.02 1059.18,1377.02 1061.23,1377.02 1063.28,1377.02 1065.33,1377.02 1067.38,1377.02 1069.43,1377.02 1071.48,1377.02 1073.53,1377.02 1075.58,1377.02 1077.63,1377.02 1079.68,1377.02 1081.73,1377.02 1083.78,1377.02 1085.83,1377.02 1087.88,1377.02 1089.93,1377.02 1091.98,1377.02 1094.03,1377.02 1096.08,1377.02 1098.13,1377.02 1100.18,1377.02 1102.23,1377.02 1104.28,1377.02 1106.33,1377.02 1108.38,1377.02 1110.43,1377.02 1112.49,1377.02 1114.54,1377.02 1116.59,1377.02 1118.64,1377.02 1120.69,1377.02 1122.74,1377.02 1124.79,1377.02 1126.84,1377.02 1128.89,1377.02 1130.94,1377.02 1132.99,1377.02 1135.04,1377.02 1137.09,1377.02 1139.14,1377.02 1141.19,1377.02 1143.24,1377.02 1145.29,1377.02 1147.34,1377.02 1149.39,1377.02 1151.44,1377.02 1153.49,1377.02 1155.54,1377.02 1157.59,1377.02 1159.64,1377.02 1161.69,1377.02 1163.74,1377.02 1165.79,1377.02 1167.84,1377.02 1169.89,1377.02 1171.94,1377.02 1173.99,1377.02 1176.04,1377.02 1178.09,1377.02 1180.14,1377.02 1182.19,1377.02 1184.24,1377.02 1186.29,1377.02 1188.34,1377.02 1190.39,1377.02 1192.44,1377.02 1194.49,1377.02 1196.54,1377.02 1198.59,1377.02 1200.64,1377.02 1202.69,1377.02 1204.74,1377.02 1206.79,1377.02 1208.84,1377.02 1210.89,1377.02 1212.94,1377.02 1214.99,1377.02 1217.04,1377.02 1219.09,1377.02 1221.14,1377.02 1223.19,1377.02 1225.24,1377.02 1227.29,1377.02 1229.34,1377.02 1231.39,1377.02 1233.44,1377.02 1235.49,1377.02 1237.54,1377.02 1239.59,1377.02 1241.64,1377.02 1243.69,1377.02 1245.74,1377.02 1247.79,1377.02 1249.84,1377.02 1251.89,1377.02 1253.94,1377.02 1255.99,1377.02 1258.04,1377.02 1260.09,1377.02 1262.14,1377.02 1264.2,1377.02 1266.25,1377.02 1268.3,1377.02 1270.35,1377.02 1272.4,1377.02 1274.45,1377.02 1276.5,1377.02 1278.55,1377.02 1280.6,1377.02 1282.65,1377.02 1284.7,1377.02 1286.75,1377.02 1288.8,1377.02 1290.85,1377.02 1292.9,1377.02 1294.95,1377.02 1297,1377.02 1299.05,1377.02 1301.1,1377.02 1303.15,1377.02 1305.2,1377.02 1307.25,1377.02 1309.3,1377.02 1311.35,1377.02 1313.4,1377.02 1315.45,1377.02 1317.5,1377.02 1319.55,1377.02 1321.6,1377.02 1323.65,1377.02 1325.7,1377.02 1327.75,1377.02 1329.8,1377.02 1331.85,1377.02 1333.9,1377.02 1335.95,1377.02 1338,1377.02 1340.05,1377.02 1342.1,1377.02 1344.15,1377.02 1346.2,1377.02 1348.25,1377.02 1350.3,1377.02 1352.35,1377.02 1354.4,1377.02 1356.45,1377.02 1358.5,1377.02 1360.55,1377.02 1362.6,1377.02 1364.65,1377.02 1366.7,1377.02 1368.75,1377.02 1370.8,1377.02 1372.85,1377.02 1374.9,1377.02 1376.95,1377.02 1379,1377.02 1381.05,1377.02 1383.1,1377.02 1385.15,1377.02 1387.2,1377.02 1389.25,1377.02 1391.3,1377.02 1393.35,1377.02 1395.4,1377.02 1397.45,1377.02 1399.5,1377.02 1401.55,1377.02 1403.6,1377.02 1405.65,1377.02 1407.7,1377.02 1409.75,1377.02 1411.8,1377.02 1413.86,1377.02 1415.91,1377.02 1417.96,1377.02 1420.01,1377.02 1422.06,1377.02 1424.11,1377.02 1426.16,1377.02 1428.21,1377.02 1430.26,1377.02 1432.31,1377.02 1434.36,1377.02 1436.41,1377.02 1438.46,1377.02 1440.51,1377.02 1442.56,1377.02 1444.61,1377.02 1446.66,1377.02 1448.71,1377.02 1450.76,1377.02 1452.81,1377.02 1454.86,1377.02 1456.91,1377.02 1458.96,1377.02 1461.01,1377.02 1463.06,1377.02 1465.11,1377.02 1467.16,1377.02 1469.21,1377.02 1471.26,1377.02 1473.31,1377.02 1475.36,1377.02 1477.41,1377.02 1479.46,1377.02 1481.51,1377.02 1483.56,1377.02 1485.61,1377.02 1487.66,1377.02 1489.71,1377.02 1491.76,1377.02 1493.81,1377.02 1495.86,1377.02 1497.91,1377.02 1499.96,1377.02 1502.01,1377.02 1504.06,1377.02 1506.11,1377.02 1508.16,1377.02 1510.21,1377.02 1512.26,1377.02 1514.31,1377.02 1516.36,1377.02 1518.41,1377.02 1520.46,1377.02 1522.51,1377.02 1524.56,1377.02 1526.61,1377.02 1528.66,1377.02 1530.71,1377.02 1532.76,1377.02 1534.81,1377.02 1536.86,1377.02 1538.91,1377.02 1540.96,1377.02 1543.01,1377.02 1545.06,1377.02 1547.11,1377.02 1549.16,1377.02 1551.21,1377.02 1553.26,1377.02 1555.31,1377.02 1557.36,1377.02 1559.41,1377.02 1561.46,1377.02 1563.51,1377.02 1565.57,1377.02 1567.62,1377.02 1569.67,1377.02 1571.72,1377.02 1573.77,1377.02 1575.82,1377.02 1577.87,1377.02 1579.92,1377.02 1581.97,1377.02 1584.02,1377.02 1586.07,1377.02 1588.12,1377.02 1590.17,1377.02 1592.22,1377.02 1594.27,1377.02 1596.32,1377.02 1598.37,1377.02 1600.42,1377.02 1602.47,1377.02 1604.52,1377.02 1606.57,1377.02 1608.62,1377.02 1610.67,1377.02 1612.72,1377.02 1614.77,1377.02 1616.82,1377.02 1618.87,1377.02 1620.92,1377.02 1622.97,1377.02 1625.02,1377.02 1627.07,1377.02 1629.12,1377.02 1631.17,1377.02 1633.22,1377.02 1635.27,1377.02 1637.32,1377.02 1639.37,1377.02 1641.42,1377.02 1643.47,1377.02 1645.52,1377.02 1647.57,1377.02 1649.62,1377.02 1651.67,1377.02 1653.72,1377.02 1655.77,1377.02 1657.82,1377.02 1659.87,1377.02 1661.92,1377.02 1663.97,1377.02 1666.02,1377.02 1668.07,1377.02 1670.12,1377.02 1672.17,1377.02 1674.22,1377.02 1676.27,1377.02 1678.32,1377.02 1680.37,1377.02 1682.42,1377.02 1684.47,1377.02 1686.52,1377.02 1688.57,1377.02 1690.62,1377.02 1692.67,1377.02 1694.72,1377.02 1696.77,1377.02 1698.82,1377.02 1700.87,1377.02 1702.92,1377.02 1704.97,1377.02 1707.02,1377.02 1709.07,1377.02 1711.12,1377.02 1713.17,1377.02 1715.23,1377.02 1717.28,1377.02 1719.33,1377.02 1721.38,1377.02 1723.43,1377.02 1725.48,1377.02 1727.53,1377.02 1729.58,1377.02 1731.63,1377.02 1733.68,1377.02 1735.73,1377.02 1737.78,1377.02 1739.83,1377.02 1741.88,1377.02 1743.93,1377.02 1745.98,1377.02 1748.03,1377.02 1750.08,1377.02 1752.13,1377.02 1754.18,1377.02 1756.23,1377.02 1758.28,1377.02 1760.33,1377.02 1762.38,1377.02 1764.43,1377.02 1766.48,1377.02 1768.53,1377.02 1770.58,1377.02 1772.63,1377.02 1774.68,1377.02 1776.73,1377.02 1778.78,1377.02 1780.83,1377.02 1782.88,1377.02 1784.93,1377.02 1786.98,1377.02 1789.03,1377.02 1791.08,1377.02 1793.13,1377.02 1795.18,1377.02 1797.23,1377.02 1799.28,1377.02 1801.33,1377.02 1803.38,1377.02 1805.43,1377.02 1807.48,1377.02 1809.53,1377.02 1811.58,1377.02 1813.63,1377.02 1815.68,1377.02 1817.73,1377.02 1819.78,1377.02 1821.83,1377.02 1823.88,1377.02 1825.93,1377.02 1827.98,1377.02 1830.03,1377.02 1832.08,1377.02 1834.13,1377.02 1836.18,1377.02 1838.23,1377.02 1840.28,1377.02 1842.33,1377.02 1844.38,1377.02 1846.43,1377.02 1848.48,1377.02 1850.53,1377.02 1852.58,1377.02 1854.63,1377.02 1856.68,1377.02 1858.73,1377.02 1860.78,1377.02 1862.83,1377.02 1864.89,1377.02 1866.94,1377.02 1868.99,1377.02 1871.04,1377.02 1873.09,1377.02 1875.14,1377.02 1877.19,1377.02 1879.24,1377.02 1881.29,1377.02 1883.34,1377.02 1885.39,1377.02 1887.44,1377.02 1889.49,1377.02 1891.54,1377.02 1893.59,1377.02 1895.64,1377.02 1897.69,1377.02 1899.74,1377.02 1901.79,1377.02 1903.84,1377.02 1905.89,1377.02 1907.94,1377.02 1909.99,1377.02 1912.04,1377.02 1914.09,1377.02 1916.14,1377.02 1918.19,1377.02 1920.24,1377.02 1922.29,1377.02 1924.34,1377.02 1926.39,1377.02 1928.44,1377.02 1930.49,1377.02 1932.54,1377.02 1934.59,1377.02 1936.64,1377.02 1938.69,1377.02 1940.74,1377.02 1942.79,1377.02 1944.84,1377.02 1946.89,1377.02 1948.94,1377.02 1950.99,1377.02 1953.04,1377.02 1955.09,1377.02 1957.14,1377.02 1959.19,1377.02 1961.24,1377.02 1963.29,1377.02 1965.34,1377.02 1967.39,1377.02 1969.44,1377.02 1971.49,1377.02 1973.54,1377.02 1975.59,1377.02 1977.64,1377.02 1979.69,1377.02 1981.74,1377.02 1983.79,1377.02 1985.84,1377.02 1987.89,1377.02 1989.94,1377.02 1991.99,1377.02 1994.04,1377.02 1996.09,1377.02 1998.14,1377.02 2000.19,1377.02 2002.24,1377.02 2004.29,1377.02 2006.34,1377.02 2008.39,1377.02 2010.44,1377.02 2012.49,1377.02 2014.54,1377.02 2016.6,1377.02 2018.65,1377.02 2020.7,1377.02 2022.75,1377.02 2024.8,1377.02 2026.85,1377.02 2028.9,1377.02 2030.95,1377.02 2033,1377.02 2035.05,1377.02 2037.1,1377.02 2039.15,1377.02 2041.2,1377.02 2043.25,1377.02 2045.3,1377.02 2047.35,1377.02 2049.4,1377.02 2051.45,1377.02 2053.5,1377.02 2055.55,1377.02 2057.6,1377.02 2059.65,1377.02 2061.7,1377.02 2063.75,1377.02 2065.8,1377.02 2067.85,1377.02 2069.9,1377.02 2071.95,1377.02 2074,1377.02 2076.05,1377.02 2078.1,1377.02 2080.15,1377.02 2082.2,1377.02 2084.25,1377.02 2086.3,1377.02 2088.35,1377.02 2090.4,1377.02 2092.45,1377.02 2094.5,1377.02 2096.55,1377.02 2098.6,1377.02 2100.65,1377.02 2102.7,1377.02 2104.75,1377.02 2106.8,1377.02 2108.85,1377.02 2110.9,1377.02 2112.95,1377.02 2115,1377.02 2117.05,1377.02 2119.1,1377.02 2121.15,1377.02 2123.2,1377.02 2125.25,1377.02 2127.3,1377.02 2129.35,1377.02 2131.4,1377.02 2133.45,1377.02 2135.5,1377.02 2137.55,1377.02 2139.6,1377.02 2141.65,1377.02 2143.7,1377.02 2145.75,1377.02 2147.8,1377.02 2149.85,1377.02 2151.9,1377.02 2153.95,1377.02 2156,1377.02 2158.05,1377.02 2160.1,1377.02 2162.15,1377.02 2164.2,1377.02 2166.26,1377.02 2168.31,1377.02 2170.36,1377.02 2172.41,1377.02 2174.46,1377.02 2176.51,1377.02 2178.56,1377.02 2180.61,1377.02 2182.66,1377.02 2184.71,1377.02 2186.76,1377.02 2188.81,1377.02 2190.86,1377.02 2192.91,1377.02 2194.96,1377.02 2197.01,1377.02 2199.06,1377.02 2201.11,1377.02 2203.16,1377.02 2205.21,1377.02 2207.26,1377.02 2209.31,1377.02 2211.36,1377.02 2213.41,1377.02 2215.46,1377.02 2217.51,1377.02 2219.56,1377.02 2221.61,1377.02 2223.66,1377.02 2225.71,1377.02 2227.76,1377.02 2229.81,1377.02 2231.86,1377.02 2233.91,1377.02 2235.96,1377.02 2238.01,1377.02 2240.06,1377.02 2242.11,1377.02 2244.16,1377.02 2246.21,1377.02 2248.26,1377.02 2250.31,1377.02 2252.36,1377.02 2254.41,1377.02 2256.46,1377.02 2258.51,1377.02 2260.56,1377.02 2262.61,1377.02 2264.66,1377.02 2266.71,1377.02 2268.76,1377.02 2270.81,1377.02 2272.86,1377.02 2274.91,1377.02 2276.96,1377.02 2279.01,1377.02 2281.06,1377.02 2283.11,1377.02 2285.16,1377.02 2287.21,1377.02 2289.26,1377.02 2291.31,1377.02 \"/>\n",
       "<polyline clip-path=\"url(#clip062)\" style=\"stroke:#c271d2; stroke-linecap:round; stroke-linejoin:round; stroke-width:4; stroke-opacity:1; fill:none\" points=\"243.227,1023.22 245.277,983.329 247.328,947.585 249.378,914.781 251.428,884.257 253.478,855.596 255.528,828.509 257.578,802.787 259.628,778.268 261.679,754.824 263.729,732.355 265.779,710.773 267.829,690.009 269.879,670.002 271.929,650.7 273.979,632.056 276.029,614.031 278.08,596.59 280.13,579.7 282.18,563.334 284.23,547.467 286.28,532.074 288.33,517.134 290.38,502.629 292.431,488.541 294.481,474.853 296.531,461.55 298.581,448.618 300.631,436.044 302.681,423.816 304.731,411.923 306.782,400.354 308.832,389.098 310.882,378.147 312.932,367.492 314.982,357.125 317.032,347.036 319.082,337.22 321.132,327.669 323.183,318.376 325.233,309.335 327.283,300.54 329.333,291.985 331.383,283.664 333.433,275.572 335.483,267.705 337.534,260.057 339.584,252.624 341.634,245.401 343.684,238.384 345.734,231.569 347.784,224.952 349.834,218.53 351.885,212.298 353.935,206.253 355.985,200.392 358.035,194.711 360.085,189.208 362.135,183.879 364.185,178.721 366.235,173.732 368.286,168.909 370.336,164.249 372.386,159.75 374.436,155.408 376.486,151.223 378.536,147.191 380.586,143.309 382.637,139.577 384.687,135.992 386.737,132.551 388.787,129.252 390.837,126.095 392.887,123.076 394.937,120.193 396.988,117.446 399.038,114.833 401.088,112.351 403.138,109.998 405.188,107.774 407.238,105.677 409.288,103.705 411.338,101.856 413.389,100.129 415.439,98.5236 417.489,97.037 419.539,95.6683 421.589,94.4161 423.639,93.2791 425.689,92.2561 427.74,91.3457 429.79,90.5467 431.84,89.858 433.89,89.2784 435.94,88.8066 437.99,88.4416 440.04,88.1823 442.091,88.0275 444.141,87.9763 446.191,88.0275 448.241,88.1802 450.291,88.4334 452.341,88.786 454.391,89.2371 456.441,89.7859 458.492,90.4312 460.542,91.1723 462.592,92.0083 464.642,92.9382 466.692,93.9613 468.742,95.0766 470.792,96.2834 472.843,97.5808 474.893,98.968 476.943,100.444 478.993,102.009 481.043,103.661 483.093,105.4 485.143,107.225 487.194,109.135 489.244,111.13 491.294,113.209 493.344,115.371 495.394,117.615 497.444,119.942 499.494,122.35 501.544,124.838 503.595,127.406 505.645,130.054 507.695,132.781 509.745,135.585 511.795,138.467 513.845,141.426 515.895,144.462 517.946,147.573 519.996,150.76 522.046,154.021 524.096,157.356 526.146,160.765 528.196,164.247 530.246,167.802 532.297,171.429 534.347,175.127 536.397,178.896 538.447,182.736 540.497,186.646 542.547,190.626 544.597,194.675 546.647,198.792 548.698,202.978 550.748,207.231 552.798,211.552 554.848,215.939 556.898,220.394 558.948,224.914 560.998,229.499 563.049,234.15 565.099,238.865 567.149,243.645 569.199,248.489 571.249,253.396 573.299,258.367 575.349,263.4 577.4,268.496 579.45,273.653 581.5,278.872 583.55,284.153 585.6,289.494 587.65,294.896 589.7,300.358 591.75,305.88 593.801,311.461 595.851,317.102 597.901,322.801 599.951,328.559 602.001,334.374 604.051,340.248 606.101,346.179 608.152,352.167 610.202,358.212 612.252,364.314 614.302,370.47 616.352,376.688 618.402,382.948 620.452,389.288 622.502,395.639 624.553,402.126 626.603,408.515 628.653,415.246 630.703,421.487 632.753,428.828 634.803,434.242 636.853,443.658 638.904,445.807 640.954,465.501 643.004,454.225 645.054,465.748 647.104,458.39 649.154,461.438 651.204,459.801 653.255,460.583 655.305,460.188 657.355,460.38 659.405,460.286 661.455,460.332 663.505,460.309 665.555,460.32 667.605,460.315 669.656,460.318 671.706,460.316 673.756,460.317 675.806,460.317 677.856,460.317 679.906,460.317 681.956,460.317 684.007,460.317 686.057,460.317 688.107,460.317 690.157,460.317 692.207,460.317 694.257,460.317 696.307,460.317 698.358,460.317 700.408,460.317 702.458,460.317 704.508,460.317 706.558,460.317 708.608,460.317 710.658,460.317 712.708,460.317 714.759,460.317 716.809,460.317 718.859,460.317 720.909,460.317 722.959,460.317 725.009,460.317 727.059,460.317 729.11,460.317 731.16,460.317 733.21,460.317 735.26,460.317 737.31,460.317 739.36,460.317 741.41,460.317 743.461,460.317 745.511,460.317 747.561,460.317 749.611,460.317 751.661,460.317 753.711,460.317 755.761,460.317 757.811,460.317 759.862,460.317 761.912,460.317 763.962,460.317 766.012,460.317 768.062,460.317 770.112,460.317 772.162,460.317 774.213,460.317 776.263,460.317 778.313,460.317 780.363,460.317 782.413,460.317 784.463,460.317 786.513,460.317 788.564,460.317 790.614,460.317 792.664,460.317 794.714,460.317 796.764,460.317 798.814,460.317 800.864,460.317 802.914,460.317 804.965,460.317 807.015,460.317 809.065,460.317 811.115,460.317 813.165,460.317 815.215,460.317 817.265,460.317 819.316,460.317 821.366,460.317 823.416,460.317 825.466,460.317 827.516,460.317 829.566,460.317 831.616,460.317 833.667,460.317 835.717,460.317 837.767,460.317 839.817,460.317 841.867,460.317 843.917,460.317 845.967,460.317 848.017,460.317 850.068,460.317 852.118,460.317 854.168,460.317 856.218,460.317 858.268,460.317 860.318,460.317 862.368,460.317 864.419,460.317 866.469,460.317 868.519,460.317 870.569,460.317 872.619,460.317 874.669,460.317 876.719,460.317 878.77,460.317 880.82,460.317 882.87,460.317 884.92,460.317 886.97,460.317 889.02,460.317 891.07,460.317 893.12,460.317 895.171,460.317 897.221,460.317 899.271,460.317 901.321,460.317 903.371,460.317 905.421,460.317 907.471,460.317 909.522,460.317 911.572,460.317 913.622,460.317 915.672,460.317 917.722,460.317 919.772,460.317 921.822,460.317 923.873,460.317 925.923,460.317 927.973,460.317 930.023,460.317 932.073,460.317 934.123,460.317 936.173,460.317 938.223,460.317 940.274,460.317 942.324,460.317 944.374,460.317 946.424,460.317 948.474,460.317 950.524,460.317 952.574,460.317 954.625,460.317 956.675,460.317 958.725,460.317 960.775,460.317 962.825,460.317 964.875,460.317 966.925,460.317 968.976,460.317 971.026,460.317 973.076,460.317 975.126,460.317 977.176,460.317 979.226,460.317 981.276,460.317 983.326,460.317 985.377,460.317 987.427,460.317 989.477,460.317 991.527,460.317 993.577,460.317 995.627,460.317 997.677,460.317 999.728,460.317 1001.78,460.317 1003.83,460.317 1005.88,460.317 1007.93,460.317 1009.98,460.317 1012.03,460.317 1014.08,460.317 1016.13,460.317 1018.18,460.317 1020.23,460.317 1022.28,460.317 1024.33,460.317 1026.38,460.317 1028.43,460.317 1030.48,460.317 1032.53,460.317 1034.58,460.317 1036.63,460.317 1038.68,460.317 1040.73,460.317 1042.78,460.317 1044.83,460.317 1046.88,460.317 1048.93,460.317 1050.98,460.317 1053.03,460.317 1055.08,460.317 1057.13,460.317 1059.18,460.317 1061.23,460.317 1063.28,460.317 1065.33,460.317 1067.38,460.317 1069.43,460.317 1071.48,460.317 1073.53,460.317 1075.58,460.317 1077.63,460.317 1079.68,460.317 1081.73,460.317 1083.78,460.317 1085.83,460.317 1087.88,460.317 1089.93,460.317 1091.98,460.317 1094.03,460.317 1096.08,460.317 1098.13,460.317 1100.18,460.317 1102.23,460.317 1104.28,460.317 1106.33,460.317 1108.38,460.317 1110.43,460.317 1112.49,460.317 1114.54,460.317 1116.59,460.317 1118.64,460.317 1120.69,460.317 1122.74,460.317 1124.79,460.317 1126.84,460.317 1128.89,460.317 1130.94,460.317 1132.99,460.317 1135.04,460.317 1137.09,460.317 1139.14,460.317 1141.19,460.317 1143.24,460.317 1145.29,460.317 1147.34,460.317 1149.39,460.317 1151.44,460.317 1153.49,460.317 1155.54,460.317 1157.59,460.317 1159.64,460.317 1161.69,460.317 1163.74,460.317 1165.79,460.317 1167.84,460.317 1169.89,460.317 1171.94,460.317 1173.99,460.317 1176.04,460.317 1178.09,460.317 1180.14,460.317 1182.19,460.317 1184.24,460.317 1186.29,460.317 1188.34,460.317 1190.39,460.317 1192.44,460.317 1194.49,460.317 1196.54,460.317 1198.59,460.317 1200.64,460.317 1202.69,460.317 1204.74,460.317 1206.79,460.317 1208.84,460.317 1210.89,460.317 1212.94,460.317 1214.99,460.317 1217.04,460.317 1219.09,460.317 1221.14,460.317 1223.19,460.317 1225.24,460.317 1227.29,460.317 1229.34,460.317 1231.39,460.317 1233.44,460.317 1235.49,460.317 1237.54,460.317 1239.59,460.317 1241.64,460.317 1243.69,460.317 1245.74,460.317 1247.79,460.317 1249.84,460.317 1251.89,460.317 1253.94,460.317 1255.99,460.317 1258.04,460.317 1260.09,460.317 1262.14,460.317 1264.2,460.317 1266.25,460.317 1268.3,460.317 1270.35,460.317 1272.4,460.317 1274.45,460.317 1276.5,460.317 1278.55,460.317 1280.6,460.317 1282.65,460.317 1284.7,460.317 1286.75,460.317 1288.8,460.317 1290.85,460.317 1292.9,460.317 1294.95,460.317 1297,460.317 1299.05,460.317 1301.1,460.317 1303.15,460.317 1305.2,460.317 1307.25,460.317 1309.3,460.317 1311.35,460.317 1313.4,460.317 1315.45,460.317 1317.5,460.317 1319.55,460.317 1321.6,460.317 1323.65,460.317 1325.7,460.317 1327.75,460.317 1329.8,460.317 1331.85,460.317 1333.9,460.317 1335.95,460.317 1338,460.317 1340.05,460.317 1342.1,460.317 1344.15,460.317 1346.2,460.317 1348.25,460.317 1350.3,460.317 1352.35,460.317 1354.4,460.317 1356.45,460.317 1358.5,460.317 1360.55,460.317 1362.6,460.317 1364.65,460.317 1366.7,460.317 1368.75,460.317 1370.8,460.317 1372.85,460.317 1374.9,460.317 1376.95,460.317 1379,460.317 1381.05,460.317 1383.1,460.317 1385.15,460.317 1387.2,460.317 1389.25,460.317 1391.3,460.317 1393.35,460.317 1395.4,460.317 1397.45,460.317 1399.5,460.317 1401.55,460.317 1403.6,460.317 1405.65,460.317 1407.7,460.317 1409.75,460.317 1411.8,460.317 1413.86,460.317 1415.91,460.317 1417.96,460.317 1420.01,460.317 1422.06,460.317 1424.11,460.317 1426.16,460.317 1428.21,460.317 1430.26,460.317 1432.31,460.317 1434.36,460.317 1436.41,460.317 1438.46,460.317 1440.51,460.317 1442.56,460.317 1444.61,460.317 1446.66,460.317 1448.71,460.317 1450.76,460.317 1452.81,460.317 1454.86,460.317 1456.91,460.317 1458.96,460.317 1461.01,460.317 1463.06,460.317 1465.11,460.317 1467.16,460.317 1469.21,460.317 1471.26,460.317 1473.31,460.317 1475.36,460.317 1477.41,460.317 1479.46,460.317 1481.51,460.317 1483.56,460.317 1485.61,460.317 1487.66,460.317 1489.71,460.317 1491.76,460.317 1493.81,460.317 1495.86,460.317 1497.91,460.317 1499.96,460.317 1502.01,460.317 1504.06,460.317 1506.11,460.317 1508.16,460.317 1510.21,460.317 1512.26,460.317 1514.31,460.317 1516.36,460.317 1518.41,460.317 1520.46,460.317 1522.51,460.317 1524.56,460.317 1526.61,460.317 1528.66,460.317 1530.71,460.317 1532.76,460.317 1534.81,460.317 1536.86,460.317 1538.91,460.317 1540.96,460.317 1543.01,460.317 1545.06,460.317 1547.11,460.317 1549.16,460.317 1551.21,460.317 1553.26,460.317 1555.31,460.317 1557.36,460.317 1559.41,460.317 1561.46,460.317 1563.51,460.317 1565.57,460.317 1567.62,460.317 1569.67,460.317 1571.72,460.317 1573.77,460.317 1575.82,460.317 1577.87,460.317 1579.92,460.317 1581.97,460.317 1584.02,460.317 1586.07,460.317 1588.12,460.317 1590.17,460.317 1592.22,460.317 1594.27,460.317 1596.32,460.317 1598.37,460.317 1600.42,460.317 1602.47,460.317 1604.52,460.317 1606.57,460.317 1608.62,460.317 1610.67,460.317 1612.72,460.317 1614.77,460.317 1616.82,460.317 1618.87,460.317 1620.92,460.317 1622.97,460.317 1625.02,460.317 1627.07,460.317 1629.12,460.317 1631.17,460.317 1633.22,460.317 1635.27,460.317 1637.32,460.317 1639.37,460.317 1641.42,460.317 1643.47,460.317 1645.52,460.317 1647.57,460.317 1649.62,460.317 1651.67,460.317 1653.72,460.317 1655.77,460.317 1657.82,460.317 1659.87,460.317 1661.92,460.317 1663.97,460.317 1666.02,460.317 1668.07,460.317 1670.12,460.317 1672.17,460.317 1674.22,460.317 1676.27,460.317 1678.32,460.317 1680.37,460.317 1682.42,460.317 1684.47,460.317 1686.52,460.317 1688.57,460.317 1690.62,460.317 1692.67,460.317 1694.72,460.317 1696.77,460.317 1698.82,460.317 1700.87,460.317 1702.92,460.317 1704.97,460.317 1707.02,460.317 1709.07,460.317 1711.12,460.317 1713.17,460.317 1715.23,460.317 1717.28,460.317 1719.33,460.317 1721.38,460.317 1723.43,460.317 1725.48,460.317 1727.53,460.317 1729.58,460.317 1731.63,460.317 1733.68,460.317 1735.73,460.317 1737.78,460.317 1739.83,460.317 1741.88,460.317 1743.93,460.317 1745.98,460.317 1748.03,460.317 1750.08,460.317 1752.13,460.317 1754.18,460.317 1756.23,460.317 1758.28,460.317 1760.33,460.317 1762.38,460.317 1764.43,460.317 1766.48,460.317 1768.53,460.317 1770.58,460.317 1772.63,460.317 1774.68,460.317 1776.73,460.317 1778.78,460.317 1780.83,460.317 1782.88,460.317 1784.93,460.317 1786.98,460.317 1789.03,460.317 1791.08,460.317 1793.13,460.317 1795.18,460.317 1797.23,460.317 1799.28,460.317 1801.33,460.317 1803.38,460.317 1805.43,460.317 1807.48,460.317 1809.53,460.317 1811.58,460.317 1813.63,460.317 1815.68,460.317 1817.73,460.317 1819.78,460.317 1821.83,460.317 1823.88,460.317 1825.93,460.317 1827.98,460.317 1830.03,460.317 1832.08,460.317 1834.13,460.317 1836.18,460.317 1838.23,460.317 1840.28,460.317 1842.33,460.317 1844.38,460.317 1846.43,460.317 1848.48,460.317 1850.53,460.317 1852.58,460.317 1854.63,460.317 1856.68,460.317 1858.73,460.317 1860.78,460.317 1862.83,460.317 1864.89,460.317 1866.94,460.317 1868.99,460.317 1871.04,460.317 1873.09,460.317 1875.14,460.317 1877.19,460.317 1879.24,460.317 1881.29,460.317 1883.34,460.317 1885.39,460.317 1887.44,460.317 1889.49,460.317 1891.54,460.317 1893.59,460.317 1895.64,460.317 1897.69,460.317 1899.74,460.317 1901.79,460.317 1903.84,460.317 1905.89,460.317 1907.94,460.317 1909.99,460.317 1912.04,460.317 1914.09,460.317 1916.14,460.317 1918.19,460.317 1920.24,460.317 1922.29,460.317 1924.34,460.317 1926.39,460.317 1928.44,460.317 1930.49,460.317 1932.54,460.317 1934.59,460.317 1936.64,460.317 1938.69,460.317 1940.74,460.317 1942.79,460.317 1944.84,460.317 1946.89,460.317 1948.94,460.317 1950.99,460.317 1953.04,460.317 1955.09,460.317 1957.14,460.317 1959.19,460.317 1961.24,460.317 1963.29,460.317 1965.34,460.317 1967.39,460.317 1969.44,460.317 1971.49,460.317 1973.54,460.317 1975.59,460.317 1977.64,460.317 1979.69,460.317 1981.74,460.317 1983.79,460.317 1985.84,460.317 1987.89,460.317 1989.94,460.317 1991.99,460.317 1994.04,460.317 1996.09,460.317 1998.14,460.317 2000.19,460.317 2002.24,460.317 2004.29,460.317 2006.34,460.317 2008.39,460.317 2010.44,460.317 2012.49,460.317 2014.54,460.317 2016.6,460.317 2018.65,460.317 2020.7,460.317 2022.75,460.317 2024.8,460.317 2026.85,460.317 2028.9,460.317 2030.95,460.317 2033,460.317 2035.05,460.317 2037.1,460.317 2039.15,460.317 2041.2,460.317 2043.25,460.317 2045.3,460.317 2047.35,460.317 2049.4,460.317 2051.45,460.317 2053.5,460.317 2055.55,460.317 2057.6,460.317 2059.65,460.317 2061.7,460.317 2063.75,460.317 2065.8,460.317 2067.85,460.317 2069.9,460.317 2071.95,460.317 2074,460.317 2076.05,460.317 2078.1,460.317 2080.15,460.317 2082.2,460.317 2084.25,460.317 2086.3,460.317 2088.35,460.317 2090.4,460.317 2092.45,460.317 2094.5,460.317 2096.55,460.317 2098.6,460.317 2100.65,460.317 2102.7,460.317 2104.75,460.317 2106.8,460.317 2108.85,460.317 2110.9,460.317 2112.95,460.317 2115,460.317 2117.05,460.317 2119.1,460.317 2121.15,460.317 2123.2,460.317 2125.25,460.317 2127.3,460.317 2129.35,460.317 2131.4,460.317 2133.45,460.317 2135.5,460.317 2137.55,460.317 2139.6,460.317 2141.65,460.317 2143.7,460.317 2145.75,460.317 2147.8,460.317 2149.85,460.317 2151.9,460.317 2153.95,460.317 2156,460.317 2158.05,460.317 2160.1,460.317 2162.15,460.317 2164.2,460.317 2166.26,460.317 2168.31,460.317 2170.36,460.317 2172.41,460.317 2174.46,460.317 2176.51,460.317 2178.56,460.317 2180.61,460.317 2182.66,460.317 2184.71,460.317 2186.76,460.317 2188.81,460.317 2190.86,460.317 2192.91,460.317 2194.96,460.317 2197.01,460.317 2199.06,460.317 2201.11,460.317 2203.16,460.317 2205.21,460.317 2207.26,460.317 2209.31,460.317 2211.36,460.317 2213.41,460.317 2215.46,460.317 2217.51,460.317 2219.56,460.317 2221.61,460.317 2223.66,460.317 2225.71,460.317 2227.76,460.317 2229.81,460.317 2231.86,460.317 2233.91,460.317 2235.96,460.317 2238.01,460.317 2240.06,460.317 2242.11,460.317 2244.16,460.317 2246.21,460.317 2248.26,460.317 2250.31,460.317 2252.36,460.317 2254.41,460.317 2256.46,460.317 2258.51,460.317 2260.56,460.317 2262.61,460.317 2264.66,460.317 2266.71,460.317 2268.76,460.317 2270.81,460.317 2272.86,460.317 2274.91,460.317 2276.96,460.317 2279.01,460.317 2281.06,460.317 2283.11,460.317 2285.16,460.317 2287.21,460.317 2289.26,460.317 2291.31,460.317 \"/>\n",
       "<path clip-path=\"url(#clip060)\" d=\"M1866.14 354.418 L2280.39 354.418 L2280.39 95.2176 L1866.14 95.2176  Z\" fill=\"#ffffff\" fill-rule=\"evenodd\" fill-opacity=\"1\"/>\n",
       "<polyline clip-path=\"url(#clip060)\" style=\"stroke:#000000; stroke-linecap:round; stroke-linejoin:round; stroke-width:4; stroke-opacity:1; fill:none\" points=\"1866.14,354.418 2280.39,354.418 2280.39,95.2176 1866.14,95.2176 1866.14,354.418 \"/>\n",
       "<polyline clip-path=\"url(#clip060)\" style=\"stroke:#009af9; stroke-linecap:round; stroke-linejoin:round; stroke-width:4; stroke-opacity:1; fill:none\" points=\"1890.26,147.058 2034.99,147.058 \"/>\n",
       "<path clip-path=\"url(#clip060)\" d=\"M2059.7 138.412 L2079.93 138.412 L2079.93 142.301 L2063.91 160.935 L2079.93 160.935 L2079.93 164.338 L2059.12 164.338 L2059.12 160.449 L2075.14 141.815 L2059.7 141.815 L2059.7 138.412 Z\" fill=\"#000000\" fill-rule=\"nonzero\" fill-opacity=\"1\" /><path clip-path=\"url(#clip060)\" d=\"M2102.06 142.81 L2131.73 142.81 L2131.73 146.699 L2102.06 146.699 L2102.06 142.81 M2102.06 152.254 L2131.73 152.254 L2131.73 156.189 L2102.06 156.189 L2102.06 152.254 Z\" fill=\"#000000\" fill-rule=\"nonzero\" fill-opacity=\"1\" /><path clip-path=\"url(#clip060)\" d=\"M2157.7 160.402 L2165.34 160.402 L2165.34 134.037 L2157.03 135.703 L2157.03 131.444 L2165.3 129.778 L2169.97 129.778 L2169.97 160.402 L2177.61 160.402 L2177.61 164.338 L2157.7 164.338 L2157.7 160.402 Z\" fill=\"#000000\" fill-rule=\"nonzero\" fill-opacity=\"1\" /><polyline clip-path=\"url(#clip060)\" style=\"stroke:#e26f46; stroke-linecap:round; stroke-linejoin:round; stroke-width:4; stroke-opacity:1; fill:none\" points=\"1890.26,198.898 2034.99,198.898 \"/>\n",
       "<path clip-path=\"url(#clip060)\" d=\"M2059.7 190.252 L2079.93 190.252 L2079.93 194.141 L2063.91 212.775 L2079.93 212.775 L2079.93 216.178 L2059.12 216.178 L2059.12 212.289 L2075.14 193.655 L2059.7 193.655 L2059.7 190.252 Z\" fill=\"#000000\" fill-rule=\"nonzero\" fill-opacity=\"1\" /><path clip-path=\"url(#clip060)\" d=\"M2102.06 194.65 L2131.73 194.65 L2131.73 198.539 L2102.06 198.539 L2102.06 194.65 M2102.06 204.094 L2131.73 204.094 L2131.73 208.029 L2102.06 208.029 L2102.06 204.094 Z\" fill=\"#000000\" fill-rule=\"nonzero\" fill-opacity=\"1\" /><path clip-path=\"url(#clip060)\" d=\"M2156.29 190.252 L2160.55 190.252 L2160.55 216.178 L2156.29 216.178 L2156.29 190.252 M2156.29 180.159 L2160.55 180.159 L2160.55 185.553 L2156.29 185.553 L2156.29 180.159 Z\" fill=\"#000000\" fill-rule=\"nonzero\" fill-opacity=\"1\" /><path clip-path=\"url(#clip060)\" d=\"M2189.65 195.229 Q2191.25 192.358 2193.47 190.993 Q2195.69 189.627 2198.7 189.627 Q2202.75 189.627 2204.95 192.474 Q2207.15 195.298 2207.15 200.529 L2207.15 216.178 L2202.87 216.178 L2202.87 200.668 Q2202.87 196.942 2201.55 195.136 Q2200.23 193.33 2197.52 193.33 Q2194.21 193.33 2192.29 195.53 Q2190.37 197.729 2190.37 201.525 L2190.37 216.178 L2186.08 216.178 L2186.08 200.668 Q2186.08 196.918 2184.76 195.136 Q2183.44 193.33 2180.69 193.33 Q2177.43 193.33 2175.5 195.553 Q2173.58 197.752 2173.58 201.525 L2173.58 216.178 L2169.3 216.178 L2169.3 190.252 L2173.58 190.252 L2173.58 194.28 Q2175.04 191.895 2177.08 190.761 Q2179.12 189.627 2181.92 189.627 Q2184.74 189.627 2186.71 191.062 Q2188.7 192.497 2189.65 195.229 Z\" fill=\"#000000\" fill-rule=\"nonzero\" fill-opacity=\"1\" /><polyline clip-path=\"url(#clip060)\" style=\"stroke:#3da44d; stroke-linecap:round; stroke-linejoin:round; stroke-width:4; stroke-opacity:1; fill:none\" points=\"1890.26,250.738 2034.99,250.738 \"/>\n",
       "<path clip-path=\"url(#clip060)\" d=\"M2059.7 242.092 L2079.93 242.092 L2079.93 245.981 L2063.91 264.615 L2079.93 264.615 L2079.93 268.018 L2059.12 268.018 L2059.12 264.129 L2075.14 245.495 L2059.7 245.495 L2059.7 242.092 Z\" fill=\"#000000\" fill-rule=\"nonzero\" fill-opacity=\"1\" /><path clip-path=\"url(#clip060)\" d=\"M2102.06 246.49 L2131.73 246.49 L2131.73 250.379 L2102.06 250.379 L2102.06 246.49 M2102.06 255.934 L2131.73 255.934 L2131.73 259.869 L2102.06 259.869 L2102.06 255.934 Z\" fill=\"#000000\" fill-rule=\"nonzero\" fill-opacity=\"1\" /><path clip-path=\"url(#clip060)\" d=\"M2154.14 253.133 L2166.62 253.133 L2166.62 256.93 L2154.14 256.93 L2154.14 253.133 Z\" fill=\"#000000\" fill-rule=\"nonzero\" fill-opacity=\"1\" /><path clip-path=\"url(#clip060)\" d=\"M2174.81 264.082 L2182.45 264.082 L2182.45 237.717 L2174.14 239.383 L2174.14 235.124 L2182.4 233.458 L2187.08 233.458 L2187.08 264.082 L2194.72 264.082 L2194.72 268.018 L2174.81 268.018 L2174.81 264.082 Z\" fill=\"#000000\" fill-rule=\"nonzero\" fill-opacity=\"1\" /><path clip-path=\"url(#clip060)\" d=\"M2214.16 236.536 Q2210.55 236.536 2208.72 240.101 Q2206.92 243.643 2206.92 250.772 Q2206.92 257.879 2208.72 261.444 Q2210.55 264.985 2214.16 264.985 Q2217.8 264.985 2219.6 261.444 Q2221.43 257.879 2221.43 250.772 Q2221.43 243.643 2219.6 240.101 Q2217.8 236.536 2214.16 236.536 M2214.16 232.833 Q2219.97 232.833 2223.03 237.439 Q2226.11 242.022 2226.11 250.772 Q2226.11 259.499 2223.03 264.106 Q2219.97 268.689 2214.16 268.689 Q2208.35 268.689 2205.27 264.106 Q2202.22 259.499 2202.22 250.772 Q2202.22 242.022 2205.27 237.439 Q2208.35 232.833 2214.16 232.833 Z\" fill=\"#000000\" fill-rule=\"nonzero\" fill-opacity=\"1\" /><polyline clip-path=\"url(#clip060)\" style=\"stroke:#c271d2; stroke-linecap:round; stroke-linejoin:round; stroke-width:4; stroke-opacity:1; fill:none\" points=\"1890.26,302.578 2034.99,302.578 \"/>\n",
       "<path clip-path=\"url(#clip060)\" d=\"M2059.7 293.932 L2079.93 293.932 L2079.93 297.821 L2063.91 316.455 L2079.93 316.455 L2079.93 319.858 L2059.12 319.858 L2059.12 315.969 L2075.14 297.335 L2059.7 297.335 L2059.7 293.932 Z\" fill=\"#000000\" fill-rule=\"nonzero\" fill-opacity=\"1\" /><path clip-path=\"url(#clip060)\" d=\"M2102.06 298.33 L2131.73 298.33 L2131.73 302.219 L2102.06 302.219 L2102.06 298.33 M2102.06 307.774 L2131.73 307.774 L2131.73 311.709 L2102.06 311.709 L2102.06 307.774 Z\" fill=\"#000000\" fill-rule=\"nonzero\" fill-opacity=\"1\" /><path clip-path=\"url(#clip060)\" d=\"M2154.14 304.973 L2166.62 304.973 L2166.62 308.77 L2154.14 308.77 L2154.14 304.973 Z\" fill=\"#000000\" fill-rule=\"nonzero\" fill-opacity=\"1\" /><path clip-path=\"url(#clip060)\" d=\"M2174.81 315.922 L2182.45 315.922 L2182.45 289.557 L2174.14 291.223 L2174.14 286.964 L2182.4 285.298 L2187.08 285.298 L2187.08 315.922 L2194.72 315.922 L2194.72 319.858 L2174.81 319.858 L2174.81 315.922 Z\" fill=\"#000000\" fill-rule=\"nonzero\" fill-opacity=\"1\" /><path clip-path=\"url(#clip060)\" d=\"M2214.16 288.376 Q2210.55 288.376 2208.72 291.941 Q2206.92 295.483 2206.92 302.612 Q2206.92 309.719 2208.72 313.284 Q2210.55 316.825 2214.16 316.825 Q2217.8 316.825 2219.6 313.284 Q2221.43 309.719 2221.43 302.612 Q2221.43 295.483 2219.6 291.941 Q2217.8 288.376 2214.16 288.376 M2214.16 284.673 Q2219.97 284.673 2223.03 289.279 Q2226.11 293.862 2226.11 302.612 Q2226.11 311.339 2223.03 315.946 Q2219.97 320.529 2214.16 320.529 Q2208.35 320.529 2205.27 315.946 Q2202.22 311.339 2202.22 302.612 Q2202.22 293.862 2205.27 289.279 Q2208.35 284.673 2214.16 284.673 Z\" fill=\"#000000\" fill-rule=\"nonzero\" fill-opacity=\"1\" /><path clip-path=\"url(#clip060)\" d=\"M2244.32 288.376 Q2240.71 288.376 2238.88 291.941 Q2237.08 295.483 2237.08 302.612 Q2237.08 309.719 2238.88 313.284 Q2240.71 316.825 2244.32 316.825 Q2247.96 316.825 2249.76 313.284 Q2251.59 309.719 2251.59 302.612 Q2251.59 295.483 2249.76 291.941 Q2247.96 288.376 2244.32 288.376 M2244.32 284.673 Q2250.13 284.673 2253.19 289.279 Q2256.27 293.862 2256.27 302.612 Q2256.27 311.339 2253.19 315.946 Q2250.13 320.529 2244.32 320.529 Q2238.51 320.529 2235.44 315.946 Q2232.38 311.339 2232.38 302.612 Q2232.38 293.862 2235.44 289.279 Q2238.51 284.673 2244.32 284.673 Z\" fill=\"#000000\" fill-rule=\"nonzero\" fill-opacity=\"1\" /></svg>\n"
      ],
      "text/html": [
       "<?xml version=\"1.0\" encoding=\"utf-8\"?>\n",
       "<svg xmlns=\"http://www.w3.org/2000/svg\" xmlns:xlink=\"http://www.w3.org/1999/xlink\" width=\"600\" height=\"400\" viewBox=\"0 0 2400 1600\">\n",
       "<defs>\n",
       "  <clipPath id=\"clip110\">\n",
       "    <rect x=\"0\" y=\"0\" width=\"2400\" height=\"1600\"/>\n",
       "  </clipPath>\n",
       "</defs>\n",
       "<path clip-path=\"url(#clip110)\" d=\"M0 1600 L2400 1600 L2400 0 L0 0  Z\" fill=\"#ffffff\" fill-rule=\"evenodd\" fill-opacity=\"1\"/>\n",
       "<defs>\n",
       "  <clipPath id=\"clip111\">\n",
       "    <rect x=\"480\" y=\"0\" width=\"1681\" height=\"1600\"/>\n",
       "  </clipPath>\n",
       "</defs>\n",
       "<path clip-path=\"url(#clip110)\" d=\"M181.785 1486.45 L2352.76 1486.45 L2352.76 47.2441 L181.785 47.2441  Z\" fill=\"#ffffff\" fill-rule=\"evenodd\" fill-opacity=\"1\"/>\n",
       "<defs>\n",
       "  <clipPath id=\"clip112\">\n",
       "    <rect x=\"181\" y=\"47\" width=\"2172\" height=\"1440\"/>\n",
       "  </clipPath>\n",
       "</defs>\n",
       "<polyline clip-path=\"url(#clip112)\" style=\"stroke:#000000; stroke-linecap:round; stroke-linejoin:round; stroke-width:2; stroke-opacity:0.1; fill:none\" points=\"241.177,1486.45 241.177,47.2441 \"/>\n",
       "<polyline clip-path=\"url(#clip112)\" style=\"stroke:#000000; stroke-linecap:round; stroke-linejoin:round; stroke-width:2; stroke-opacity:0.1; fill:none\" points=\"753.711,1486.45 753.711,47.2441 \"/>\n",
       "<polyline clip-path=\"url(#clip112)\" style=\"stroke:#000000; stroke-linecap:round; stroke-linejoin:round; stroke-width:2; stroke-opacity:0.1; fill:none\" points=\"1266.25,1486.45 1266.25,47.2441 \"/>\n",
       "<polyline clip-path=\"url(#clip112)\" style=\"stroke:#000000; stroke-linecap:round; stroke-linejoin:round; stroke-width:2; stroke-opacity:0.1; fill:none\" points=\"1778.78,1486.45 1778.78,47.2441 \"/>\n",
       "<polyline clip-path=\"url(#clip112)\" style=\"stroke:#000000; stroke-linecap:round; stroke-linejoin:round; stroke-width:2; stroke-opacity:0.1; fill:none\" points=\"2291.31,1486.45 2291.31,47.2441 \"/>\n",
       "<polyline clip-path=\"url(#clip110)\" style=\"stroke:#000000; stroke-linecap:round; stroke-linejoin:round; stroke-width:4; stroke-opacity:1; fill:none\" points=\"181.785,1486.45 2352.76,1486.45 \"/>\n",
       "<polyline clip-path=\"url(#clip110)\" style=\"stroke:#000000; stroke-linecap:round; stroke-linejoin:round; stroke-width:4; stroke-opacity:1; fill:none\" points=\"241.177,1486.45 241.177,1467.55 \"/>\n",
       "<polyline clip-path=\"url(#clip110)\" style=\"stroke:#000000; stroke-linecap:round; stroke-linejoin:round; stroke-width:4; stroke-opacity:1; fill:none\" points=\"753.711,1486.45 753.711,1467.55 \"/>\n",
       "<polyline clip-path=\"url(#clip110)\" style=\"stroke:#000000; stroke-linecap:round; stroke-linejoin:round; stroke-width:4; stroke-opacity:1; fill:none\" points=\"1266.25,1486.45 1266.25,1467.55 \"/>\n",
       "<polyline clip-path=\"url(#clip110)\" style=\"stroke:#000000; stroke-linecap:round; stroke-linejoin:round; stroke-width:4; stroke-opacity:1; fill:none\" points=\"1778.78,1486.45 1778.78,1467.55 \"/>\n",
       "<polyline clip-path=\"url(#clip110)\" style=\"stroke:#000000; stroke-linecap:round; stroke-linejoin:round; stroke-width:4; stroke-opacity:1; fill:none\" points=\"2291.31,1486.45 2291.31,1467.55 \"/>\n",
       "<path clip-path=\"url(#clip110)\" d=\"M241.177 1517.37 Q237.566 1517.37 235.737 1520.93 Q233.932 1524.47 233.932 1531.6 Q233.932 1538.71 235.737 1542.27 Q237.566 1545.82 241.177 1545.82 Q244.811 1545.82 246.617 1542.27 Q248.446 1538.71 248.446 1531.6 Q248.446 1524.47 246.617 1520.93 Q244.811 1517.37 241.177 1517.37 M241.177 1513.66 Q246.987 1513.66 250.043 1518.27 Q253.122 1522.85 253.122 1531.6 Q253.122 1540.33 250.043 1544.94 Q246.987 1549.52 241.177 1549.52 Q235.367 1549.52 232.288 1544.94 Q229.233 1540.33 229.233 1531.6 Q229.233 1522.85 232.288 1518.27 Q235.367 1513.66 241.177 1513.66 Z\" fill=\"#000000\" fill-rule=\"nonzero\" fill-opacity=\"1\" /><path clip-path=\"url(#clip110)\" d=\"M717.404 1544.91 L733.723 1544.91 L733.723 1548.85 L711.779 1548.85 L711.779 1544.91 Q714.441 1542.16 719.024 1537.53 Q723.63 1532.88 724.811 1531.53 Q727.056 1529.01 727.936 1527.27 Q728.839 1525.51 728.839 1523.82 Q728.839 1521.07 726.894 1519.33 Q724.973 1517.6 721.871 1517.6 Q719.672 1517.6 717.218 1518.36 Q714.788 1519.13 712.01 1520.68 L712.01 1515.95 Q714.834 1514.82 717.288 1514.24 Q719.741 1513.66 721.779 1513.66 Q727.149 1513.66 730.343 1516.35 Q733.538 1519.03 733.538 1523.52 Q733.538 1525.65 732.728 1527.57 Q731.94 1529.47 729.834 1532.07 Q729.255 1532.74 726.153 1535.95 Q723.052 1539.15 717.404 1544.91 Z\" fill=\"#000000\" fill-rule=\"nonzero\" fill-opacity=\"1\" /><path clip-path=\"url(#clip110)\" d=\"M743.584 1514.29 L761.94 1514.29 L761.94 1518.22 L747.866 1518.22 L747.866 1526.7 Q748.885 1526.35 749.903 1526.19 Q750.922 1526 751.94 1526 Q757.727 1526 761.107 1529.17 Q764.487 1532.34 764.487 1537.76 Q764.487 1543.34 761.014 1546.44 Q757.542 1549.52 751.223 1549.52 Q749.047 1549.52 746.778 1549.15 Q744.533 1548.78 742.126 1548.04 L742.126 1543.34 Q744.209 1544.47 746.431 1545.03 Q748.653 1545.58 751.13 1545.58 Q755.135 1545.58 757.473 1543.48 Q759.811 1541.37 759.811 1537.76 Q759.811 1534.15 757.473 1532.04 Q755.135 1529.94 751.13 1529.94 Q749.255 1529.94 747.38 1530.35 Q745.528 1530.77 743.584 1531.65 L743.584 1514.29 Z\" fill=\"#000000\" fill-rule=\"nonzero\" fill-opacity=\"1\" /><path clip-path=\"url(#clip110)\" d=\"M783.699 1517.37 Q780.088 1517.37 778.26 1520.93 Q776.454 1524.47 776.454 1531.6 Q776.454 1538.71 778.26 1542.27 Q780.088 1545.82 783.699 1545.82 Q787.334 1545.82 789.139 1542.27 Q790.968 1538.71 790.968 1531.6 Q790.968 1524.47 789.139 1520.93 Q787.334 1517.37 783.699 1517.37 M783.699 1513.66 Q789.51 1513.66 792.565 1518.27 Q795.644 1522.85 795.644 1531.6 Q795.644 1540.33 792.565 1544.94 Q789.51 1549.52 783.699 1549.52 Q777.889 1549.52 774.811 1544.94 Q771.755 1540.33 771.755 1531.6 Q771.755 1522.85 774.811 1518.27 Q777.889 1513.66 783.699 1513.66 Z\" fill=\"#000000\" fill-rule=\"nonzero\" fill-opacity=\"1\" /><path clip-path=\"url(#clip110)\" d=\"M1225.86 1514.29 L1244.22 1514.29 L1244.22 1518.22 L1230.15 1518.22 L1230.15 1526.7 Q1231.16 1526.35 1232.18 1526.19 Q1233.2 1526 1234.22 1526 Q1240.01 1526 1243.39 1529.17 Q1246.77 1532.34 1246.77 1537.76 Q1246.77 1543.34 1243.29 1546.44 Q1239.82 1549.52 1233.5 1549.52 Q1231.33 1549.52 1229.06 1549.15 Q1226.81 1548.78 1224.41 1548.04 L1224.41 1543.34 Q1226.49 1544.47 1228.71 1545.03 Q1230.93 1545.58 1233.41 1545.58 Q1237.41 1545.58 1239.75 1543.48 Q1242.09 1541.37 1242.09 1537.76 Q1242.09 1534.15 1239.75 1532.04 Q1237.41 1529.94 1233.41 1529.94 Q1231.53 1529.94 1229.66 1530.35 Q1227.81 1530.77 1225.86 1531.65 L1225.86 1514.29 Z\" fill=\"#000000\" fill-rule=\"nonzero\" fill-opacity=\"1\" /><path clip-path=\"url(#clip110)\" d=\"M1265.98 1517.37 Q1262.37 1517.37 1260.54 1520.93 Q1258.73 1524.47 1258.73 1531.6 Q1258.73 1538.71 1260.54 1542.27 Q1262.37 1545.82 1265.98 1545.82 Q1269.61 1545.82 1271.42 1542.27 Q1273.25 1538.71 1273.25 1531.6 Q1273.25 1524.47 1271.42 1520.93 Q1269.61 1517.37 1265.98 1517.37 M1265.98 1513.66 Q1271.79 1513.66 1274.84 1518.27 Q1277.92 1522.85 1277.92 1531.6 Q1277.92 1540.33 1274.84 1544.94 Q1271.79 1549.52 1265.98 1549.52 Q1260.17 1549.52 1257.09 1544.94 Q1254.03 1540.33 1254.03 1531.6 Q1254.03 1522.85 1257.09 1518.27 Q1260.17 1513.66 1265.98 1513.66 Z\" fill=\"#000000\" fill-rule=\"nonzero\" fill-opacity=\"1\" /><path clip-path=\"url(#clip110)\" d=\"M1296.14 1517.37 Q1292.53 1517.37 1290.7 1520.93 Q1288.9 1524.47 1288.9 1531.6 Q1288.9 1538.71 1290.7 1542.27 Q1292.53 1545.82 1296.14 1545.82 Q1299.78 1545.82 1301.58 1542.27 Q1303.41 1538.71 1303.41 1531.6 Q1303.41 1524.47 1301.58 1520.93 Q1299.78 1517.37 1296.14 1517.37 M1296.14 1513.66 Q1301.95 1513.66 1305.01 1518.27 Q1308.09 1522.85 1308.09 1531.6 Q1308.09 1540.33 1305.01 1544.94 Q1301.95 1549.52 1296.14 1549.52 Q1290.33 1549.52 1287.25 1544.94 Q1284.2 1540.33 1284.2 1531.6 Q1284.2 1522.85 1287.25 1518.27 Q1290.33 1513.66 1296.14 1513.66 Z\" fill=\"#000000\" fill-rule=\"nonzero\" fill-opacity=\"1\" /><path clip-path=\"url(#clip110)\" d=\"M1737.05 1514.29 L1759.28 1514.29 L1759.28 1516.28 L1746.73 1548.85 L1741.85 1548.85 L1753.65 1518.22 L1737.05 1518.22 L1737.05 1514.29 Z\" fill=\"#000000\" fill-rule=\"nonzero\" fill-opacity=\"1\" /><path clip-path=\"url(#clip110)\" d=\"M1768.44 1514.29 L1786.8 1514.29 L1786.8 1518.22 L1772.73 1518.22 L1772.73 1526.7 Q1773.74 1526.35 1774.76 1526.19 Q1775.78 1526 1776.8 1526 Q1782.59 1526 1785.97 1529.17 Q1789.35 1532.34 1789.35 1537.76 Q1789.35 1543.34 1785.87 1546.44 Q1782.4 1549.52 1776.08 1549.52 Q1773.91 1549.52 1771.64 1549.15 Q1769.39 1548.78 1766.99 1548.04 L1766.99 1543.34 Q1769.07 1544.47 1771.29 1545.03 Q1773.51 1545.58 1775.99 1545.58 Q1779.99 1545.58 1782.33 1543.48 Q1784.67 1541.37 1784.67 1537.76 Q1784.67 1534.15 1782.33 1532.04 Q1779.99 1529.94 1775.99 1529.94 Q1774.11 1529.94 1772.24 1530.35 Q1770.39 1530.77 1768.44 1531.65 L1768.44 1514.29 Z\" fill=\"#000000\" fill-rule=\"nonzero\" fill-opacity=\"1\" /><path clip-path=\"url(#clip110)\" d=\"M1808.56 1517.37 Q1804.95 1517.37 1803.12 1520.93 Q1801.31 1524.47 1801.31 1531.6 Q1801.31 1538.71 1803.12 1542.27 Q1804.95 1545.82 1808.56 1545.82 Q1812.19 1545.82 1814 1542.27 Q1815.83 1538.71 1815.83 1531.6 Q1815.83 1524.47 1814 1520.93 Q1812.19 1517.37 1808.56 1517.37 M1808.56 1513.66 Q1814.37 1513.66 1817.42 1518.27 Q1820.5 1522.85 1820.5 1531.6 Q1820.5 1540.33 1817.42 1544.94 Q1814.37 1549.52 1808.56 1549.52 Q1802.75 1549.52 1799.67 1544.94 Q1796.61 1540.33 1796.61 1531.6 Q1796.61 1522.85 1799.67 1518.27 Q1802.75 1513.66 1808.56 1513.66 Z\" fill=\"#000000\" fill-rule=\"nonzero\" fill-opacity=\"1\" /><path clip-path=\"url(#clip110)\" d=\"M2235.84 1544.91 L2243.48 1544.91 L2243.48 1518.55 L2235.17 1520.21 L2235.17 1515.95 L2243.43 1514.29 L2248.11 1514.29 L2248.11 1544.91 L2255.75 1544.91 L2255.75 1548.85 L2235.84 1548.85 L2235.84 1544.91 Z\" fill=\"#000000\" fill-rule=\"nonzero\" fill-opacity=\"1\" /><path clip-path=\"url(#clip110)\" d=\"M2275.19 1517.37 Q2271.58 1517.37 2269.75 1520.93 Q2267.95 1524.47 2267.95 1531.6 Q2267.95 1538.71 2269.75 1542.27 Q2271.58 1545.82 2275.19 1545.82 Q2278.82 1545.82 2280.63 1542.27 Q2282.46 1538.71 2282.46 1531.6 Q2282.46 1524.47 2280.63 1520.93 Q2278.82 1517.37 2275.19 1517.37 M2275.19 1513.66 Q2281 1513.66 2284.06 1518.27 Q2287.14 1522.85 2287.14 1531.6 Q2287.14 1540.33 2284.06 1544.94 Q2281 1549.52 2275.19 1549.52 Q2269.38 1549.52 2266.3 1544.94 Q2263.25 1540.33 2263.25 1531.6 Q2263.25 1522.85 2266.3 1518.27 Q2269.38 1513.66 2275.19 1513.66 Z\" fill=\"#000000\" fill-rule=\"nonzero\" fill-opacity=\"1\" /><path clip-path=\"url(#clip110)\" d=\"M2305.35 1517.37 Q2301.74 1517.37 2299.91 1520.93 Q2298.11 1524.47 2298.11 1531.6 Q2298.11 1538.71 2299.91 1542.27 Q2301.74 1545.82 2305.35 1545.82 Q2308.99 1545.82 2310.79 1542.27 Q2312.62 1538.71 2312.62 1531.6 Q2312.62 1524.47 2310.79 1520.93 Q2308.99 1517.37 2305.35 1517.37 M2305.35 1513.66 Q2311.16 1513.66 2314.22 1518.27 Q2317.3 1522.85 2317.3 1531.6 Q2317.3 1540.33 2314.22 1544.94 Q2311.16 1549.52 2305.35 1549.52 Q2299.54 1549.52 2296.46 1544.94 Q2293.41 1540.33 2293.41 1531.6 Q2293.41 1522.85 2296.46 1518.27 Q2299.54 1513.66 2305.35 1513.66 Z\" fill=\"#000000\" fill-rule=\"nonzero\" fill-opacity=\"1\" /><path clip-path=\"url(#clip110)\" d=\"M2335.51 1517.37 Q2331.9 1517.37 2330.07 1520.93 Q2328.27 1524.47 2328.27 1531.6 Q2328.27 1538.71 2330.07 1542.27 Q2331.9 1545.82 2335.51 1545.82 Q2339.15 1545.82 2340.95 1542.27 Q2342.78 1538.71 2342.78 1531.6 Q2342.78 1524.47 2340.95 1520.93 Q2339.15 1517.37 2335.51 1517.37 M2335.51 1513.66 Q2341.32 1513.66 2344.38 1518.27 Q2347.46 1522.85 2347.46 1531.6 Q2347.46 1540.33 2344.38 1544.94 Q2341.32 1549.52 2335.51 1549.52 Q2329.7 1549.52 2326.63 1544.94 Q2323.57 1540.33 2323.57 1531.6 Q2323.57 1522.85 2326.63 1518.27 Q2329.7 1513.66 2335.51 1513.66 Z\" fill=\"#000000\" fill-rule=\"nonzero\" fill-opacity=\"1\" /><polyline clip-path=\"url(#clip112)\" style=\"stroke:#000000; stroke-linecap:round; stroke-linejoin:round; stroke-width:2; stroke-opacity:0.1; fill:none\" points=\"181.785,1070.19 2352.76,1070.19 \"/>\n",
       "<polyline clip-path=\"url(#clip112)\" style=\"stroke:#000000; stroke-linecap:round; stroke-linejoin:round; stroke-width:2; stroke-opacity:0.1; fill:none\" points=\"181.785,481.756 2352.76,481.756 \"/>\n",
       "<polyline clip-path=\"url(#clip110)\" style=\"stroke:#000000; stroke-linecap:round; stroke-linejoin:round; stroke-width:4; stroke-opacity:1; fill:none\" points=\"181.785,1486.45 181.785,47.2441 \"/>\n",
       "<polyline clip-path=\"url(#clip110)\" style=\"stroke:#000000; stroke-linecap:round; stroke-linejoin:round; stroke-width:4; stroke-opacity:1; fill:none\" points=\"181.785,1070.19 200.682,1070.19 \"/>\n",
       "<polyline clip-path=\"url(#clip110)\" style=\"stroke:#000000; stroke-linecap:round; stroke-linejoin:round; stroke-width:4; stroke-opacity:1; fill:none\" points=\"181.785,481.756 200.682,481.756 \"/>\n",
       "<path clip-path=\"url(#clip110)\" d=\"M75.0791 1089.98 L82.7179 1089.98 L82.7179 1063.61 L74.4078 1065.28 L74.4078 1061.02 L82.6716 1059.36 L87.3475 1059.36 L87.3475 1089.98 L94.9864 1089.98 L94.9864 1093.92 L75.0791 1093.92 L75.0791 1089.98 Z\" fill=\"#000000\" fill-rule=\"nonzero\" fill-opacity=\"1\" /><path clip-path=\"url(#clip110)\" d=\"M114.431 1062.43 Q110.82 1062.43 108.991 1066 Q107.185 1069.54 107.185 1076.67 Q107.185 1083.78 108.991 1087.34 Q110.82 1090.88 114.431 1090.88 Q118.065 1090.88 119.871 1087.34 Q121.699 1083.78 121.699 1076.67 Q121.699 1069.54 119.871 1066 Q118.065 1062.43 114.431 1062.43 M114.431 1058.73 Q120.241 1058.73 123.296 1063.34 Q126.375 1067.92 126.375 1076.67 Q126.375 1085.4 123.296 1090 Q120.241 1094.59 114.431 1094.59 Q108.621 1094.59 105.542 1090 Q102.486 1085.4 102.486 1076.67 Q102.486 1067.92 105.542 1063.34 Q108.621 1058.73 114.431 1058.73 Z\" fill=\"#000000\" fill-rule=\"nonzero\" fill-opacity=\"1\" /><path clip-path=\"url(#clip110)\" d=\"M136.08 1040.93 Q133.146 1040.93 131.66 1043.82 Q130.193 1046.7 130.193 1052.49 Q130.193 1058.27 131.66 1061.16 Q133.146 1064.04 136.08 1064.04 Q139.033 1064.04 140.5 1061.16 Q141.986 1058.27 141.986 1052.49 Q141.986 1046.7 140.5 1043.82 Q139.033 1040.93 136.08 1040.93 M136.08 1037.92 Q140.801 1037.92 143.283 1041.66 Q145.785 1045.38 145.785 1052.49 Q145.785 1059.58 143.283 1063.33 Q140.801 1067.05 136.08 1067.05 Q131.359 1067.05 128.858 1063.33 Q126.375 1059.58 126.375 1052.49 Q126.375 1045.38 128.858 1041.66 Q131.359 1037.92 136.08 1037.92 Z\" fill=\"#000000\" fill-rule=\"nonzero\" fill-opacity=\"1\" /><path clip-path=\"url(#clip110)\" d=\"M51.6634 501.549 L59.3023 501.549 L59.3023 475.183 L50.9921 476.85 L50.9921 472.59 L59.256 470.924 L63.9319 470.924 L63.9319 501.549 L71.5707 501.549 L71.5707 505.484 L51.6634 505.484 L51.6634 501.549 Z\" fill=\"#000000\" fill-rule=\"nonzero\" fill-opacity=\"1\" /><path clip-path=\"url(#clip110)\" d=\"M91.0151 474.002 Q87.404 474.002 85.5753 477.567 Q83.7697 481.109 83.7697 488.238 Q83.7697 495.345 85.5753 498.91 Q87.404 502.451 91.0151 502.451 Q94.6493 502.451 96.4548 498.91 Q98.2835 495.345 98.2835 488.238 Q98.2835 481.109 96.4548 477.567 Q94.6493 474.002 91.0151 474.002 M91.0151 470.299 Q96.8252 470.299 99.8808 474.905 Q102.959 479.489 102.959 488.238 Q102.959 496.965 99.8808 501.572 Q96.8252 506.155 91.0151 506.155 Q85.2049 506.155 82.1262 501.572 Q79.0707 496.965 79.0707 488.238 Q79.0707 479.489 82.1262 474.905 Q85.2049 470.299 91.0151 470.299 Z\" fill=\"#000000\" fill-rule=\"nonzero\" fill-opacity=\"1\" /><path clip-path=\"url(#clip110)\" d=\"M107.53 474.876 L120.789 474.876 L120.789 478.073 L102.959 478.073 L102.959 474.876 Q105.122 472.638 108.846 468.876 Q112.589 465.096 113.548 464.005 Q115.373 461.955 116.087 460.545 Q116.821 459.115 116.821 457.742 Q116.821 455.504 115.241 454.093 Q113.68 452.683 111.16 452.683 Q109.373 452.683 107.379 453.304 Q105.404 453.924 103.148 455.184 L103.148 451.348 Q105.442 450.426 107.436 449.956 Q109.429 449.486 111.084 449.486 Q115.448 449.486 118.043 451.667 Q120.639 453.849 120.639 457.498 Q120.639 459.228 119.98 460.789 Q119.341 462.331 117.63 464.438 Q117.159 464.983 114.639 467.597 Q112.119 470.193 107.53 474.876 Z\" fill=\"#000000\" fill-rule=\"nonzero\" fill-opacity=\"1\" /><path clip-path=\"url(#clip110)\" d=\"M128.801 449.993 L143.716 449.993 L143.716 453.191 L132.281 453.191 L132.281 460.074 Q133.108 459.792 133.936 459.661 Q134.763 459.51 135.591 459.51 Q140.293 459.51 143.039 462.087 Q145.785 464.663 145.785 469.064 Q145.785 473.597 142.964 476.117 Q140.142 478.619 135.008 478.619 Q133.24 478.619 131.397 478.318 Q129.572 478.017 127.616 477.415 L127.616 473.597 Q129.309 474.519 131.115 474.97 Q132.92 475.421 134.933 475.421 Q138.186 475.421 140.086 473.71 Q141.986 471.998 141.986 469.064 Q141.986 466.13 140.086 464.419 Q138.186 462.707 134.933 462.707 Q133.409 462.707 131.886 463.046 Q130.381 463.385 128.801 464.099 L128.801 449.993 Z\" fill=\"#000000\" fill-rule=\"nonzero\" fill-opacity=\"1\" /><polyline clip-path=\"url(#clip112)\" style=\"stroke:#009af9; stroke-linecap:round; stroke-linejoin:round; stroke-width:4; stroke-opacity:1; fill:none\" points=\"243.227,1073.57 245.277,1085.75 247.328,1100.49 249.378,1117.32 251.428,1135.9 253.478,1155.99 255.528,1177.4 257.578,1199.98 259.628,1223.62 261.679,1248.22 263.729,1273.69 265.779,1299.97 267.829,1326.99 269.879,1354.73 271.929,1383.22 273.979,1415.09 276.029,1431.54 278.08,1431.54 280.13,1431.54 282.18,1431.54 284.23,1431.54 286.28,1431.54 288.33,1431.54 290.38,1431.54 292.431,1431.54 294.481,1431.54 296.531,1431.54 298.581,1431.54 300.631,1431.54 302.681,1431.54 304.731,1431.54 306.782,1431.54 308.832,1431.54 310.882,1431.54 312.932,1431.54 314.982,1431.54 317.032,1431.54 319.082,1431.54 321.132,1431.54 323.183,1431.54 325.233,1431.54 327.283,1431.54 329.333,1431.54 331.383,1431.54 333.433,1431.54 335.483,1431.54 337.534,1431.54 339.584,1431.54 341.634,1431.54 343.684,1431.54 345.734,1431.54 347.784,1431.54 349.834,1431.54 351.885,1431.54 353.935,1431.54 355.985,1431.54 358.035,1431.54 360.085,1431.54 362.135,1431.54 364.185,1431.54 366.235,1431.54 368.286,1431.54 370.336,1431.54 372.386,1431.54 374.436,1431.54 376.486,1431.54 378.536,1431.54 380.586,1431.54 382.637,1431.54 384.687,1431.54 386.737,1431.54 388.787,1431.54 390.837,1431.54 392.887,1431.54 394.937,1431.54 396.988,1431.54 399.038,1431.54 401.088,1431.54 403.138,1431.54 405.188,1431.54 407.238,1431.54 409.288,1431.54 411.338,1431.54 413.389,1431.54 415.439,1431.54 417.489,1431.54 419.539,1431.54 421.589,1431.54 423.639,1431.54 425.689,1431.54 427.74,1431.54 429.79,1431.54 431.84,1431.54 433.89,1431.54 435.94,1431.54 437.99,1431.54 440.04,1431.54 442.091,1431.54 444.141,1431.54 446.191,1431.54 448.241,1431.54 450.291,1431.54 452.341,1431.54 454.391,1431.54 456.441,1431.54 458.492,1431.54 460.542,1431.54 462.592,1431.54 464.642,1431.54 466.692,1431.54 468.742,1431.54 470.792,1431.54 472.843,1431.54 474.893,1431.54 476.943,1431.54 478.993,1431.54 481.043,1431.54 483.093,1431.54 485.143,1431.54 487.194,1431.54 489.244,1431.54 491.294,1431.54 493.344,1431.54 495.394,1431.54 497.444,1431.54 499.494,1431.54 501.544,1431.54 503.595,1431.54 505.645,1431.54 507.695,1431.54 509.745,1431.54 511.795,1431.54 513.845,1431.54 515.895,1431.54 517.946,1431.54 519.996,1431.54 522.046,1431.54 524.096,1431.54 526.146,1431.54 528.196,1431.54 530.246,1431.54 532.297,1431.54 534.347,1431.54 536.397,1431.54 538.447,1431.54 540.497,1431.54 542.547,1431.54 544.597,1431.54 546.647,1431.54 548.698,1431.54 550.748,1431.54 552.798,1431.54 554.848,1431.54 556.898,1431.54 558.948,1431.54 560.998,1431.54 563.049,1431.54 565.099,1431.54 567.149,1431.54 569.199,1431.54 571.249,1431.54 573.299,1431.54 575.349,1431.54 577.4,1431.54 579.45,1431.54 581.5,1431.54 583.55,1431.54 585.6,1431.54 587.65,1431.54 589.7,1431.54 591.75,1431.54 593.801,1431.54 595.851,1431.54 597.901,1431.54 599.951,1431.54 602.001,1431.54 604.051,1431.54 606.101,1431.54 608.152,1431.54 610.202,1431.54 612.252,1431.54 614.302,1431.54 616.352,1431.54 618.402,1431.54 620.452,1431.54 622.502,1431.54 624.553,1431.54 626.603,1431.54 628.653,1431.54 630.703,1431.54 632.753,1431.54 634.803,1431.54 636.853,1431.54 638.904,1431.54 640.954,1431.54 643.004,1431.54 645.054,1431.54 647.104,1431.54 649.154,1431.54 651.204,1431.54 653.255,1431.54 655.305,1431.54 657.355,1431.54 659.405,1431.54 661.455,1431.54 663.505,1431.54 665.555,1431.54 667.605,1431.54 669.656,1431.54 671.706,1431.54 673.756,1431.54 675.806,1431.54 677.856,1431.54 679.906,1431.54 681.956,1431.54 684.007,1431.54 686.057,1431.54 688.107,1431.54 690.157,1431.54 692.207,1431.54 694.257,1431.54 696.307,1431.54 698.358,1431.54 700.408,1431.54 702.458,1431.54 704.508,1431.54 706.558,1431.54 708.608,1431.54 710.658,1431.54 712.708,1431.54 714.759,1431.54 716.809,1431.54 718.859,1431.54 720.909,1431.54 722.959,1431.54 725.009,1431.54 727.059,1431.54 729.11,1431.54 731.16,1431.54 733.21,1431.54 735.26,1431.54 737.31,1431.54 739.36,1431.54 741.41,1431.54 743.461,1431.54 745.511,1431.54 747.561,1431.54 749.611,1431.54 751.661,1431.54 753.711,1431.54 755.761,1431.54 757.811,1431.54 759.862,1431.54 761.912,1431.54 763.962,1431.54 766.012,1431.54 768.062,1431.54 770.112,1431.54 772.162,1431.54 774.213,1431.54 776.263,1431.54 778.313,1431.54 780.363,1431.54 782.413,1431.54 784.463,1431.54 786.513,1431.54 788.564,1431.54 790.614,1431.54 792.664,1431.54 794.714,1431.54 796.764,1431.54 798.814,1431.54 800.864,1431.54 802.914,1431.54 804.965,1431.54 807.015,1431.54 809.065,1431.54 811.115,1431.54 813.165,1431.54 815.215,1431.54 817.265,1431.54 819.316,1431.54 821.366,1431.54 823.416,1431.54 825.466,1431.54 827.516,1431.54 829.566,1431.54 831.616,1431.54 833.667,1431.54 835.717,1431.54 837.767,1431.54 839.817,1431.54 841.867,1431.54 843.917,1431.54 845.967,1431.54 848.017,1431.54 850.068,1431.54 852.118,1431.54 854.168,1431.54 856.218,1431.54 858.268,1431.54 860.318,1431.54 862.368,1431.54 864.419,1431.54 866.469,1431.54 868.519,1431.54 870.569,1431.54 872.619,1431.54 874.669,1431.54 876.719,1431.54 878.77,1431.54 880.82,1431.54 882.87,1431.54 884.92,1431.54 886.97,1431.54 889.02,1431.54 891.07,1431.54 893.12,1431.54 895.171,1431.54 897.221,1431.54 899.271,1431.54 901.321,1431.54 903.371,1431.54 905.421,1431.54 907.471,1431.54 909.522,1431.54 911.572,1431.54 913.622,1431.54 915.672,1431.54 917.722,1431.54 919.772,1431.54 921.822,1431.54 923.873,1431.54 925.923,1431.54 927.973,1431.54 930.023,1431.54 932.073,1431.54 934.123,1431.54 936.173,1431.54 938.223,1431.54 940.274,1431.54 942.324,1431.54 944.374,1431.54 946.424,1431.54 948.474,1431.54 950.524,1431.54 952.574,1431.54 954.625,1431.54 956.675,1431.54 958.725,1431.54 960.775,1431.54 962.825,1431.54 964.875,1431.54 966.925,1431.54 968.976,1431.54 971.026,1431.54 973.076,1431.54 975.126,1431.54 977.176,1431.54 979.226,1431.54 981.276,1431.54 983.326,1431.54 985.377,1431.54 987.427,1431.54 989.477,1431.54 991.527,1431.54 993.577,1431.54 995.627,1431.54 997.677,1431.54 999.728,1431.54 1001.78,1431.54 1003.83,1431.54 1005.88,1431.54 1007.93,1431.54 1009.98,1431.54 1012.03,1431.54 1014.08,1431.54 1016.13,1431.54 1018.18,1431.54 1020.23,1431.54 1022.28,1431.54 1024.33,1431.54 1026.38,1431.54 1028.43,1431.54 1030.48,1431.54 1032.53,1431.54 1034.58,1431.54 1036.63,1431.54 1038.68,1431.54 1040.73,1431.54 1042.78,1431.54 1044.83,1431.54 1046.88,1431.54 1048.93,1431.54 1050.98,1431.54 1053.03,1431.54 1055.08,1431.54 1057.13,1431.54 1059.18,1431.54 1061.23,1431.54 1063.28,1431.54 1065.33,1431.54 1067.38,1431.54 1069.43,1431.54 1071.48,1431.54 1073.53,1431.54 1075.58,1431.54 1077.63,1431.54 1079.68,1431.54 1081.73,1431.54 1083.78,1431.54 1085.83,1431.54 1087.88,1431.54 1089.93,1431.54 1091.98,1431.54 1094.03,1431.54 1096.08,1431.54 1098.13,1431.54 1100.18,1431.54 1102.23,1431.54 1104.28,1431.54 1106.33,1431.54 1108.38,1431.54 1110.43,1431.54 1112.49,1431.54 1114.54,1431.54 1116.59,1431.54 1118.64,1431.54 1120.69,1431.54 1122.74,1431.54 1124.79,1431.54 1126.84,1431.54 1128.89,1431.54 1130.94,1431.54 1132.99,1431.54 1135.04,1431.54 1137.09,1431.54 1139.14,1431.54 1141.19,1431.54 1143.24,1431.54 1145.29,1431.54 1147.34,1431.54 1149.39,1431.54 1151.44,1431.54 1153.49,1431.54 1155.54,1431.54 1157.59,1431.54 1159.64,1431.54 1161.69,1431.54 1163.74,1431.54 1165.79,1431.54 1167.84,1431.54 1169.89,1431.54 1171.94,1431.54 1173.99,1431.54 1176.04,1431.54 1178.09,1431.54 1180.14,1431.54 1182.19,1431.54 1184.24,1431.54 1186.29,1431.54 1188.34,1431.54 1190.39,1431.54 1192.44,1431.54 1194.49,1431.54 1196.54,1431.54 1198.59,1431.54 1200.64,1431.54 1202.69,1431.54 1204.74,1431.54 1206.79,1431.54 1208.84,1431.54 1210.89,1431.54 1212.94,1431.54 1214.99,1431.54 1217.04,1431.54 1219.09,1431.54 1221.14,1431.54 1223.19,1431.54 1225.24,1431.54 1227.29,1431.54 1229.34,1431.54 1231.39,1431.54 1233.44,1431.54 1235.49,1431.54 1237.54,1431.54 1239.59,1431.54 1241.64,1431.54 1243.69,1431.54 1245.74,1431.54 1247.79,1431.54 1249.84,1431.54 1251.89,1431.54 1253.94,1431.54 1255.99,1431.54 1258.04,1431.54 1260.09,1431.54 1262.14,1431.54 1264.2,1431.54 1266.25,1431.54 1268.3,1431.54 1270.35,1431.54 1272.4,1431.54 1274.45,1431.54 1276.5,1431.54 1278.55,1431.54 1280.6,1431.54 1282.65,1431.54 1284.7,1431.54 1286.75,1431.54 1288.8,1431.54 1290.85,1431.54 1292.9,1431.54 1294.95,1431.54 1297,1431.54 1299.05,1431.54 1301.1,1431.54 1303.15,1431.54 1305.2,1431.54 1307.25,1431.54 1309.3,1431.54 1311.35,1431.54 1313.4,1431.54 1315.45,1431.54 1317.5,1431.54 1319.55,1431.54 1321.6,1431.54 1323.65,1431.54 1325.7,1431.54 1327.75,1431.54 1329.8,1431.54 1331.85,1431.54 1333.9,1431.54 1335.95,1431.54 1338,1431.54 1340.05,1431.54 1342.1,1431.54 1344.15,1431.54 1346.2,1431.54 1348.25,1431.54 1350.3,1431.54 1352.35,1431.54 1354.4,1431.54 1356.45,1431.54 1358.5,1431.54 1360.55,1431.54 1362.6,1431.54 1364.65,1431.54 1366.7,1431.54 1368.75,1431.54 1370.8,1431.54 1372.85,1431.54 1374.9,1431.54 1376.95,1431.54 1379,1431.54 1381.05,1431.54 1383.1,1431.54 1385.15,1431.54 1387.2,1431.54 1389.25,1431.54 1391.3,1431.54 1393.35,1431.54 1395.4,1431.54 1397.45,1431.54 1399.5,1431.54 1401.55,1431.54 1403.6,1431.54 1405.65,1431.54 1407.7,1431.54 1409.75,1431.54 1411.8,1431.54 1413.86,1431.54 1415.91,1431.54 1417.96,1431.54 1420.01,1431.54 1422.06,1431.54 1424.11,1431.54 1426.16,1431.54 1428.21,1431.54 1430.26,1431.54 1432.31,1431.54 1434.36,1431.54 1436.41,1431.54 1438.46,1431.54 1440.51,1431.54 1442.56,1431.54 1444.61,1431.54 1446.66,1431.54 1448.71,1431.54 1450.76,1431.54 1452.81,1431.54 1454.86,1431.54 1456.91,1431.54 1458.96,1431.54 1461.01,1431.54 1463.06,1431.54 1465.11,1431.54 1467.16,1431.54 1469.21,1431.54 1471.26,1431.54 1473.31,1431.54 1475.36,1431.54 1477.41,1431.54 1479.46,1431.54 1481.51,1431.54 1483.56,1431.54 1485.61,1431.54 1487.66,1431.54 1489.71,1431.54 1491.76,1431.54 1493.81,1431.54 1495.86,1431.54 1497.91,1431.54 1499.96,1431.54 1502.01,1431.54 1504.06,1431.54 1506.11,1431.54 1508.16,1431.54 1510.21,1431.54 1512.26,1431.54 1514.31,1431.54 1516.36,1431.54 1518.41,1431.54 1520.46,1431.54 1522.51,1431.54 1524.56,1431.54 1526.61,1431.54 1528.66,1431.54 1530.71,1431.54 1532.76,1431.54 1534.81,1431.54 1536.86,1431.54 1538.91,1431.54 1540.96,1431.54 1543.01,1431.54 1545.06,1431.54 1547.11,1431.54 1549.16,1431.54 1551.21,1431.54 1553.26,1431.54 1555.31,1431.54 1557.36,1431.54 1559.41,1431.54 1561.46,1431.54 1563.51,1431.54 1565.57,1431.54 1567.62,1431.54 1569.67,1431.54 1571.72,1431.54 1573.77,1431.54 1575.82,1431.54 1577.87,1431.54 1579.92,1431.54 1581.97,1431.54 1584.02,1431.54 1586.07,1431.54 1588.12,1431.54 1590.17,1431.54 1592.22,1431.54 1594.27,1431.54 1596.32,1431.54 1598.37,1431.54 1600.42,1431.54 1602.47,1431.54 1604.52,1431.54 1606.57,1431.54 1608.62,1431.54 1610.67,1431.54 1612.72,1431.54 1614.77,1431.54 1616.82,1431.54 1618.87,1431.54 1620.92,1431.54 1622.97,1431.54 1625.02,1431.54 1627.07,1431.54 1629.12,1431.54 1631.17,1431.54 1633.22,1431.54 1635.27,1431.54 1637.32,1431.54 1639.37,1431.54 1641.42,1431.54 1643.47,1431.54 1645.52,1431.54 1647.57,1431.54 1649.62,1431.54 1651.67,1431.54 1653.72,1431.54 1655.77,1431.54 1657.82,1431.54 1659.87,1431.54 1661.92,1431.54 1663.97,1431.54 1666.02,1431.54 1668.07,1431.54 1670.12,1431.54 1672.17,1431.54 1674.22,1431.54 1676.27,1431.54 1678.32,1431.54 1680.37,1431.54 1682.42,1431.54 1684.47,1431.54 1686.52,1431.54 1688.57,1431.54 1690.62,1431.54 1692.67,1431.54 1694.72,1431.54 1696.77,1431.54 1698.82,1431.54 1700.87,1431.54 1702.92,1431.54 1704.97,1431.54 1707.02,1431.54 1709.07,1431.54 1711.12,1431.54 1713.17,1431.54 1715.23,1431.54 1717.28,1431.54 1719.33,1431.54 1721.38,1431.54 1723.43,1431.54 1725.48,1431.54 1727.53,1431.54 1729.58,1431.54 1731.63,1431.54 1733.68,1431.54 1735.73,1431.54 1737.78,1431.54 1739.83,1431.54 1741.88,1431.54 1743.93,1431.54 1745.98,1431.54 1748.03,1431.54 1750.08,1431.54 1752.13,1431.54 1754.18,1431.54 1756.23,1431.54 1758.28,1431.54 1760.33,1431.54 1762.38,1431.54 1764.43,1431.54 1766.48,1431.54 1768.53,1431.54 1770.58,1431.54 1772.63,1431.54 1774.68,1431.54 1776.73,1431.54 1778.78,1431.54 1780.83,1431.54 1782.88,1431.54 1784.93,1431.54 1786.98,1431.54 1789.03,1431.54 1791.08,1431.54 1793.13,1431.54 1795.18,1431.54 1797.23,1431.54 1799.28,1431.54 1801.33,1431.54 1803.38,1431.54 1805.43,1431.54 1807.48,1431.54 1809.53,1431.54 1811.58,1431.54 1813.63,1431.54 1815.68,1431.54 1817.73,1431.54 1819.78,1431.54 1821.83,1431.54 1823.88,1431.54 1825.93,1431.54 1827.98,1431.54 1830.03,1431.54 1832.08,1431.54 1834.13,1431.54 1836.18,1431.54 1838.23,1431.54 1840.28,1431.54 1842.33,1431.54 1844.38,1431.54 1846.43,1431.54 1848.48,1431.54 1850.53,1431.54 1852.58,1431.54 1854.63,1431.54 1856.68,1431.54 1858.73,1431.54 1860.78,1431.54 1862.83,1431.54 1864.89,1431.54 1866.94,1431.54 1868.99,1431.54 1871.04,1431.54 1873.09,1431.54 1875.14,1431.54 1877.19,1431.54 1879.24,1431.54 1881.29,1431.54 1883.34,1431.54 1885.39,1431.54 1887.44,1431.54 1889.49,1431.54 1891.54,1431.54 1893.59,1431.54 1895.64,1431.54 1897.69,1431.54 1899.74,1431.54 1901.79,1431.54 1903.84,1431.54 1905.89,1431.54 1907.94,1431.54 1909.99,1431.54 1912.04,1431.54 1914.09,1431.54 1916.14,1431.54 1918.19,1431.54 1920.24,1431.54 1922.29,1431.54 1924.34,1431.54 1926.39,1431.54 1928.44,1431.54 1930.49,1431.54 1932.54,1431.54 1934.59,1431.54 1936.64,1431.54 1938.69,1431.54 1940.74,1431.54 1942.79,1431.54 1944.84,1431.54 1946.89,1431.54 1948.94,1431.54 1950.99,1431.54 1953.04,1431.54 1955.09,1431.54 1957.14,1431.54 1959.19,1431.54 1961.24,1431.54 1963.29,1431.54 1965.34,1431.54 1967.39,1431.54 1969.44,1431.54 1971.49,1431.54 1973.54,1431.54 1975.59,1431.54 1977.64,1431.54 1979.69,1431.54 1981.74,1431.54 1983.79,1431.54 1985.84,1431.54 1987.89,1431.54 1989.94,1431.54 1991.99,1431.54 1994.04,1431.54 1996.09,1431.54 1998.14,1431.54 2000.19,1431.54 2002.24,1431.54 2004.29,1431.54 2006.34,1431.54 2008.39,1431.54 2010.44,1431.54 2012.49,1431.54 2014.54,1431.54 2016.6,1431.54 2018.65,1431.54 2020.7,1431.54 2022.75,1431.54 2024.8,1431.54 2026.85,1431.54 2028.9,1431.54 2030.95,1431.54 2033,1431.54 2035.05,1431.54 2037.1,1431.54 2039.15,1431.54 2041.2,1431.54 2043.25,1431.54 2045.3,1431.54 2047.35,1431.54 2049.4,1431.54 2051.45,1431.54 2053.5,1431.54 2055.55,1431.54 2057.6,1431.54 2059.65,1431.54 2061.7,1431.54 2063.75,1431.54 2065.8,1431.54 2067.85,1431.54 2069.9,1431.54 2071.95,1431.54 2074,1431.54 2076.05,1431.54 2078.1,1431.54 2080.15,1431.54 2082.2,1431.54 2084.25,1431.54 2086.3,1431.54 2088.35,1431.54 2090.4,1431.54 2092.45,1431.54 2094.5,1431.54 2096.55,1431.54 2098.6,1431.54 2100.65,1431.54 2102.7,1431.54 2104.75,1431.54 2106.8,1431.54 2108.85,1431.54 2110.9,1431.54 2112.95,1431.54 2115,1431.54 2117.05,1431.54 2119.1,1431.54 2121.15,1431.54 2123.2,1431.54 2125.25,1431.54 2127.3,1431.54 2129.35,1431.54 2131.4,1431.54 2133.45,1431.54 2135.5,1431.54 2137.55,1431.54 2139.6,1431.54 2141.65,1431.54 2143.7,1431.54 2145.75,1431.54 2147.8,1431.54 2149.85,1431.54 2151.9,1431.54 2153.95,1431.54 2156,1431.54 2158.05,1431.54 2160.1,1431.54 2162.15,1431.54 2164.2,1431.54 2166.26,1431.54 2168.31,1431.54 2170.36,1431.54 2172.41,1431.54 2174.46,1431.54 2176.51,1431.54 2178.56,1431.54 2180.61,1431.54 2182.66,1431.54 2184.71,1431.54 2186.76,1431.54 2188.81,1431.54 2190.86,1431.54 2192.91,1431.54 2194.96,1431.54 2197.01,1431.54 2199.06,1431.54 2201.11,1431.54 2203.16,1431.54 2205.21,1431.54 2207.26,1431.54 2209.31,1431.54 2211.36,1431.54 2213.41,1431.54 2215.46,1431.54 2217.51,1431.54 2219.56,1431.54 2221.61,1431.54 2223.66,1431.54 2225.71,1431.54 2227.76,1431.54 2229.81,1431.54 2231.86,1431.54 2233.91,1431.54 2235.96,1431.54 2238.01,1431.54 2240.06,1431.54 2242.11,1431.54 2244.16,1431.54 2246.21,1431.54 2248.26,1431.54 2250.31,1431.54 2252.36,1431.54 2254.41,1431.54 2256.46,1431.54 2258.51,1431.54 2260.56,1431.54 2262.61,1431.54 2264.66,1431.54 2266.71,1431.54 2268.76,1431.54 2270.81,1431.54 2272.86,1431.54 2274.91,1431.54 2276.96,1431.54 2279.01,1431.54 2281.06,1431.54 2283.11,1431.54 2285.16,1431.54 2287.21,1431.54 2289.26,1431.54 2291.31,1431.54 \"/>\n",
       "<polyline clip-path=\"url(#clip112)\" style=\"stroke:#e26f46; stroke-linecap:round; stroke-linejoin:round; stroke-width:4; stroke-opacity:1; fill:none\" points=\"243.227,1077.56 245.277,1088.7 247.328,1102.81 249.378,1119.23 251.428,1137.52 253.478,1157.4 255.528,1178.64 257.578,1201.09 259.628,1224.62 261.679,1249.13 263.729,1274.53 265.779,1300.74 267.829,1327.72 269.879,1355.39 271.929,1383.71 273.979,1412.81 \"/>\n",
       "<polyline clip-path=\"url(#clip112)\" style=\"stroke:#e26f46; stroke-linecap:round; stroke-linejoin:round; stroke-width:4; stroke-opacity:1; fill:none\" points=\"278.08,1445.72 280.13,1445.72 282.18,1445.72 284.23,1445.72 286.28,1445.72 288.33,1445.72 290.38,1445.72 292.431,1445.72 294.481,1445.72 296.531,1445.72 298.581,1445.72 300.631,1445.72 302.681,1445.72 304.731,1445.72 306.782,1445.72 308.832,1445.72 310.882,1445.72 312.932,1445.72 314.982,1445.72 317.032,1445.72 319.082,1445.72 321.132,1445.72 323.183,1445.72 325.233,1445.72 327.283,1445.72 329.333,1445.72 331.383,1445.72 333.433,1445.72 335.483,1445.72 337.534,1445.72 339.584,1445.72 341.634,1445.72 343.684,1445.72 345.734,1445.72 347.784,1445.72 349.834,1445.72 351.885,1445.72 353.935,1445.72 355.985,1445.72 358.035,1445.72 360.085,1445.72 362.135,1445.72 364.185,1445.72 366.235,1445.72 368.286,1445.72 370.336,1445.72 372.386,1445.72 374.436,1445.72 376.486,1445.72 378.536,1445.72 380.586,1445.72 382.637,1445.72 384.687,1445.72 386.737,1445.72 388.787,1445.72 390.837,1445.72 392.887,1445.72 394.937,1445.72 396.988,1445.72 399.038,1445.72 401.088,1445.72 403.138,1445.72 405.188,1445.72 407.238,1445.72 409.288,1445.72 411.338,1445.72 413.389,1445.72 415.439,1445.72 417.489,1445.72 419.539,1445.72 421.589,1445.72 423.639,1445.72 425.689,1445.72 427.74,1445.72 429.79,1445.72 431.84,1445.72 433.89,1445.72 435.94,1445.72 437.99,1445.72 440.04,1445.72 442.091,1445.72 444.141,1445.72 446.191,1445.72 448.241,1445.72 450.291,1445.72 452.341,1445.72 454.391,1445.72 456.441,1445.72 458.492,1445.72 460.542,1445.72 462.592,1445.72 464.642,1445.72 466.692,1445.72 468.742,1445.72 470.792,1445.72 472.843,1445.72 474.893,1445.72 476.943,1445.72 478.993,1445.72 481.043,1445.72 483.093,1445.72 485.143,1445.72 487.194,1445.72 489.244,1445.72 491.294,1445.72 493.344,1445.72 495.394,1445.72 497.444,1445.72 499.494,1445.72 501.544,1445.72 503.595,1445.72 505.645,1445.72 507.695,1445.72 509.745,1445.72 511.795,1445.72 513.845,1445.72 515.895,1445.72 517.946,1445.72 519.996,1445.72 522.046,1445.72 524.096,1445.72 526.146,1445.72 528.196,1445.72 530.246,1445.72 532.297,1445.72 534.347,1445.72 536.397,1445.72 538.447,1445.72 540.497,1445.72 542.547,1445.72 544.597,1445.72 546.647,1445.72 548.698,1445.72 550.748,1445.72 552.798,1445.72 554.848,1445.72 556.898,1445.72 558.948,1445.72 560.998,1445.72 563.049,1445.72 565.099,1445.72 567.149,1445.72 569.199,1445.72 571.249,1445.72 573.299,1445.72 575.349,1445.72 577.4,1445.72 579.45,1445.72 581.5,1445.72 583.55,1445.72 585.6,1445.72 587.65,1445.72 589.7,1445.72 591.75,1445.72 593.801,1445.72 595.851,1445.72 597.901,1445.72 599.951,1445.72 602.001,1445.72 604.051,1445.72 606.101,1445.72 608.152,1445.72 610.202,1445.72 612.252,1445.72 614.302,1445.72 616.352,1445.72 618.402,1445.72 620.452,1445.72 622.502,1445.72 624.553,1445.72 626.603,1445.72 628.653,1445.72 630.703,1445.72 632.753,1445.72 634.803,1445.72 636.853,1445.72 638.904,1445.72 640.954,1445.72 643.004,1445.72 645.054,1445.72 647.104,1445.72 649.154,1445.72 651.204,1445.72 653.255,1445.72 655.305,1445.72 657.355,1445.72 659.405,1445.72 661.455,1445.72 663.505,1445.72 665.555,1445.72 667.605,1445.72 669.656,1445.72 671.706,1445.72 673.756,1445.72 675.806,1445.72 677.856,1445.72 679.906,1445.72 681.956,1445.72 684.007,1445.72 686.057,1445.72 688.107,1445.72 690.157,1445.72 692.207,1445.72 694.257,1445.72 696.307,1445.72 698.358,1445.72 700.408,1445.72 702.458,1445.72 704.508,1445.72 706.558,1445.72 708.608,1445.72 710.658,1445.72 712.708,1445.72 714.759,1445.72 716.809,1445.72 718.859,1445.72 720.909,1445.72 722.959,1445.72 725.009,1445.72 727.059,1445.72 729.11,1445.72 731.16,1445.72 733.21,1445.72 735.26,1445.72 737.31,1445.72 739.36,1445.72 741.41,1445.72 743.461,1445.72 745.511,1445.72 747.561,1445.72 749.611,1445.72 751.661,1445.72 753.711,1445.72 755.761,1445.72 757.811,1445.72 759.862,1445.72 761.912,1445.72 763.962,1445.72 766.012,1445.72 768.062,1445.72 770.112,1445.72 772.162,1445.72 774.213,1445.72 776.263,1445.72 778.313,1445.72 780.363,1445.72 782.413,1445.72 784.463,1445.72 786.513,1445.72 788.564,1445.72 790.614,1445.72 792.664,1445.72 794.714,1445.72 796.764,1445.72 798.814,1445.72 800.864,1445.72 802.914,1445.72 804.965,1445.72 807.015,1445.72 809.065,1445.72 811.115,1445.72 813.165,1445.72 815.215,1445.72 817.265,1445.72 819.316,1445.72 821.366,1445.72 823.416,1445.72 825.466,1445.72 827.516,1445.72 829.566,1445.72 831.616,1445.72 833.667,1445.72 835.717,1445.72 837.767,1445.72 839.817,1445.72 841.867,1445.72 843.917,1445.72 845.967,1445.72 848.017,1445.72 850.068,1445.72 852.118,1445.72 854.168,1445.72 856.218,1445.72 858.268,1445.72 860.318,1445.72 862.368,1445.72 864.419,1445.72 866.469,1445.72 868.519,1445.72 870.569,1445.72 872.619,1445.72 874.669,1445.72 876.719,1445.72 878.77,1445.72 880.82,1445.72 882.87,1445.72 884.92,1445.72 886.97,1445.72 889.02,1445.72 891.07,1445.72 893.12,1445.72 895.171,1445.72 897.221,1445.72 899.271,1445.72 901.321,1445.72 903.371,1445.72 905.421,1445.72 907.471,1445.72 909.522,1445.72 911.572,1445.72 913.622,1445.72 915.672,1445.72 917.722,1445.72 919.772,1445.72 921.822,1445.72 923.873,1445.72 925.923,1445.72 927.973,1445.72 930.023,1445.72 932.073,1445.72 934.123,1445.72 936.173,1445.72 938.223,1445.72 940.274,1445.72 942.324,1445.72 944.374,1445.72 946.424,1445.72 948.474,1445.72 950.524,1445.72 952.574,1445.72 954.625,1445.72 956.675,1445.72 958.725,1445.72 960.775,1445.72 962.825,1445.72 964.875,1445.72 966.925,1445.72 968.976,1445.72 971.026,1445.72 973.076,1445.72 975.126,1445.72 977.176,1445.72 979.226,1445.72 981.276,1445.72 983.326,1445.72 985.377,1445.72 987.427,1445.72 989.477,1445.72 991.527,1445.72 993.577,1445.72 995.627,1445.72 997.677,1445.72 999.728,1445.72 1001.78,1445.72 1003.83,1445.72 1005.88,1445.72 1007.93,1445.72 1009.98,1445.72 1012.03,1445.72 1014.08,1445.72 1016.13,1445.72 1018.18,1445.72 1020.23,1445.72 1022.28,1445.72 1024.33,1445.72 1026.38,1445.72 1028.43,1445.72 1030.48,1445.72 1032.53,1445.72 1034.58,1445.72 1036.63,1445.72 1038.68,1445.72 1040.73,1445.72 1042.78,1445.72 1044.83,1445.72 1046.88,1445.72 1048.93,1445.72 1050.98,1445.72 1053.03,1445.72 1055.08,1445.72 1057.13,1445.72 1059.18,1445.72 1061.23,1445.72 1063.28,1445.72 1065.33,1445.72 1067.38,1445.72 1069.43,1445.72 1071.48,1445.72 1073.53,1445.72 1075.58,1445.72 1077.63,1445.72 1079.68,1445.72 1081.73,1445.72 1083.78,1445.72 1085.83,1445.72 1087.88,1445.72 1089.93,1445.72 1091.98,1445.72 1094.03,1445.72 1096.08,1445.72 1098.13,1445.72 1100.18,1445.72 1102.23,1445.72 1104.28,1445.72 1106.33,1445.72 1108.38,1445.72 1110.43,1445.72 1112.49,1445.72 1114.54,1445.72 1116.59,1445.72 1118.64,1445.72 1120.69,1445.72 1122.74,1445.72 1124.79,1445.72 1126.84,1445.72 1128.89,1445.72 1130.94,1445.72 1132.99,1445.72 1135.04,1445.72 1137.09,1445.72 1139.14,1445.72 1141.19,1445.72 1143.24,1445.72 1145.29,1445.72 1147.34,1445.72 1149.39,1445.72 1151.44,1445.72 1153.49,1445.72 1155.54,1445.72 1157.59,1445.72 1159.64,1445.72 1161.69,1445.72 1163.74,1445.72 1165.79,1445.72 1167.84,1445.72 1169.89,1445.72 1171.94,1445.72 1173.99,1445.72 1176.04,1445.72 1178.09,1445.72 1180.14,1445.72 1182.19,1445.72 1184.24,1445.72 1186.29,1445.72 1188.34,1445.72 1190.39,1445.72 1192.44,1445.72 1194.49,1445.72 1196.54,1445.72 1198.59,1445.72 1200.64,1445.72 1202.69,1445.72 1204.74,1445.72 1206.79,1445.72 1208.84,1445.72 1210.89,1445.72 1212.94,1445.72 1214.99,1445.72 1217.04,1445.72 1219.09,1445.72 1221.14,1445.72 1223.19,1445.72 1225.24,1445.72 1227.29,1445.72 1229.34,1445.72 1231.39,1445.72 1233.44,1445.72 1235.49,1445.72 1237.54,1445.72 1239.59,1445.72 1241.64,1445.72 1243.69,1445.72 1245.74,1445.72 1247.79,1445.72 1249.84,1445.72 1251.89,1445.72 1253.94,1445.72 1255.99,1445.72 1258.04,1445.72 1260.09,1445.72 1262.14,1445.72 1264.2,1445.72 1266.25,1445.72 1268.3,1445.72 1270.35,1445.72 1272.4,1445.72 1274.45,1445.72 1276.5,1445.72 1278.55,1445.72 1280.6,1445.72 1282.65,1445.72 1284.7,1445.72 1286.75,1445.72 1288.8,1445.72 1290.85,1445.72 1292.9,1445.72 1294.95,1445.72 1297,1445.72 1299.05,1445.72 1301.1,1445.72 1303.15,1445.72 1305.2,1445.72 1307.25,1445.72 1309.3,1445.72 1311.35,1445.72 1313.4,1445.72 1315.45,1445.72 1317.5,1445.72 1319.55,1445.72 1321.6,1445.72 1323.65,1445.72 1325.7,1445.72 1327.75,1445.72 1329.8,1445.72 1331.85,1445.72 1333.9,1445.72 1335.95,1445.72 1338,1445.72 1340.05,1445.72 1342.1,1445.72 1344.15,1445.72 1346.2,1445.72 1348.25,1445.72 1350.3,1445.72 1352.35,1445.72 1354.4,1445.72 1356.45,1445.72 1358.5,1445.72 1360.55,1445.72 1362.6,1445.72 1364.65,1445.72 1366.7,1445.72 1368.75,1445.72 1370.8,1445.72 1372.85,1445.72 1374.9,1445.72 1376.95,1445.72 1379,1445.72 1381.05,1445.72 1383.1,1445.72 1385.15,1445.72 1387.2,1445.72 1389.25,1445.72 1391.3,1445.72 1393.35,1445.72 1395.4,1445.72 1397.45,1445.72 1399.5,1445.72 1401.55,1445.72 1403.6,1445.72 1405.65,1445.72 1407.7,1445.72 1409.75,1445.72 1411.8,1445.72 1413.86,1445.72 1415.91,1445.72 1417.96,1445.72 1420.01,1445.72 1422.06,1445.72 1424.11,1445.72 1426.16,1445.72 1428.21,1445.72 1430.26,1445.72 1432.31,1445.72 1434.36,1445.72 1436.41,1445.72 1438.46,1445.72 1440.51,1445.72 1442.56,1445.72 1444.61,1445.72 1446.66,1445.72 1448.71,1445.72 1450.76,1445.72 1452.81,1445.72 1454.86,1445.72 1456.91,1445.72 1458.96,1445.72 1461.01,1445.72 1463.06,1445.72 1465.11,1445.72 1467.16,1445.72 1469.21,1445.72 1471.26,1445.72 1473.31,1445.72 1475.36,1445.72 1477.41,1445.72 1479.46,1445.72 1481.51,1445.72 1483.56,1445.72 1485.61,1445.72 1487.66,1445.72 1489.71,1445.72 1491.76,1445.72 1493.81,1445.72 1495.86,1445.72 1497.91,1445.72 1499.96,1445.72 1502.01,1445.72 1504.06,1445.72 1506.11,1445.72 1508.16,1445.72 1510.21,1445.72 1512.26,1445.72 1514.31,1445.72 1516.36,1445.72 1518.41,1445.72 1520.46,1445.72 1522.51,1445.72 1524.56,1445.72 1526.61,1445.72 1528.66,1445.72 1530.71,1445.72 1532.76,1445.72 1534.81,1445.72 1536.86,1445.72 1538.91,1445.72 1540.96,1445.72 1543.01,1445.72 1545.06,1445.72 1547.11,1445.72 1549.16,1445.72 1551.21,1445.72 1553.26,1445.72 1555.31,1445.72 1557.36,1445.72 1559.41,1445.72 1561.46,1445.72 1563.51,1445.72 1565.57,1445.72 1567.62,1445.72 1569.67,1445.72 1571.72,1445.72 1573.77,1445.72 1575.82,1445.72 1577.87,1445.72 1579.92,1445.72 1581.97,1445.72 1584.02,1445.72 1586.07,1445.72 1588.12,1445.72 1590.17,1445.72 1592.22,1445.72 1594.27,1445.72 1596.32,1445.72 1598.37,1445.72 1600.42,1445.72 1602.47,1445.72 1604.52,1445.72 1606.57,1445.72 1608.62,1445.72 1610.67,1445.72 1612.72,1445.72 1614.77,1445.72 1616.82,1445.72 1618.87,1445.72 1620.92,1445.72 1622.97,1445.72 1625.02,1445.72 1627.07,1445.72 1629.12,1445.72 1631.17,1445.72 1633.22,1445.72 1635.27,1445.72 1637.32,1445.72 1639.37,1445.72 1641.42,1445.72 1643.47,1445.72 1645.52,1445.72 1647.57,1445.72 1649.62,1445.72 1651.67,1445.72 1653.72,1445.72 1655.77,1445.72 1657.82,1445.72 1659.87,1445.72 1661.92,1445.72 1663.97,1445.72 1666.02,1445.72 1668.07,1445.72 1670.12,1445.72 1672.17,1445.72 1674.22,1445.72 1676.27,1445.72 1678.32,1445.72 1680.37,1445.72 1682.42,1445.72 1684.47,1445.72 1686.52,1445.72 1688.57,1445.72 1690.62,1445.72 1692.67,1445.72 1694.72,1445.72 1696.77,1445.72 1698.82,1445.72 1700.87,1445.72 1702.92,1445.72 1704.97,1445.72 1707.02,1445.72 1709.07,1445.72 1711.12,1445.72 1713.17,1445.72 1715.23,1445.72 1717.28,1445.72 1719.33,1445.72 1721.38,1445.72 1723.43,1445.72 1725.48,1445.72 1727.53,1445.72 1729.58,1445.72 1731.63,1445.72 1733.68,1445.72 1735.73,1445.72 1737.78,1445.72 1739.83,1445.72 1741.88,1445.72 1743.93,1445.72 1745.98,1445.72 1748.03,1445.72 1750.08,1445.72 1752.13,1445.72 1754.18,1445.72 1756.23,1445.72 1758.28,1445.72 1760.33,1445.72 1762.38,1445.72 1764.43,1445.72 1766.48,1445.72 1768.53,1445.72 1770.58,1445.72 1772.63,1445.72 1774.68,1445.72 1776.73,1445.72 1778.78,1445.72 1780.83,1445.72 1782.88,1445.72 1784.93,1445.72 1786.98,1445.72 1789.03,1445.72 1791.08,1445.72 1793.13,1445.72 1795.18,1445.72 1797.23,1445.72 1799.28,1445.72 1801.33,1445.72 1803.38,1445.72 1805.43,1445.72 1807.48,1445.72 1809.53,1445.72 1811.58,1445.72 1813.63,1445.72 1815.68,1445.72 1817.73,1445.72 1819.78,1445.72 1821.83,1445.72 1823.88,1445.72 1825.93,1445.72 1827.98,1445.72 1830.03,1445.72 1832.08,1445.72 1834.13,1445.72 1836.18,1445.72 1838.23,1445.72 1840.28,1445.72 1842.33,1445.72 1844.38,1445.72 1846.43,1445.72 1848.48,1445.72 1850.53,1445.72 1852.58,1445.72 1854.63,1445.72 1856.68,1445.72 1858.73,1445.72 1860.78,1445.72 1862.83,1445.72 1864.89,1445.72 1866.94,1445.72 1868.99,1445.72 1871.04,1445.72 1873.09,1445.72 1875.14,1445.72 1877.19,1445.72 1879.24,1445.72 1881.29,1445.72 1883.34,1445.72 1885.39,1445.72 1887.44,1445.72 1889.49,1445.72 1891.54,1445.72 1893.59,1445.72 1895.64,1445.72 1897.69,1445.72 1899.74,1445.72 1901.79,1445.72 1903.84,1445.72 1905.89,1445.72 1907.94,1445.72 1909.99,1445.72 1912.04,1445.72 1914.09,1445.72 1916.14,1445.72 1918.19,1445.72 1920.24,1445.72 1922.29,1445.72 1924.34,1445.72 1926.39,1445.72 1928.44,1445.72 1930.49,1445.72 1932.54,1445.72 1934.59,1445.72 1936.64,1445.72 1938.69,1445.72 1940.74,1445.72 1942.79,1445.72 1944.84,1445.72 1946.89,1445.72 1948.94,1445.72 1950.99,1445.72 1953.04,1445.72 1955.09,1445.72 1957.14,1445.72 1959.19,1445.72 1961.24,1445.72 1963.29,1445.72 1965.34,1445.72 1967.39,1445.72 1969.44,1445.72 1971.49,1445.72 1973.54,1445.72 1975.59,1445.72 1977.64,1445.72 1979.69,1445.72 1981.74,1445.72 1983.79,1445.72 1985.84,1445.72 1987.89,1445.72 1989.94,1445.72 1991.99,1445.72 1994.04,1445.72 1996.09,1445.72 1998.14,1445.72 2000.19,1445.72 2002.24,1445.72 2004.29,1445.72 2006.34,1445.72 2008.39,1445.72 2010.44,1445.72 2012.49,1445.72 2014.54,1445.72 2016.6,1445.72 2018.65,1445.72 2020.7,1445.72 2022.75,1445.72 2024.8,1445.72 2026.85,1445.72 2028.9,1445.72 2030.95,1445.72 2033,1445.72 2035.05,1445.72 2037.1,1445.72 2039.15,1445.72 2041.2,1445.72 2043.25,1445.72 2045.3,1445.72 2047.35,1445.72 2049.4,1445.72 2051.45,1445.72 2053.5,1445.72 2055.55,1445.72 2057.6,1445.72 2059.65,1445.72 2061.7,1445.72 2063.75,1445.72 2065.8,1445.72 2067.85,1445.72 2069.9,1445.72 2071.95,1445.72 2074,1445.72 2076.05,1445.72 2078.1,1445.72 2080.15,1445.72 2082.2,1445.72 2084.25,1445.72 2086.3,1445.72 2088.35,1445.72 2090.4,1445.72 2092.45,1445.72 2094.5,1445.72 2096.55,1445.72 2098.6,1445.72 2100.65,1445.72 2102.7,1445.72 2104.75,1445.72 2106.8,1445.72 2108.85,1445.72 2110.9,1445.72 2112.95,1445.72 2115,1445.72 2117.05,1445.72 2119.1,1445.72 2121.15,1445.72 2123.2,1445.72 2125.25,1445.72 2127.3,1445.72 2129.35,1445.72 2131.4,1445.72 2133.45,1445.72 2135.5,1445.72 2137.55,1445.72 2139.6,1445.72 2141.65,1445.72 2143.7,1445.72 2145.75,1445.72 2147.8,1445.72 2149.85,1445.72 2151.9,1445.72 2153.95,1445.72 2156,1445.72 2158.05,1445.72 2160.1,1445.72 2162.15,1445.72 2164.2,1445.72 2166.26,1445.72 2168.31,1445.72 2170.36,1445.72 2172.41,1445.72 2174.46,1445.72 2176.51,1445.72 2178.56,1445.72 2180.61,1445.72 2182.66,1445.72 2184.71,1445.72 2186.76,1445.72 2188.81,1445.72 2190.86,1445.72 2192.91,1445.72 2194.96,1445.72 2197.01,1445.72 2199.06,1445.72 2201.11,1445.72 2203.16,1445.72 2205.21,1445.72 2207.26,1445.72 2209.31,1445.72 2211.36,1445.72 2213.41,1445.72 2215.46,1445.72 2217.51,1445.72 2219.56,1445.72 2221.61,1445.72 2223.66,1445.72 2225.71,1445.72 2227.76,1445.72 2229.81,1445.72 2231.86,1445.72 2233.91,1445.72 2235.96,1445.72 2238.01,1445.72 2240.06,1445.72 2242.11,1445.72 2244.16,1445.72 2246.21,1445.72 2248.26,1445.72 2250.31,1445.72 2252.36,1445.72 2254.41,1445.72 2256.46,1445.72 2258.51,1445.72 2260.56,1445.72 2262.61,1445.72 2264.66,1445.72 2266.71,1445.72 2268.76,1445.72 2270.81,1445.72 2272.86,1445.72 2274.91,1445.72 2276.96,1445.72 2279.01,1445.72 2281.06,1445.72 2283.11,1445.72 2285.16,1445.72 2287.21,1445.72 2289.26,1445.72 2291.31,1445.72 \"/>\n",
       "<polyline clip-path=\"url(#clip112)\" style=\"stroke:#3da44d; stroke-linecap:round; stroke-linejoin:round; stroke-width:4; stroke-opacity:1; fill:none\" points=\"243.227,1047.73 245.277,1032.23 247.328,1020.78 249.378,1012.19 251.428,1005.83 253.478,1001.28 255.528,998.259 257.578,996.565 259.628,996.041 261.679,996.565 263.729,998.036 265.779,1000.37 267.829,1003.51 269.879,1007.38 271.929,1011.93 273.979,1017.14 276.029,1022.94 278.08,1029.32 280.13,1036.23 282.18,1043.66 284.23,1051.58 286.28,1059.96 288.33,1068.78 290.38,1078.03 292.431,1087.69 294.481,1097.74 296.531,1108.17 298.581,1118.97 300.631,1130.11 302.681,1141.6 304.731,1153.41 306.782,1165.55 308.832,1177.99 310.882,1190.73 312.932,1203.76 314.982,1217.08 317.032,1230.67 319.082,1244.53 321.132,1258.65 323.183,1273.02 325.233,1287.64 327.283,1302.52 329.333,1317.58 331.383,1333.09 333.433,1347.9 335.483,1367.76 337.534,1371.44 339.584,1378.66 341.634,1376.72 343.684,1377.08 345.734,1377 347.784,1377.02 349.834,1377.02 351.885,1377.02 353.935,1377.02 355.985,1377.02 358.035,1377.02 360.085,1377.02 362.135,1377.02 364.185,1377.02 366.235,1377.02 368.286,1377.02 370.336,1377.02 372.386,1377.02 374.436,1377.02 376.486,1377.02 378.536,1377.02 380.586,1377.02 382.637,1377.02 384.687,1377.02 386.737,1377.02 388.787,1377.02 390.837,1377.02 392.887,1377.02 394.937,1377.02 396.988,1377.02 399.038,1377.02 401.088,1377.02 403.138,1377.02 405.188,1377.02 407.238,1377.02 409.288,1377.02 411.338,1377.02 413.389,1377.02 415.439,1377.02 417.489,1377.02 419.539,1377.02 421.589,1377.02 423.639,1377.02 425.689,1377.02 427.74,1377.02 429.79,1377.02 431.84,1377.02 433.89,1377.02 435.94,1377.02 437.99,1377.02 440.04,1377.02 442.091,1377.02 444.141,1377.02 446.191,1377.02 448.241,1377.02 450.291,1377.02 452.341,1377.02 454.391,1377.02 456.441,1377.02 458.492,1377.02 460.542,1377.02 462.592,1377.02 464.642,1377.02 466.692,1377.02 468.742,1377.02 470.792,1377.02 472.843,1377.02 474.893,1377.02 476.943,1377.02 478.993,1377.02 481.043,1377.02 483.093,1377.02 485.143,1377.02 487.194,1377.02 489.244,1377.02 491.294,1377.02 493.344,1377.02 495.394,1377.02 497.444,1377.02 499.494,1377.02 501.544,1377.02 503.595,1377.02 505.645,1377.02 507.695,1377.02 509.745,1377.02 511.795,1377.02 513.845,1377.02 515.895,1377.02 517.946,1377.02 519.996,1377.02 522.046,1377.02 524.096,1377.02 526.146,1377.02 528.196,1377.02 530.246,1377.02 532.297,1377.02 534.347,1377.02 536.397,1377.02 538.447,1377.02 540.497,1377.02 542.547,1377.02 544.597,1377.02 546.647,1377.02 548.698,1377.02 550.748,1377.02 552.798,1377.02 554.848,1377.02 556.898,1377.02 558.948,1377.02 560.998,1377.02 563.049,1377.02 565.099,1377.02 567.149,1377.02 569.199,1377.02 571.249,1377.02 573.299,1377.02 575.349,1377.02 577.4,1377.02 579.45,1377.02 581.5,1377.02 583.55,1377.02 585.6,1377.02 587.65,1377.02 589.7,1377.02 591.75,1377.02 593.801,1377.02 595.851,1377.02 597.901,1377.02 599.951,1377.02 602.001,1377.02 604.051,1377.02 606.101,1377.02 608.152,1377.02 610.202,1377.02 612.252,1377.02 614.302,1377.02 616.352,1377.02 618.402,1377.02 620.452,1377.02 622.502,1377.02 624.553,1377.02 626.603,1377.02 628.653,1377.02 630.703,1377.02 632.753,1377.02 634.803,1377.02 636.853,1377.02 638.904,1377.02 640.954,1377.02 643.004,1377.02 645.054,1377.02 647.104,1377.02 649.154,1377.02 651.204,1377.02 653.255,1377.02 655.305,1377.02 657.355,1377.02 659.405,1377.02 661.455,1377.02 663.505,1377.02 665.555,1377.02 667.605,1377.02 669.656,1377.02 671.706,1377.02 673.756,1377.02 675.806,1377.02 677.856,1377.02 679.906,1377.02 681.956,1377.02 684.007,1377.02 686.057,1377.02 688.107,1377.02 690.157,1377.02 692.207,1377.02 694.257,1377.02 696.307,1377.02 698.358,1377.02 700.408,1377.02 702.458,1377.02 704.508,1377.02 706.558,1377.02 708.608,1377.02 710.658,1377.02 712.708,1377.02 714.759,1377.02 716.809,1377.02 718.859,1377.02 720.909,1377.02 722.959,1377.02 725.009,1377.02 727.059,1377.02 729.11,1377.02 731.16,1377.02 733.21,1377.02 735.26,1377.02 737.31,1377.02 739.36,1377.02 741.41,1377.02 743.461,1377.02 745.511,1377.02 747.561,1377.02 749.611,1377.02 751.661,1377.02 753.711,1377.02 755.761,1377.02 757.811,1377.02 759.862,1377.02 761.912,1377.02 763.962,1377.02 766.012,1377.02 768.062,1377.02 770.112,1377.02 772.162,1377.02 774.213,1377.02 776.263,1377.02 778.313,1377.02 780.363,1377.02 782.413,1377.02 784.463,1377.02 786.513,1377.02 788.564,1377.02 790.614,1377.02 792.664,1377.02 794.714,1377.02 796.764,1377.02 798.814,1377.02 800.864,1377.02 802.914,1377.02 804.965,1377.02 807.015,1377.02 809.065,1377.02 811.115,1377.02 813.165,1377.02 815.215,1377.02 817.265,1377.02 819.316,1377.02 821.366,1377.02 823.416,1377.02 825.466,1377.02 827.516,1377.02 829.566,1377.02 831.616,1377.02 833.667,1377.02 835.717,1377.02 837.767,1377.02 839.817,1377.02 841.867,1377.02 843.917,1377.02 845.967,1377.02 848.017,1377.02 850.068,1377.02 852.118,1377.02 854.168,1377.02 856.218,1377.02 858.268,1377.02 860.318,1377.02 862.368,1377.02 864.419,1377.02 866.469,1377.02 868.519,1377.02 870.569,1377.02 872.619,1377.02 874.669,1377.02 876.719,1377.02 878.77,1377.02 880.82,1377.02 882.87,1377.02 884.92,1377.02 886.97,1377.02 889.02,1377.02 891.07,1377.02 893.12,1377.02 895.171,1377.02 897.221,1377.02 899.271,1377.02 901.321,1377.02 903.371,1377.02 905.421,1377.02 907.471,1377.02 909.522,1377.02 911.572,1377.02 913.622,1377.02 915.672,1377.02 917.722,1377.02 919.772,1377.02 921.822,1377.02 923.873,1377.02 925.923,1377.02 927.973,1377.02 930.023,1377.02 932.073,1377.02 934.123,1377.02 936.173,1377.02 938.223,1377.02 940.274,1377.02 942.324,1377.02 944.374,1377.02 946.424,1377.02 948.474,1377.02 950.524,1377.02 952.574,1377.02 954.625,1377.02 956.675,1377.02 958.725,1377.02 960.775,1377.02 962.825,1377.02 964.875,1377.02 966.925,1377.02 968.976,1377.02 971.026,1377.02 973.076,1377.02 975.126,1377.02 977.176,1377.02 979.226,1377.02 981.276,1377.02 983.326,1377.02 985.377,1377.02 987.427,1377.02 989.477,1377.02 991.527,1377.02 993.577,1377.02 995.627,1377.02 997.677,1377.02 999.728,1377.02 1001.78,1377.02 1003.83,1377.02 1005.88,1377.02 1007.93,1377.02 1009.98,1377.02 1012.03,1377.02 1014.08,1377.02 1016.13,1377.02 1018.18,1377.02 1020.23,1377.02 1022.28,1377.02 1024.33,1377.02 1026.38,1377.02 1028.43,1377.02 1030.48,1377.02 1032.53,1377.02 1034.58,1377.02 1036.63,1377.02 1038.68,1377.02 1040.73,1377.02 1042.78,1377.02 1044.83,1377.02 1046.88,1377.02 1048.93,1377.02 1050.98,1377.02 1053.03,1377.02 1055.08,1377.02 1057.13,1377.02 1059.18,1377.02 1061.23,1377.02 1063.28,1377.02 1065.33,1377.02 1067.38,1377.02 1069.43,1377.02 1071.48,1377.02 1073.53,1377.02 1075.58,1377.02 1077.63,1377.02 1079.68,1377.02 1081.73,1377.02 1083.78,1377.02 1085.83,1377.02 1087.88,1377.02 1089.93,1377.02 1091.98,1377.02 1094.03,1377.02 1096.08,1377.02 1098.13,1377.02 1100.18,1377.02 1102.23,1377.02 1104.28,1377.02 1106.33,1377.02 1108.38,1377.02 1110.43,1377.02 1112.49,1377.02 1114.54,1377.02 1116.59,1377.02 1118.64,1377.02 1120.69,1377.02 1122.74,1377.02 1124.79,1377.02 1126.84,1377.02 1128.89,1377.02 1130.94,1377.02 1132.99,1377.02 1135.04,1377.02 1137.09,1377.02 1139.14,1377.02 1141.19,1377.02 1143.24,1377.02 1145.29,1377.02 1147.34,1377.02 1149.39,1377.02 1151.44,1377.02 1153.49,1377.02 1155.54,1377.02 1157.59,1377.02 1159.64,1377.02 1161.69,1377.02 1163.74,1377.02 1165.79,1377.02 1167.84,1377.02 1169.89,1377.02 1171.94,1377.02 1173.99,1377.02 1176.04,1377.02 1178.09,1377.02 1180.14,1377.02 1182.19,1377.02 1184.24,1377.02 1186.29,1377.02 1188.34,1377.02 1190.39,1377.02 1192.44,1377.02 1194.49,1377.02 1196.54,1377.02 1198.59,1377.02 1200.64,1377.02 1202.69,1377.02 1204.74,1377.02 1206.79,1377.02 1208.84,1377.02 1210.89,1377.02 1212.94,1377.02 1214.99,1377.02 1217.04,1377.02 1219.09,1377.02 1221.14,1377.02 1223.19,1377.02 1225.24,1377.02 1227.29,1377.02 1229.34,1377.02 1231.39,1377.02 1233.44,1377.02 1235.49,1377.02 1237.54,1377.02 1239.59,1377.02 1241.64,1377.02 1243.69,1377.02 1245.74,1377.02 1247.79,1377.02 1249.84,1377.02 1251.89,1377.02 1253.94,1377.02 1255.99,1377.02 1258.04,1377.02 1260.09,1377.02 1262.14,1377.02 1264.2,1377.02 1266.25,1377.02 1268.3,1377.02 1270.35,1377.02 1272.4,1377.02 1274.45,1377.02 1276.5,1377.02 1278.55,1377.02 1280.6,1377.02 1282.65,1377.02 1284.7,1377.02 1286.75,1377.02 1288.8,1377.02 1290.85,1377.02 1292.9,1377.02 1294.95,1377.02 1297,1377.02 1299.05,1377.02 1301.1,1377.02 1303.15,1377.02 1305.2,1377.02 1307.25,1377.02 1309.3,1377.02 1311.35,1377.02 1313.4,1377.02 1315.45,1377.02 1317.5,1377.02 1319.55,1377.02 1321.6,1377.02 1323.65,1377.02 1325.7,1377.02 1327.75,1377.02 1329.8,1377.02 1331.85,1377.02 1333.9,1377.02 1335.95,1377.02 1338,1377.02 1340.05,1377.02 1342.1,1377.02 1344.15,1377.02 1346.2,1377.02 1348.25,1377.02 1350.3,1377.02 1352.35,1377.02 1354.4,1377.02 1356.45,1377.02 1358.5,1377.02 1360.55,1377.02 1362.6,1377.02 1364.65,1377.02 1366.7,1377.02 1368.75,1377.02 1370.8,1377.02 1372.85,1377.02 1374.9,1377.02 1376.95,1377.02 1379,1377.02 1381.05,1377.02 1383.1,1377.02 1385.15,1377.02 1387.2,1377.02 1389.25,1377.02 1391.3,1377.02 1393.35,1377.02 1395.4,1377.02 1397.45,1377.02 1399.5,1377.02 1401.55,1377.02 1403.6,1377.02 1405.65,1377.02 1407.7,1377.02 1409.75,1377.02 1411.8,1377.02 1413.86,1377.02 1415.91,1377.02 1417.96,1377.02 1420.01,1377.02 1422.06,1377.02 1424.11,1377.02 1426.16,1377.02 1428.21,1377.02 1430.26,1377.02 1432.31,1377.02 1434.36,1377.02 1436.41,1377.02 1438.46,1377.02 1440.51,1377.02 1442.56,1377.02 1444.61,1377.02 1446.66,1377.02 1448.71,1377.02 1450.76,1377.02 1452.81,1377.02 1454.86,1377.02 1456.91,1377.02 1458.96,1377.02 1461.01,1377.02 1463.06,1377.02 1465.11,1377.02 1467.16,1377.02 1469.21,1377.02 1471.26,1377.02 1473.31,1377.02 1475.36,1377.02 1477.41,1377.02 1479.46,1377.02 1481.51,1377.02 1483.56,1377.02 1485.61,1377.02 1487.66,1377.02 1489.71,1377.02 1491.76,1377.02 1493.81,1377.02 1495.86,1377.02 1497.91,1377.02 1499.96,1377.02 1502.01,1377.02 1504.06,1377.02 1506.11,1377.02 1508.16,1377.02 1510.21,1377.02 1512.26,1377.02 1514.31,1377.02 1516.36,1377.02 1518.41,1377.02 1520.46,1377.02 1522.51,1377.02 1524.56,1377.02 1526.61,1377.02 1528.66,1377.02 1530.71,1377.02 1532.76,1377.02 1534.81,1377.02 1536.86,1377.02 1538.91,1377.02 1540.96,1377.02 1543.01,1377.02 1545.06,1377.02 1547.11,1377.02 1549.16,1377.02 1551.21,1377.02 1553.26,1377.02 1555.31,1377.02 1557.36,1377.02 1559.41,1377.02 1561.46,1377.02 1563.51,1377.02 1565.57,1377.02 1567.62,1377.02 1569.67,1377.02 1571.72,1377.02 1573.77,1377.02 1575.82,1377.02 1577.87,1377.02 1579.92,1377.02 1581.97,1377.02 1584.02,1377.02 1586.07,1377.02 1588.12,1377.02 1590.17,1377.02 1592.22,1377.02 1594.27,1377.02 1596.32,1377.02 1598.37,1377.02 1600.42,1377.02 1602.47,1377.02 1604.52,1377.02 1606.57,1377.02 1608.62,1377.02 1610.67,1377.02 1612.72,1377.02 1614.77,1377.02 1616.82,1377.02 1618.87,1377.02 1620.92,1377.02 1622.97,1377.02 1625.02,1377.02 1627.07,1377.02 1629.12,1377.02 1631.17,1377.02 1633.22,1377.02 1635.27,1377.02 1637.32,1377.02 1639.37,1377.02 1641.42,1377.02 1643.47,1377.02 1645.52,1377.02 1647.57,1377.02 1649.62,1377.02 1651.67,1377.02 1653.72,1377.02 1655.77,1377.02 1657.82,1377.02 1659.87,1377.02 1661.92,1377.02 1663.97,1377.02 1666.02,1377.02 1668.07,1377.02 1670.12,1377.02 1672.17,1377.02 1674.22,1377.02 1676.27,1377.02 1678.32,1377.02 1680.37,1377.02 1682.42,1377.02 1684.47,1377.02 1686.52,1377.02 1688.57,1377.02 1690.62,1377.02 1692.67,1377.02 1694.72,1377.02 1696.77,1377.02 1698.82,1377.02 1700.87,1377.02 1702.92,1377.02 1704.97,1377.02 1707.02,1377.02 1709.07,1377.02 1711.12,1377.02 1713.17,1377.02 1715.23,1377.02 1717.28,1377.02 1719.33,1377.02 1721.38,1377.02 1723.43,1377.02 1725.48,1377.02 1727.53,1377.02 1729.58,1377.02 1731.63,1377.02 1733.68,1377.02 1735.73,1377.02 1737.78,1377.02 1739.83,1377.02 1741.88,1377.02 1743.93,1377.02 1745.98,1377.02 1748.03,1377.02 1750.08,1377.02 1752.13,1377.02 1754.18,1377.02 1756.23,1377.02 1758.28,1377.02 1760.33,1377.02 1762.38,1377.02 1764.43,1377.02 1766.48,1377.02 1768.53,1377.02 1770.58,1377.02 1772.63,1377.02 1774.68,1377.02 1776.73,1377.02 1778.78,1377.02 1780.83,1377.02 1782.88,1377.02 1784.93,1377.02 1786.98,1377.02 1789.03,1377.02 1791.08,1377.02 1793.13,1377.02 1795.18,1377.02 1797.23,1377.02 1799.28,1377.02 1801.33,1377.02 1803.38,1377.02 1805.43,1377.02 1807.48,1377.02 1809.53,1377.02 1811.58,1377.02 1813.63,1377.02 1815.68,1377.02 1817.73,1377.02 1819.78,1377.02 1821.83,1377.02 1823.88,1377.02 1825.93,1377.02 1827.98,1377.02 1830.03,1377.02 1832.08,1377.02 1834.13,1377.02 1836.18,1377.02 1838.23,1377.02 1840.28,1377.02 1842.33,1377.02 1844.38,1377.02 1846.43,1377.02 1848.48,1377.02 1850.53,1377.02 1852.58,1377.02 1854.63,1377.02 1856.68,1377.02 1858.73,1377.02 1860.78,1377.02 1862.83,1377.02 1864.89,1377.02 1866.94,1377.02 1868.99,1377.02 1871.04,1377.02 1873.09,1377.02 1875.14,1377.02 1877.19,1377.02 1879.24,1377.02 1881.29,1377.02 1883.34,1377.02 1885.39,1377.02 1887.44,1377.02 1889.49,1377.02 1891.54,1377.02 1893.59,1377.02 1895.64,1377.02 1897.69,1377.02 1899.74,1377.02 1901.79,1377.02 1903.84,1377.02 1905.89,1377.02 1907.94,1377.02 1909.99,1377.02 1912.04,1377.02 1914.09,1377.02 1916.14,1377.02 1918.19,1377.02 1920.24,1377.02 1922.29,1377.02 1924.34,1377.02 1926.39,1377.02 1928.44,1377.02 1930.49,1377.02 1932.54,1377.02 1934.59,1377.02 1936.64,1377.02 1938.69,1377.02 1940.74,1377.02 1942.79,1377.02 1944.84,1377.02 1946.89,1377.02 1948.94,1377.02 1950.99,1377.02 1953.04,1377.02 1955.09,1377.02 1957.14,1377.02 1959.19,1377.02 1961.24,1377.02 1963.29,1377.02 1965.34,1377.02 1967.39,1377.02 1969.44,1377.02 1971.49,1377.02 1973.54,1377.02 1975.59,1377.02 1977.64,1377.02 1979.69,1377.02 1981.74,1377.02 1983.79,1377.02 1985.84,1377.02 1987.89,1377.02 1989.94,1377.02 1991.99,1377.02 1994.04,1377.02 1996.09,1377.02 1998.14,1377.02 2000.19,1377.02 2002.24,1377.02 2004.29,1377.02 2006.34,1377.02 2008.39,1377.02 2010.44,1377.02 2012.49,1377.02 2014.54,1377.02 2016.6,1377.02 2018.65,1377.02 2020.7,1377.02 2022.75,1377.02 2024.8,1377.02 2026.85,1377.02 2028.9,1377.02 2030.95,1377.02 2033,1377.02 2035.05,1377.02 2037.1,1377.02 2039.15,1377.02 2041.2,1377.02 2043.25,1377.02 2045.3,1377.02 2047.35,1377.02 2049.4,1377.02 2051.45,1377.02 2053.5,1377.02 2055.55,1377.02 2057.6,1377.02 2059.65,1377.02 2061.7,1377.02 2063.75,1377.02 2065.8,1377.02 2067.85,1377.02 2069.9,1377.02 2071.95,1377.02 2074,1377.02 2076.05,1377.02 2078.1,1377.02 2080.15,1377.02 2082.2,1377.02 2084.25,1377.02 2086.3,1377.02 2088.35,1377.02 2090.4,1377.02 2092.45,1377.02 2094.5,1377.02 2096.55,1377.02 2098.6,1377.02 2100.65,1377.02 2102.7,1377.02 2104.75,1377.02 2106.8,1377.02 2108.85,1377.02 2110.9,1377.02 2112.95,1377.02 2115,1377.02 2117.05,1377.02 2119.1,1377.02 2121.15,1377.02 2123.2,1377.02 2125.25,1377.02 2127.3,1377.02 2129.35,1377.02 2131.4,1377.02 2133.45,1377.02 2135.5,1377.02 2137.55,1377.02 2139.6,1377.02 2141.65,1377.02 2143.7,1377.02 2145.75,1377.02 2147.8,1377.02 2149.85,1377.02 2151.9,1377.02 2153.95,1377.02 2156,1377.02 2158.05,1377.02 2160.1,1377.02 2162.15,1377.02 2164.2,1377.02 2166.26,1377.02 2168.31,1377.02 2170.36,1377.02 2172.41,1377.02 2174.46,1377.02 2176.51,1377.02 2178.56,1377.02 2180.61,1377.02 2182.66,1377.02 2184.71,1377.02 2186.76,1377.02 2188.81,1377.02 2190.86,1377.02 2192.91,1377.02 2194.96,1377.02 2197.01,1377.02 2199.06,1377.02 2201.11,1377.02 2203.16,1377.02 2205.21,1377.02 2207.26,1377.02 2209.31,1377.02 2211.36,1377.02 2213.41,1377.02 2215.46,1377.02 2217.51,1377.02 2219.56,1377.02 2221.61,1377.02 2223.66,1377.02 2225.71,1377.02 2227.76,1377.02 2229.81,1377.02 2231.86,1377.02 2233.91,1377.02 2235.96,1377.02 2238.01,1377.02 2240.06,1377.02 2242.11,1377.02 2244.16,1377.02 2246.21,1377.02 2248.26,1377.02 2250.31,1377.02 2252.36,1377.02 2254.41,1377.02 2256.46,1377.02 2258.51,1377.02 2260.56,1377.02 2262.61,1377.02 2264.66,1377.02 2266.71,1377.02 2268.76,1377.02 2270.81,1377.02 2272.86,1377.02 2274.91,1377.02 2276.96,1377.02 2279.01,1377.02 2281.06,1377.02 2283.11,1377.02 2285.16,1377.02 2287.21,1377.02 2289.26,1377.02 2291.31,1377.02 \"/>\n",
       "<polyline clip-path=\"url(#clip112)\" style=\"stroke:#c271d2; stroke-linecap:round; stroke-linejoin:round; stroke-width:4; stroke-opacity:1; fill:none\" points=\"243.227,1023.22 245.277,983.329 247.328,947.585 249.378,914.781 251.428,884.257 253.478,855.596 255.528,828.509 257.578,802.787 259.628,778.268 261.679,754.824 263.729,732.355 265.779,710.773 267.829,690.009 269.879,670.002 271.929,650.7 273.979,632.056 276.029,614.031 278.08,596.59 280.13,579.7 282.18,563.334 284.23,547.467 286.28,532.074 288.33,517.134 290.38,502.629 292.431,488.541 294.481,474.853 296.531,461.55 298.581,448.618 300.631,436.044 302.681,423.816 304.731,411.923 306.782,400.354 308.832,389.098 310.882,378.147 312.932,367.492 314.982,357.125 317.032,347.036 319.082,337.22 321.132,327.669 323.183,318.376 325.233,309.335 327.283,300.54 329.333,291.985 331.383,283.664 333.433,275.572 335.483,267.705 337.534,260.057 339.584,252.624 341.634,245.401 343.684,238.384 345.734,231.569 347.784,224.952 349.834,218.53 351.885,212.298 353.935,206.253 355.985,200.392 358.035,194.711 360.085,189.208 362.135,183.879 364.185,178.721 366.235,173.732 368.286,168.909 370.336,164.249 372.386,159.75 374.436,155.408 376.486,151.223 378.536,147.191 380.586,143.309 382.637,139.577 384.687,135.992 386.737,132.551 388.787,129.252 390.837,126.095 392.887,123.076 394.937,120.193 396.988,117.446 399.038,114.833 401.088,112.351 403.138,109.998 405.188,107.774 407.238,105.677 409.288,103.705 411.338,101.856 413.389,100.129 415.439,98.5236 417.489,97.037 419.539,95.6683 421.589,94.4161 423.639,93.2791 425.689,92.2561 427.74,91.3457 429.79,90.5467 431.84,89.858 433.89,89.2784 435.94,88.8066 437.99,88.4416 440.04,88.1823 442.091,88.0275 444.141,87.9763 446.191,88.0275 448.241,88.1802 450.291,88.4334 452.341,88.786 454.391,89.2371 456.441,89.7859 458.492,90.4312 460.542,91.1723 462.592,92.0083 464.642,92.9382 466.692,93.9613 468.742,95.0766 470.792,96.2834 472.843,97.5808 474.893,98.968 476.943,100.444 478.993,102.009 481.043,103.661 483.093,105.4 485.143,107.225 487.194,109.135 489.244,111.13 491.294,113.209 493.344,115.371 495.394,117.615 497.444,119.942 499.494,122.35 501.544,124.838 503.595,127.406 505.645,130.054 507.695,132.781 509.745,135.585 511.795,138.467 513.845,141.426 515.895,144.462 517.946,147.573 519.996,150.76 522.046,154.021 524.096,157.356 526.146,160.765 528.196,164.247 530.246,167.802 532.297,171.429 534.347,175.127 536.397,178.896 538.447,182.736 540.497,186.646 542.547,190.626 544.597,194.675 546.647,198.792 548.698,202.978 550.748,207.231 552.798,211.552 554.848,215.939 556.898,220.394 558.948,224.914 560.998,229.499 563.049,234.15 565.099,238.865 567.149,243.645 569.199,248.489 571.249,253.396 573.299,258.367 575.349,263.4 577.4,268.496 579.45,273.653 581.5,278.872 583.55,284.153 585.6,289.494 587.65,294.896 589.7,300.358 591.75,305.88 593.801,311.461 595.851,317.102 597.901,322.801 599.951,328.559 602.001,334.374 604.051,340.248 606.101,346.179 608.152,352.167 610.202,358.212 612.252,364.314 614.302,370.47 616.352,376.688 618.402,382.948 620.452,389.288 622.502,395.639 624.553,402.126 626.603,408.515 628.653,415.246 630.703,421.487 632.753,428.828 634.803,434.242 636.853,443.658 638.904,445.807 640.954,465.501 643.004,454.225 645.054,465.748 647.104,458.39 649.154,461.438 651.204,459.801 653.255,460.583 655.305,460.188 657.355,460.38 659.405,460.286 661.455,460.332 663.505,460.309 665.555,460.32 667.605,460.315 669.656,460.318 671.706,460.316 673.756,460.317 675.806,460.317 677.856,460.317 679.906,460.317 681.956,460.317 684.007,460.317 686.057,460.317 688.107,460.317 690.157,460.317 692.207,460.317 694.257,460.317 696.307,460.317 698.358,460.317 700.408,460.317 702.458,460.317 704.508,460.317 706.558,460.317 708.608,460.317 710.658,460.317 712.708,460.317 714.759,460.317 716.809,460.317 718.859,460.317 720.909,460.317 722.959,460.317 725.009,460.317 727.059,460.317 729.11,460.317 731.16,460.317 733.21,460.317 735.26,460.317 737.31,460.317 739.36,460.317 741.41,460.317 743.461,460.317 745.511,460.317 747.561,460.317 749.611,460.317 751.661,460.317 753.711,460.317 755.761,460.317 757.811,460.317 759.862,460.317 761.912,460.317 763.962,460.317 766.012,460.317 768.062,460.317 770.112,460.317 772.162,460.317 774.213,460.317 776.263,460.317 778.313,460.317 780.363,460.317 782.413,460.317 784.463,460.317 786.513,460.317 788.564,460.317 790.614,460.317 792.664,460.317 794.714,460.317 796.764,460.317 798.814,460.317 800.864,460.317 802.914,460.317 804.965,460.317 807.015,460.317 809.065,460.317 811.115,460.317 813.165,460.317 815.215,460.317 817.265,460.317 819.316,460.317 821.366,460.317 823.416,460.317 825.466,460.317 827.516,460.317 829.566,460.317 831.616,460.317 833.667,460.317 835.717,460.317 837.767,460.317 839.817,460.317 841.867,460.317 843.917,460.317 845.967,460.317 848.017,460.317 850.068,460.317 852.118,460.317 854.168,460.317 856.218,460.317 858.268,460.317 860.318,460.317 862.368,460.317 864.419,460.317 866.469,460.317 868.519,460.317 870.569,460.317 872.619,460.317 874.669,460.317 876.719,460.317 878.77,460.317 880.82,460.317 882.87,460.317 884.92,460.317 886.97,460.317 889.02,460.317 891.07,460.317 893.12,460.317 895.171,460.317 897.221,460.317 899.271,460.317 901.321,460.317 903.371,460.317 905.421,460.317 907.471,460.317 909.522,460.317 911.572,460.317 913.622,460.317 915.672,460.317 917.722,460.317 919.772,460.317 921.822,460.317 923.873,460.317 925.923,460.317 927.973,460.317 930.023,460.317 932.073,460.317 934.123,460.317 936.173,460.317 938.223,460.317 940.274,460.317 942.324,460.317 944.374,460.317 946.424,460.317 948.474,460.317 950.524,460.317 952.574,460.317 954.625,460.317 956.675,460.317 958.725,460.317 960.775,460.317 962.825,460.317 964.875,460.317 966.925,460.317 968.976,460.317 971.026,460.317 973.076,460.317 975.126,460.317 977.176,460.317 979.226,460.317 981.276,460.317 983.326,460.317 985.377,460.317 987.427,460.317 989.477,460.317 991.527,460.317 993.577,460.317 995.627,460.317 997.677,460.317 999.728,460.317 1001.78,460.317 1003.83,460.317 1005.88,460.317 1007.93,460.317 1009.98,460.317 1012.03,460.317 1014.08,460.317 1016.13,460.317 1018.18,460.317 1020.23,460.317 1022.28,460.317 1024.33,460.317 1026.38,460.317 1028.43,460.317 1030.48,460.317 1032.53,460.317 1034.58,460.317 1036.63,460.317 1038.68,460.317 1040.73,460.317 1042.78,460.317 1044.83,460.317 1046.88,460.317 1048.93,460.317 1050.98,460.317 1053.03,460.317 1055.08,460.317 1057.13,460.317 1059.18,460.317 1061.23,460.317 1063.28,460.317 1065.33,460.317 1067.38,460.317 1069.43,460.317 1071.48,460.317 1073.53,460.317 1075.58,460.317 1077.63,460.317 1079.68,460.317 1081.73,460.317 1083.78,460.317 1085.83,460.317 1087.88,460.317 1089.93,460.317 1091.98,460.317 1094.03,460.317 1096.08,460.317 1098.13,460.317 1100.18,460.317 1102.23,460.317 1104.28,460.317 1106.33,460.317 1108.38,460.317 1110.43,460.317 1112.49,460.317 1114.54,460.317 1116.59,460.317 1118.64,460.317 1120.69,460.317 1122.74,460.317 1124.79,460.317 1126.84,460.317 1128.89,460.317 1130.94,460.317 1132.99,460.317 1135.04,460.317 1137.09,460.317 1139.14,460.317 1141.19,460.317 1143.24,460.317 1145.29,460.317 1147.34,460.317 1149.39,460.317 1151.44,460.317 1153.49,460.317 1155.54,460.317 1157.59,460.317 1159.64,460.317 1161.69,460.317 1163.74,460.317 1165.79,460.317 1167.84,460.317 1169.89,460.317 1171.94,460.317 1173.99,460.317 1176.04,460.317 1178.09,460.317 1180.14,460.317 1182.19,460.317 1184.24,460.317 1186.29,460.317 1188.34,460.317 1190.39,460.317 1192.44,460.317 1194.49,460.317 1196.54,460.317 1198.59,460.317 1200.64,460.317 1202.69,460.317 1204.74,460.317 1206.79,460.317 1208.84,460.317 1210.89,460.317 1212.94,460.317 1214.99,460.317 1217.04,460.317 1219.09,460.317 1221.14,460.317 1223.19,460.317 1225.24,460.317 1227.29,460.317 1229.34,460.317 1231.39,460.317 1233.44,460.317 1235.49,460.317 1237.54,460.317 1239.59,460.317 1241.64,460.317 1243.69,460.317 1245.74,460.317 1247.79,460.317 1249.84,460.317 1251.89,460.317 1253.94,460.317 1255.99,460.317 1258.04,460.317 1260.09,460.317 1262.14,460.317 1264.2,460.317 1266.25,460.317 1268.3,460.317 1270.35,460.317 1272.4,460.317 1274.45,460.317 1276.5,460.317 1278.55,460.317 1280.6,460.317 1282.65,460.317 1284.7,460.317 1286.75,460.317 1288.8,460.317 1290.85,460.317 1292.9,460.317 1294.95,460.317 1297,460.317 1299.05,460.317 1301.1,460.317 1303.15,460.317 1305.2,460.317 1307.25,460.317 1309.3,460.317 1311.35,460.317 1313.4,460.317 1315.45,460.317 1317.5,460.317 1319.55,460.317 1321.6,460.317 1323.65,460.317 1325.7,460.317 1327.75,460.317 1329.8,460.317 1331.85,460.317 1333.9,460.317 1335.95,460.317 1338,460.317 1340.05,460.317 1342.1,460.317 1344.15,460.317 1346.2,460.317 1348.25,460.317 1350.3,460.317 1352.35,460.317 1354.4,460.317 1356.45,460.317 1358.5,460.317 1360.55,460.317 1362.6,460.317 1364.65,460.317 1366.7,460.317 1368.75,460.317 1370.8,460.317 1372.85,460.317 1374.9,460.317 1376.95,460.317 1379,460.317 1381.05,460.317 1383.1,460.317 1385.15,460.317 1387.2,460.317 1389.25,460.317 1391.3,460.317 1393.35,460.317 1395.4,460.317 1397.45,460.317 1399.5,460.317 1401.55,460.317 1403.6,460.317 1405.65,460.317 1407.7,460.317 1409.75,460.317 1411.8,460.317 1413.86,460.317 1415.91,460.317 1417.96,460.317 1420.01,460.317 1422.06,460.317 1424.11,460.317 1426.16,460.317 1428.21,460.317 1430.26,460.317 1432.31,460.317 1434.36,460.317 1436.41,460.317 1438.46,460.317 1440.51,460.317 1442.56,460.317 1444.61,460.317 1446.66,460.317 1448.71,460.317 1450.76,460.317 1452.81,460.317 1454.86,460.317 1456.91,460.317 1458.96,460.317 1461.01,460.317 1463.06,460.317 1465.11,460.317 1467.16,460.317 1469.21,460.317 1471.26,460.317 1473.31,460.317 1475.36,460.317 1477.41,460.317 1479.46,460.317 1481.51,460.317 1483.56,460.317 1485.61,460.317 1487.66,460.317 1489.71,460.317 1491.76,460.317 1493.81,460.317 1495.86,460.317 1497.91,460.317 1499.96,460.317 1502.01,460.317 1504.06,460.317 1506.11,460.317 1508.16,460.317 1510.21,460.317 1512.26,460.317 1514.31,460.317 1516.36,460.317 1518.41,460.317 1520.46,460.317 1522.51,460.317 1524.56,460.317 1526.61,460.317 1528.66,460.317 1530.71,460.317 1532.76,460.317 1534.81,460.317 1536.86,460.317 1538.91,460.317 1540.96,460.317 1543.01,460.317 1545.06,460.317 1547.11,460.317 1549.16,460.317 1551.21,460.317 1553.26,460.317 1555.31,460.317 1557.36,460.317 1559.41,460.317 1561.46,460.317 1563.51,460.317 1565.57,460.317 1567.62,460.317 1569.67,460.317 1571.72,460.317 1573.77,460.317 1575.82,460.317 1577.87,460.317 1579.92,460.317 1581.97,460.317 1584.02,460.317 1586.07,460.317 1588.12,460.317 1590.17,460.317 1592.22,460.317 1594.27,460.317 1596.32,460.317 1598.37,460.317 1600.42,460.317 1602.47,460.317 1604.52,460.317 1606.57,460.317 1608.62,460.317 1610.67,460.317 1612.72,460.317 1614.77,460.317 1616.82,460.317 1618.87,460.317 1620.92,460.317 1622.97,460.317 1625.02,460.317 1627.07,460.317 1629.12,460.317 1631.17,460.317 1633.22,460.317 1635.27,460.317 1637.32,460.317 1639.37,460.317 1641.42,460.317 1643.47,460.317 1645.52,460.317 1647.57,460.317 1649.62,460.317 1651.67,460.317 1653.72,460.317 1655.77,460.317 1657.82,460.317 1659.87,460.317 1661.92,460.317 1663.97,460.317 1666.02,460.317 1668.07,460.317 1670.12,460.317 1672.17,460.317 1674.22,460.317 1676.27,460.317 1678.32,460.317 1680.37,460.317 1682.42,460.317 1684.47,460.317 1686.52,460.317 1688.57,460.317 1690.62,460.317 1692.67,460.317 1694.72,460.317 1696.77,460.317 1698.82,460.317 1700.87,460.317 1702.92,460.317 1704.97,460.317 1707.02,460.317 1709.07,460.317 1711.12,460.317 1713.17,460.317 1715.23,460.317 1717.28,460.317 1719.33,460.317 1721.38,460.317 1723.43,460.317 1725.48,460.317 1727.53,460.317 1729.58,460.317 1731.63,460.317 1733.68,460.317 1735.73,460.317 1737.78,460.317 1739.83,460.317 1741.88,460.317 1743.93,460.317 1745.98,460.317 1748.03,460.317 1750.08,460.317 1752.13,460.317 1754.18,460.317 1756.23,460.317 1758.28,460.317 1760.33,460.317 1762.38,460.317 1764.43,460.317 1766.48,460.317 1768.53,460.317 1770.58,460.317 1772.63,460.317 1774.68,460.317 1776.73,460.317 1778.78,460.317 1780.83,460.317 1782.88,460.317 1784.93,460.317 1786.98,460.317 1789.03,460.317 1791.08,460.317 1793.13,460.317 1795.18,460.317 1797.23,460.317 1799.28,460.317 1801.33,460.317 1803.38,460.317 1805.43,460.317 1807.48,460.317 1809.53,460.317 1811.58,460.317 1813.63,460.317 1815.68,460.317 1817.73,460.317 1819.78,460.317 1821.83,460.317 1823.88,460.317 1825.93,460.317 1827.98,460.317 1830.03,460.317 1832.08,460.317 1834.13,460.317 1836.18,460.317 1838.23,460.317 1840.28,460.317 1842.33,460.317 1844.38,460.317 1846.43,460.317 1848.48,460.317 1850.53,460.317 1852.58,460.317 1854.63,460.317 1856.68,460.317 1858.73,460.317 1860.78,460.317 1862.83,460.317 1864.89,460.317 1866.94,460.317 1868.99,460.317 1871.04,460.317 1873.09,460.317 1875.14,460.317 1877.19,460.317 1879.24,460.317 1881.29,460.317 1883.34,460.317 1885.39,460.317 1887.44,460.317 1889.49,460.317 1891.54,460.317 1893.59,460.317 1895.64,460.317 1897.69,460.317 1899.74,460.317 1901.79,460.317 1903.84,460.317 1905.89,460.317 1907.94,460.317 1909.99,460.317 1912.04,460.317 1914.09,460.317 1916.14,460.317 1918.19,460.317 1920.24,460.317 1922.29,460.317 1924.34,460.317 1926.39,460.317 1928.44,460.317 1930.49,460.317 1932.54,460.317 1934.59,460.317 1936.64,460.317 1938.69,460.317 1940.74,460.317 1942.79,460.317 1944.84,460.317 1946.89,460.317 1948.94,460.317 1950.99,460.317 1953.04,460.317 1955.09,460.317 1957.14,460.317 1959.19,460.317 1961.24,460.317 1963.29,460.317 1965.34,460.317 1967.39,460.317 1969.44,460.317 1971.49,460.317 1973.54,460.317 1975.59,460.317 1977.64,460.317 1979.69,460.317 1981.74,460.317 1983.79,460.317 1985.84,460.317 1987.89,460.317 1989.94,460.317 1991.99,460.317 1994.04,460.317 1996.09,460.317 1998.14,460.317 2000.19,460.317 2002.24,460.317 2004.29,460.317 2006.34,460.317 2008.39,460.317 2010.44,460.317 2012.49,460.317 2014.54,460.317 2016.6,460.317 2018.65,460.317 2020.7,460.317 2022.75,460.317 2024.8,460.317 2026.85,460.317 2028.9,460.317 2030.95,460.317 2033,460.317 2035.05,460.317 2037.1,460.317 2039.15,460.317 2041.2,460.317 2043.25,460.317 2045.3,460.317 2047.35,460.317 2049.4,460.317 2051.45,460.317 2053.5,460.317 2055.55,460.317 2057.6,460.317 2059.65,460.317 2061.7,460.317 2063.75,460.317 2065.8,460.317 2067.85,460.317 2069.9,460.317 2071.95,460.317 2074,460.317 2076.05,460.317 2078.1,460.317 2080.15,460.317 2082.2,460.317 2084.25,460.317 2086.3,460.317 2088.35,460.317 2090.4,460.317 2092.45,460.317 2094.5,460.317 2096.55,460.317 2098.6,460.317 2100.65,460.317 2102.7,460.317 2104.75,460.317 2106.8,460.317 2108.85,460.317 2110.9,460.317 2112.95,460.317 2115,460.317 2117.05,460.317 2119.1,460.317 2121.15,460.317 2123.2,460.317 2125.25,460.317 2127.3,460.317 2129.35,460.317 2131.4,460.317 2133.45,460.317 2135.5,460.317 2137.55,460.317 2139.6,460.317 2141.65,460.317 2143.7,460.317 2145.75,460.317 2147.8,460.317 2149.85,460.317 2151.9,460.317 2153.95,460.317 2156,460.317 2158.05,460.317 2160.1,460.317 2162.15,460.317 2164.2,460.317 2166.26,460.317 2168.31,460.317 2170.36,460.317 2172.41,460.317 2174.46,460.317 2176.51,460.317 2178.56,460.317 2180.61,460.317 2182.66,460.317 2184.71,460.317 2186.76,460.317 2188.81,460.317 2190.86,460.317 2192.91,460.317 2194.96,460.317 2197.01,460.317 2199.06,460.317 2201.11,460.317 2203.16,460.317 2205.21,460.317 2207.26,460.317 2209.31,460.317 2211.36,460.317 2213.41,460.317 2215.46,460.317 2217.51,460.317 2219.56,460.317 2221.61,460.317 2223.66,460.317 2225.71,460.317 2227.76,460.317 2229.81,460.317 2231.86,460.317 2233.91,460.317 2235.96,460.317 2238.01,460.317 2240.06,460.317 2242.11,460.317 2244.16,460.317 2246.21,460.317 2248.26,460.317 2250.31,460.317 2252.36,460.317 2254.41,460.317 2256.46,460.317 2258.51,460.317 2260.56,460.317 2262.61,460.317 2264.66,460.317 2266.71,460.317 2268.76,460.317 2270.81,460.317 2272.86,460.317 2274.91,460.317 2276.96,460.317 2279.01,460.317 2281.06,460.317 2283.11,460.317 2285.16,460.317 2287.21,460.317 2289.26,460.317 2291.31,460.317 \"/>\n",
       "<path clip-path=\"url(#clip110)\" d=\"M1866.14 354.418 L2280.39 354.418 L2280.39 95.2176 L1866.14 95.2176  Z\" fill=\"#ffffff\" fill-rule=\"evenodd\" fill-opacity=\"1\"/>\n",
       "<polyline clip-path=\"url(#clip110)\" style=\"stroke:#000000; stroke-linecap:round; stroke-linejoin:round; stroke-width:4; stroke-opacity:1; fill:none\" points=\"1866.14,354.418 2280.39,354.418 2280.39,95.2176 1866.14,95.2176 1866.14,354.418 \"/>\n",
       "<polyline clip-path=\"url(#clip110)\" style=\"stroke:#009af9; stroke-linecap:round; stroke-linejoin:round; stroke-width:4; stroke-opacity:1; fill:none\" points=\"1890.26,147.058 2034.99,147.058 \"/>\n",
       "<path clip-path=\"url(#clip110)\" d=\"M2059.7 138.412 L2079.93 138.412 L2079.93 142.301 L2063.91 160.935 L2079.93 160.935 L2079.93 164.338 L2059.12 164.338 L2059.12 160.449 L2075.14 141.815 L2059.7 141.815 L2059.7 138.412 Z\" fill=\"#000000\" fill-rule=\"nonzero\" fill-opacity=\"1\" /><path clip-path=\"url(#clip110)\" d=\"M2102.06 142.81 L2131.73 142.81 L2131.73 146.699 L2102.06 146.699 L2102.06 142.81 M2102.06 152.254 L2131.73 152.254 L2131.73 156.189 L2102.06 156.189 L2102.06 152.254 Z\" fill=\"#000000\" fill-rule=\"nonzero\" fill-opacity=\"1\" /><path clip-path=\"url(#clip110)\" d=\"M2157.7 160.402 L2165.34 160.402 L2165.34 134.037 L2157.03 135.703 L2157.03 131.444 L2165.3 129.778 L2169.97 129.778 L2169.97 160.402 L2177.61 160.402 L2177.61 164.338 L2157.7 164.338 L2157.7 160.402 Z\" fill=\"#000000\" fill-rule=\"nonzero\" fill-opacity=\"1\" /><polyline clip-path=\"url(#clip110)\" style=\"stroke:#e26f46; stroke-linecap:round; stroke-linejoin:round; stroke-width:4; stroke-opacity:1; fill:none\" points=\"1890.26,198.898 2034.99,198.898 \"/>\n",
       "<path clip-path=\"url(#clip110)\" d=\"M2059.7 190.252 L2079.93 190.252 L2079.93 194.141 L2063.91 212.775 L2079.93 212.775 L2079.93 216.178 L2059.12 216.178 L2059.12 212.289 L2075.14 193.655 L2059.7 193.655 L2059.7 190.252 Z\" fill=\"#000000\" fill-rule=\"nonzero\" fill-opacity=\"1\" /><path clip-path=\"url(#clip110)\" d=\"M2102.06 194.65 L2131.73 194.65 L2131.73 198.539 L2102.06 198.539 L2102.06 194.65 M2102.06 204.094 L2131.73 204.094 L2131.73 208.029 L2102.06 208.029 L2102.06 204.094 Z\" fill=\"#000000\" fill-rule=\"nonzero\" fill-opacity=\"1\" /><path clip-path=\"url(#clip110)\" d=\"M2156.29 190.252 L2160.55 190.252 L2160.55 216.178 L2156.29 216.178 L2156.29 190.252 M2156.29 180.159 L2160.55 180.159 L2160.55 185.553 L2156.29 185.553 L2156.29 180.159 Z\" fill=\"#000000\" fill-rule=\"nonzero\" fill-opacity=\"1\" /><path clip-path=\"url(#clip110)\" d=\"M2189.65 195.229 Q2191.25 192.358 2193.47 190.993 Q2195.69 189.627 2198.7 189.627 Q2202.75 189.627 2204.95 192.474 Q2207.15 195.298 2207.15 200.529 L2207.15 216.178 L2202.87 216.178 L2202.87 200.668 Q2202.87 196.942 2201.55 195.136 Q2200.23 193.33 2197.52 193.33 Q2194.21 193.33 2192.29 195.53 Q2190.37 197.729 2190.37 201.525 L2190.37 216.178 L2186.08 216.178 L2186.08 200.668 Q2186.08 196.918 2184.76 195.136 Q2183.44 193.33 2180.69 193.33 Q2177.43 193.33 2175.5 195.553 Q2173.58 197.752 2173.58 201.525 L2173.58 216.178 L2169.3 216.178 L2169.3 190.252 L2173.58 190.252 L2173.58 194.28 Q2175.04 191.895 2177.08 190.761 Q2179.12 189.627 2181.92 189.627 Q2184.74 189.627 2186.71 191.062 Q2188.7 192.497 2189.65 195.229 Z\" fill=\"#000000\" fill-rule=\"nonzero\" fill-opacity=\"1\" /><polyline clip-path=\"url(#clip110)\" style=\"stroke:#3da44d; stroke-linecap:round; stroke-linejoin:round; stroke-width:4; stroke-opacity:1; fill:none\" points=\"1890.26,250.738 2034.99,250.738 \"/>\n",
       "<path clip-path=\"url(#clip110)\" d=\"M2059.7 242.092 L2079.93 242.092 L2079.93 245.981 L2063.91 264.615 L2079.93 264.615 L2079.93 268.018 L2059.12 268.018 L2059.12 264.129 L2075.14 245.495 L2059.7 245.495 L2059.7 242.092 Z\" fill=\"#000000\" fill-rule=\"nonzero\" fill-opacity=\"1\" /><path clip-path=\"url(#clip110)\" d=\"M2102.06 246.49 L2131.73 246.49 L2131.73 250.379 L2102.06 250.379 L2102.06 246.49 M2102.06 255.934 L2131.73 255.934 L2131.73 259.869 L2102.06 259.869 L2102.06 255.934 Z\" fill=\"#000000\" fill-rule=\"nonzero\" fill-opacity=\"1\" /><path clip-path=\"url(#clip110)\" d=\"M2154.14 253.133 L2166.62 253.133 L2166.62 256.93 L2154.14 256.93 L2154.14 253.133 Z\" fill=\"#000000\" fill-rule=\"nonzero\" fill-opacity=\"1\" /><path clip-path=\"url(#clip110)\" d=\"M2174.81 264.082 L2182.45 264.082 L2182.45 237.717 L2174.14 239.383 L2174.14 235.124 L2182.4 233.458 L2187.08 233.458 L2187.08 264.082 L2194.72 264.082 L2194.72 268.018 L2174.81 268.018 L2174.81 264.082 Z\" fill=\"#000000\" fill-rule=\"nonzero\" fill-opacity=\"1\" /><path clip-path=\"url(#clip110)\" d=\"M2214.16 236.536 Q2210.55 236.536 2208.72 240.101 Q2206.92 243.643 2206.92 250.772 Q2206.92 257.879 2208.72 261.444 Q2210.55 264.985 2214.16 264.985 Q2217.8 264.985 2219.6 261.444 Q2221.43 257.879 2221.43 250.772 Q2221.43 243.643 2219.6 240.101 Q2217.8 236.536 2214.16 236.536 M2214.16 232.833 Q2219.97 232.833 2223.03 237.439 Q2226.11 242.022 2226.11 250.772 Q2226.11 259.499 2223.03 264.106 Q2219.97 268.689 2214.16 268.689 Q2208.35 268.689 2205.27 264.106 Q2202.22 259.499 2202.22 250.772 Q2202.22 242.022 2205.27 237.439 Q2208.35 232.833 2214.16 232.833 Z\" fill=\"#000000\" fill-rule=\"nonzero\" fill-opacity=\"1\" /><polyline clip-path=\"url(#clip110)\" style=\"stroke:#c271d2; stroke-linecap:round; stroke-linejoin:round; stroke-width:4; stroke-opacity:1; fill:none\" points=\"1890.26,302.578 2034.99,302.578 \"/>\n",
       "<path clip-path=\"url(#clip110)\" d=\"M2059.7 293.932 L2079.93 293.932 L2079.93 297.821 L2063.91 316.455 L2079.93 316.455 L2079.93 319.858 L2059.12 319.858 L2059.12 315.969 L2075.14 297.335 L2059.7 297.335 L2059.7 293.932 Z\" fill=\"#000000\" fill-rule=\"nonzero\" fill-opacity=\"1\" /><path clip-path=\"url(#clip110)\" d=\"M2102.06 298.33 L2131.73 298.33 L2131.73 302.219 L2102.06 302.219 L2102.06 298.33 M2102.06 307.774 L2131.73 307.774 L2131.73 311.709 L2102.06 311.709 L2102.06 307.774 Z\" fill=\"#000000\" fill-rule=\"nonzero\" fill-opacity=\"1\" /><path clip-path=\"url(#clip110)\" d=\"M2154.14 304.973 L2166.62 304.973 L2166.62 308.77 L2154.14 308.77 L2154.14 304.973 Z\" fill=\"#000000\" fill-rule=\"nonzero\" fill-opacity=\"1\" /><path clip-path=\"url(#clip110)\" d=\"M2174.81 315.922 L2182.45 315.922 L2182.45 289.557 L2174.14 291.223 L2174.14 286.964 L2182.4 285.298 L2187.08 285.298 L2187.08 315.922 L2194.72 315.922 L2194.72 319.858 L2174.81 319.858 L2174.81 315.922 Z\" fill=\"#000000\" fill-rule=\"nonzero\" fill-opacity=\"1\" /><path clip-path=\"url(#clip110)\" d=\"M2214.16 288.376 Q2210.55 288.376 2208.72 291.941 Q2206.92 295.483 2206.92 302.612 Q2206.92 309.719 2208.72 313.284 Q2210.55 316.825 2214.16 316.825 Q2217.8 316.825 2219.6 313.284 Q2221.43 309.719 2221.43 302.612 Q2221.43 295.483 2219.6 291.941 Q2217.8 288.376 2214.16 288.376 M2214.16 284.673 Q2219.97 284.673 2223.03 289.279 Q2226.11 293.862 2226.11 302.612 Q2226.11 311.339 2223.03 315.946 Q2219.97 320.529 2214.16 320.529 Q2208.35 320.529 2205.27 315.946 Q2202.22 311.339 2202.22 302.612 Q2202.22 293.862 2205.27 289.279 Q2208.35 284.673 2214.16 284.673 Z\" fill=\"#000000\" fill-rule=\"nonzero\" fill-opacity=\"1\" /><path clip-path=\"url(#clip110)\" d=\"M2244.32 288.376 Q2240.71 288.376 2238.88 291.941 Q2237.08 295.483 2237.08 302.612 Q2237.08 309.719 2238.88 313.284 Q2240.71 316.825 2244.32 316.825 Q2247.96 316.825 2249.76 313.284 Q2251.59 309.719 2251.59 302.612 Q2251.59 295.483 2249.76 291.941 Q2247.96 288.376 2244.32 288.376 M2244.32 284.673 Q2250.13 284.673 2253.19 289.279 Q2256.27 293.862 2256.27 302.612 Q2256.27 311.339 2253.19 315.946 Q2250.13 320.529 2244.32 320.529 Q2238.51 320.529 2235.44 315.946 Q2232.38 311.339 2232.38 302.612 Q2232.38 293.862 2235.44 289.279 Q2238.51 284.673 2244.32 284.673 Z\" fill=\"#000000\" fill-rule=\"nonzero\" fill-opacity=\"1\" /></svg>\n"
      ]
     },
     "execution_count": 75,
     "metadata": {},
     "output_type": "execute_result"
    }
   ],
   "source": [
    "plot(1:1000, [nanabs(exp_t(1, n) - exp(1)) for n = 1:1000]; yscale=:log10, label=\"z = 1\")\n",
    "plot!(1:1000, [nanabs(exp_t(im, n) - exp(im)) for n = 1:1000]; yscale=:log10, label=\"z = im\")\n",
    "plot!(1:1000, [nanabs(exp_t(-10, n) - exp(-10)) for n = 1:1000]; yscale=:log10, label=\"z = -10\")\n",
    "plot!(1:1000, [nanabs(exp_t(-100, n) - exp(-100)) for n = 1:1000]; yscale=:log10, label=\"z = -100\")"
   ]
  },
  {
   "cell_type": "markdown",
   "metadata": {},
   "source": [
    "------"
   ]
  },
  {
   "cell_type": "markdown",
   "metadata": {},
   "source": [
    "One of the powerful parts of Julia is that it's very easy to make our own types. Lets begin with a simple\n",
    "implementation of a rational function $p/q$ where $p$ and $q$ are `Int`s.  Thus we want to create a new\n",
    "type called `Rat` with two fields `p` and `q` to represent the numerator and denominator, respectively.\n",
    "(For simplicity  we won't worry about restricting $p$ and $q$ to be `Int`.)\n",
    "We can construct such a type using the `struct` keyword:"
   ]
  },
  {
   "cell_type": "code",
   "execution_count": 76,
   "metadata": {},
   "outputs": [],
   "source": [
    "struct Rat\n",
    "    p\n",
    "    q\n",
    "end"
   ]
  },
  {
   "cell_type": "markdown",
   "metadata": {},
   "source": [
    "A new instance of `Rat` is created via e.g. `Rat(1, 2)` represents 1/2\n",
    "where the first argument specifies `p` and the second argument `q`.\n",
    "The fields are accessed by `.`:"
   ]
  },
  {
   "cell_type": "code",
   "execution_count": 77,
   "metadata": {},
   "outputs": [
    {
     "data": {
      "text/plain": [
       "\u001b[32m\u001b[1mTest Passed\u001b[22m\u001b[39m"
      ]
     },
     "execution_count": 77,
     "metadata": {},
     "output_type": "execute_result"
    }
   ],
   "source": [
    "x = Rat(1, 2) # Rat(1, 2) creates an instance with fields equal to the input\n",
    "@test x.p == 1\n",
    "@test x.q == 2"
   ]
  },
  {
   "cell_type": "markdown",
   "metadata": {},
   "source": [
    "Unfortunately we can't actually do anything with this type, yet:"
   ]
  },
  {
   "cell_type": "code",
   "execution_count": 78,
   "metadata": {},
   "outputs": [
    {
     "data": {
      "text/plain": [
       "Rat(4, 4)"
      ]
     },
     "execution_count": 78,
     "metadata": {},
     "output_type": "execute_result"
    }
   ],
   "source": [
    "x + x"
   ]
  },
  {
   "cell_type": "markdown",
   "metadata": {},
   "source": [
    "The error is telling us to overload the `+` function when the inputs are both `Rat`.\n",
    "To do this we need to \"import\" the `+` function and then we can overload it like any\n",
    "other function:"
   ]
  },
  {
   "cell_type": "code",
   "execution_count": 79,
   "metadata": {},
   "outputs": [
    {
     "data": {
      "text/plain": [
       "Rat(10, 8)"
      ]
     },
     "execution_count": 79,
     "metadata": {},
     "output_type": "execute_result"
    }
   ],
   "source": [
    "import Base: + # allows us to overload +\n",
    "\n",
    "# Here putting ::Rat after both x and y means this version of +\n",
    "# is only called if both arguments are Rat\n",
    "function +(x::Rat, y::Rat)\n",
    "    p,q = x.p,x.q # x represents p/q\n",
    "    r,s = y.p,y.q # y represents r/s\n",
    "    Rat(p * s + r * q, q * s)\n",
    "end\n",
    "\n",
    "Rat(1,2) + Rat(3,4) # 1/2 + 3/4 == 10/8 (== 5/4) which is represented\n",
    "                    # as Rat(10, 8)"
   ]
  },
  {
   "cell_type": "markdown",
   "metadata": {},
   "source": [
    "We can support mixing `Rat` and `Int` by adding additional functionality:"
   ]
  },
  {
   "cell_type": "code",
   "execution_count": 80,
   "metadata": {},
   "outputs": [
    {
     "data": {
      "text/plain": [
       "Rat(3, 2)"
      ]
     },
     "execution_count": 80,
     "metadata": {},
     "output_type": "execute_result"
    }
   ],
   "source": [
    "Rat(p::Int) = Rat(p,1) # an Int is converted to p/1\n",
    "+(x::Rat, y::Int) = x + Rat(y) # To add a Rat to an Int we convert the Int into a Rat and use the previously defined +\n",
    "\n",
    "Rat(1,2) + 1  # 1 + 1/2 == 3/2"
   ]
  },
  {
   "cell_type": "markdown",
   "metadata": {},
   "source": [
    "-----"
   ]
  },
  {
   "cell_type": "markdown",
   "metadata": {},
   "source": [
    "**Problem 3** Support `*`, `-`, `/`, and `==` for `Rat` and `Int`."
   ]
  },
  {
   "cell_type": "code",
   "execution_count": 81,
   "metadata": {},
   "outputs": [
    {
     "name": "stdout",
     "output_type": "stream",
     "text": [
      "\u001b[91m\u001b[1mError During Test\u001b[22m\u001b[39m at \u001b[39m\u001b[1mIn[81]:24\u001b[22m\n",
      "  Expression evaluated to non-Boolean\n",
      "  Expression: Rat(1, 2) == Rat(2, 4)\n",
      "       Value: nothing\n"
     ]
    },
    {
     "ename": "LoadError",
     "evalue": "\u001b[91mThere was an error during testing\u001b[39m",
     "output_type": "error",
     "traceback": [
      "\u001b[91mThere was an error during testing\u001b[39m",
      "",
      "Stacktrace:",
      " [1] record(ts::Test.FallbackTestSet, t::Union{Test.Error, Test.Fail})",
      "   @ Test /Volumes/Julia-1.10.0/Julia-1.10.app/Contents/Resources/julia/share/julia/stdlib/v1.10/Test/src/Test.jl:1000",
      " [2] do_test(result::Test.ExecutionResult, orig_expr::Any)",
      "   @ Test /Volumes/Julia-1.10.0/Julia-1.10.app/Contents/Resources/julia/share/julia/stdlib/v1.10/Test/src/Test.jl:705",
      " [3] macro expansion",
      "   @ /Volumes/Julia-1.10.0/Julia-1.10.app/Contents/Resources/julia/share/julia/stdlib/v1.10/Test/src/Test.jl:672 [inlined]",
      " [4] top-level scope",
      "   @ In[81]:24"
     ]
    }
   ],
   "source": [
    "# We import `+`, `-`, `*`, `/` so we can \"overload\" these operations\n",
    "# specifically for `Rat`.\n",
    "import Base: +, -, *, /, ==\n",
    "\n",
    "# The ::Rat means the following version of `==` is only called if both\n",
    "# arguments are Rat.\n",
    "function ==(x::Rat, y::Rat)\n",
    "    # TODO: implement equality, making sure to check the case where\n",
    "    # the numerator/denominator are possibly reducible\n",
    "    # Hint: gcd and div may be useful. Use ? to find out what they do\n",
    "\n",
    "\n",
    "end\n",
    "\n",
    "# We can also support equality when `x isa Rat` and `y isa Int`\n",
    "function ==(x::Rat, y::Int)\n",
    "    # TODO: implement\n",
    "\n",
    "end\n",
    "\n",
    "# TODO: implement ==(x::Int, y::Rat)\n",
    "\n",
    "\n",
    "@test Rat(1, 2) == Rat(2, 4)\n",
    "@test Rat(1, 2) ≠ Rat(1, 3)\n",
    "@test Rat(2,2) == 1\n",
    "@test 1 == Rat(2,2)\n",
    "\n",
    "# TODO: implement +, -, *, and /,\n",
    "\n",
    "\n",
    "@test Rat(1, 2) + Rat(1, 3) == Rat(5, 6)\n",
    "@test Rat(1, 3) - Rat(1, 2) == Rat(-1, 6)\n",
    "@test Rat(2, 3) * Rat(3, 4) == Rat(1, 2)\n",
<<<<<<< Updated upstream
    "@test Rat(2, 3) / Rat(3, 4) == Rat(8, 9)"
   ],
   "metadata": {},
   "execution_count": null
=======
    "@test Rat(2, 3) / Rat(3, 4) == Rat(8, 9)\n",
    "\n",
    "# ------"
   ]
>>>>>>> Stashed changes
  },
  {
   "cell_type": "markdown",
   "metadata": {},
   "source": [
    "------"
   ],
   "metadata": {}
  },
  {
   "cell_type": "markdown",
   "source": [
    "## I.3 Dual Numbers\n",
    "\n",
    "We now consider implementing a type `Dual` to represent the dual number $a + bϵ$,\n",
    "in a way similar to `Complex` or `Rat`. For simplicity we don't restrict the types of `a` and `b`\n",
    "but for us they will usually be `Float64`. We create this type very similar to `Rat` above:"
   ]
  },
  {
   "cell_type": "code",
   "execution_count": 82,
   "metadata": {},
   "outputs": [],
   "source": [
    "struct Dual\n",
    "    a\n",
    "    b\n",
    "end"
   ]
  },
  {
   "cell_type": "markdown",
   "metadata": {},
   "source": [
    "We can easily support addition of dual numbers as in `Rat` using the formula\n",
    "$$\n",
    "(a+bϵ) + (c+dϵ) = (a+c) + (b+d)ϵ\n",
    "$$"
   ]
  },
  {
   "cell_type": "code",
   "execution_count": 83,
   "metadata": {},
   "outputs": [
    {
     "data": {
      "text/plain": [
       "Dual(4, 6)"
      ]
     },
     "execution_count": 83,
     "metadata": {},
     "output_type": "execute_result"
    }
   ],
   "source": [
    "function +(x::Dual, y::Dual)\n",
    "    a,b = x.a, x.b # x == a+bϵ. This gets out a and b\n",
    "    c,d = y.a, y.b # y == c+dϵ. This gets out c and d\n",
    "    Dual(a+c, b+d)\n",
    "end\n",
    "\n",
    "Dual(1,2) + Dual(3,4) # just adds each argument"
   ]
  },
  {
   "cell_type": "markdown",
   "metadata": {},
   "source": [
    "For multiplication we used the fact that $ϵ^2 = 0$ to derive the formula\n",
    "$$\n",
    "(a+bϵ)*(c+dϵ) = ac +(bc+ad)ϵ.\n",
    "$$\n",
    "Here we support this operation by overloading `*` when the inputs are both\n",
    "`Dual`:"
   ]
  },
  {
   "cell_type": "code",
   "execution_count": 84,
   "metadata": {},
   "outputs": [
    {
     "data": {
      "text/plain": [
       "* (generic function with 319 methods)"
      ]
     },
     "execution_count": 84,
     "metadata": {},
     "output_type": "execute_result"
    }
   ],
   "source": [
    "import Base: * # we want to also overload *\n",
    "\n",
    "function *(x::Dual, y::Dual)\n",
    "    a,b = x.a, x.b # x == a+bϵ. This gets out a and b\n",
    "    c,d = y.a, y.b # y == c+dϵ. This gets out c and d\n",
    "    Dual(a*c, b*c + a*d)\n",
    "end"
   ]
  },
  {
   "cell_type": "markdown",
   "metadata": {},
   "source": [
    "### I.3.1 Differentiating polynomials"
   ]
  },
  {
   "cell_type": "markdown",
   "metadata": {},
   "source": [
    "Dual numbers allow us to differentiate functions provided they are composed of\n",
    "operations overloaded for `Dual`. In particular, we have that\n",
    "$$\n",
    "f(x + b ϵ) = f(x) + bf'(x)ϵ\n",
    "$$\n",
    "and thus if we set `b = 1` the \"dual part\" is equal to the derivative.\n",
    "We can use this fact to differentiate simple polynomials that only use `+`\n",
    "and `*`:"
   ]
  },
  {
   "cell_type": "code",
   "execution_count": 85,
   "metadata": {},
   "outputs": [
    {
     "data": {
      "text/plain": [
       "Dual(10, 13)"
      ]
     },
     "execution_count": 85,
     "metadata": {},
     "output_type": "execute_result"
    }
   ],
   "source": [
    "f = x -> x*x*x + x\n",
    "f(Dual(2,1)) # (2^3 + 2) + (3*2^2+1)*ϵ"
   ]
  },
  {
   "cell_type": "markdown",
   "metadata": {},
   "source": [
    "A polynomial like `x^3 + 1` is not yet supported.\n",
    "To support this we need to add addition of `Dual` with `Int` or `Float64`.\n",
    "Note that both of these are \"subtypes\" of `Real` and so restricting on `Real`\n",
    "will support both at the same time.\n",
    "We can overload the appropriate functions as follows:"
   ]
  },
  {
   "cell_type": "code",
   "execution_count": 86,
   "metadata": {},
   "outputs": [
    {
     "data": {
      "text/plain": [
       "Dual(2, 1)"
      ]
     },
     "execution_count": 86,
     "metadata": {},
     "output_type": "execute_result"
    }
   ],
   "source": [
    "import Base: ^\n",
    "\n",
    "Dual(a::Real) = Dual(a, 0) # converts a real number to a dual number with no ϵ\n",
    "\n",
    "+(x::Real, y::Dual) = Dual(x) + y\n",
    "+(x::Dual, y::Real) = x + Dual(y)\n",
    "\n",
    "Dual(1,1) +1\n",
    "\n"
   ]
  },
  {
   "cell_type": "markdown",
   "metadata": {},
   "source": [
    "a simple recursive function to support x^2, x^3, etc."
   ]
  },
  {
   "cell_type": "code",
   "execution_count": 87,
   "metadata": {},
   "outputs": [
    {
     "data": {
      "text/plain": [
       "Dual(9, 12)"
      ]
     },
     "execution_count": 87,
     "metadata": {},
     "output_type": "execute_result"
    }
   ],
   "source": [
    "function ^(x::Dual, n::Int)\n",
    "    if n < 0\n",
    "        error(\"Not implemented\") # don't support negative n, yet\n",
    "    end\n",
    "    if n == 1\n",
    "        x # Just return the input\n",
    "    else\n",
    "        ret = x\n",
    "        for k = 1:n-1\n",
    "            ret = ret*x\n",
    "        end\n",
    "        ret # returns the last argument\n",
    "    end\n",
    "end\n",
    "\n",
    "f = x -> x^3 + 1\n",
    "f(Dual(2,1))  # 2^3+1 + 3*2^2*ϵ"
   ]
  },
  {
   "cell_type": "markdown",
   "metadata": {},
   "source": [
<<<<<<< Updated upstream
    "### I.3.2 Differentiating functions"
   ],
   "metadata": {}
=======
    "### I.3.2 Differentiating polynomials"
   ]
>>>>>>> Stashed changes
  },
  {
   "cell_type": "markdown",
   "metadata": {},
   "source": [
    "We can also overload functions like `exp` so that they satisfy the rules of\n",
    "a _dual extension_, that is, are consistent with the formula $f(a+bϵ) = f(a) + bf'(a)ϵ$\n",
    "as follows:"
   ]
  },
  {
   "cell_type": "code",
   "execution_count": 88,
   "metadata": {},
   "outputs": [
    {
     "data": {
      "text/plain": [
       "exp (generic function with 15 methods)"
      ]
     },
     "execution_count": 88,
     "metadata": {},
     "output_type": "execute_result"
    }
   ],
   "source": [
    "import Base: exp\n",
    "exp(x::Dual) = Dual(exp(x.a), exp(x.a) * x.b)"
   ]
  },
  {
   "cell_type": "markdown",
   "metadata": {},
   "source": [
    "We can use this to differentiate a function that composes these basic operations:"
   ]
  },
  {
   "cell_type": "code",
   "execution_count": 89,
   "metadata": {},
   "outputs": [
    {
     "data": {
      "text/plain": [
       "Dual(41.193555674716116, 194.362805189629)"
      ]
     },
     "execution_count": 89,
     "metadata": {},
     "output_type": "execute_result"
    }
   ],
   "source": [
    "f = x -> exp(x^2 + exp(x))\n",
<<<<<<< Updated upstream
    "f(Dual(1, 1))"
   ],
   "metadata": {},
   "execution_count": null
=======
    "f(1 + ϵ)"
   ]
>>>>>>> Stashed changes
  },
  {
   "cell_type": "markdown",
   "metadata": {},
   "source": [
    "What makes dual numbers so effective is that, unlike divided differences, they are not\n",
    "prone to disasterous growth due to round-off errors: the above approximation\n",
    "matches the true answer to roughly 16 digits of accuracy."
   ]
  },
  {
   "cell_type": "markdown",
   "metadata": {},
   "source": [
    "------"
   ]
  },
  {
   "cell_type": "markdown",
   "metadata": {},
   "source": [
    "**Problem 4(a)** Add support for `-`, `cos`, `sin`, and `/` to the type `Dual`\n",
    "by replacing the `# TODO`s in the below code."
   ]
  },
  {
   "cell_type": "code",
   "execution_count": 97,
   "metadata": {},
   "outputs": [
    {
     "data": {
      "text/plain": [
       "\u001b[32m\u001b[1mTest Passed\u001b[22m\u001b[39m"
      ]
     },
     "execution_count": 97,
     "metadata": {},
     "output_type": "execute_result"
    }
   ],
   "source": [
    "import Base: -, cos, sin, /\n",
    "\n",
    "# The following supports negation -(a+bϵ)\n",
    "-(x::Dual) = Dual(-x.a, -x.b)\n",
    "\n",
    "# TODO: implement -(::Dual, ::Dual)\n",
    "# SOLUTION\n",
    "-(x::Dual, y::Dual) = Dual(x.a - y.a, x.b - y.b)\n",
    "# END\n",
    "\n",
    "\n",
    "function cos(x::Dual)\n",
    "    # TODO: implement cos for Duals\n",
    "    # SOLUTION\n",
    "    Dual(cos(x.a), -sin(x.a) * x.b)\n",
    "    # END\n",
    "end\n",
    "\n",
    "function sin(x::Dual)\n",
    "    # TODO: implement sin for Duals\n",
    "    # SOLUTION\n",
    "    Dual(sin(x.a), cos(x.a) * x.b)\n",
    "    # END\n",
    "end\n",
    "\n",
    "function /(x::Dual, y::Dual)\n",
    "    # TODO: implement division for Duals.\n",
    "    # Hint: think of this as x * (1/y)\n",
    "    # SOLUTION\n",
    "    if iszero(y.a)\n",
    "        error(\"Division for dual numbers is ill-defined when denonimator real part is zero.\")\n",
    "    end\n",
    "    return Dual(x.a / y.a, (y.a * x.b - x.a * y.b) / y.a^2)\n",
    "    # END\n",
    "end\n",
    "\n",
    "x = 0.1\n",
    "ϵ = Dual(0,1)\n",
<<<<<<< Updated upstream
    "@test cos(sin(x+ϵ)/(x+ϵ)).b ≈ -((cos(x)/x - sin(x)/x^2)sin(sin(x)/x))"
   ],
   "metadata": {},
   "execution_count": null
=======
    "@test cos(sin(x+ϵ)/(x+ϵ)).b ≈ -((cos(x)/x - sin(x)/x^2)sin(sin(x)/x))\n",
    "     "
   ]
>>>>>>> Stashed changes
  },
  {
   "cell_type": "markdown",
   "metadata": {},
   "source": [
    "**Problem 4(b)** Use dual numbers to compute the derivatives to\n",
    "1. $\\exp(\\exp x \\cos x + \\sin x)$\n",
    "2. $∏_{k=1}^{1000} \\left({x \\over k}-1\\right)$\n",
    "3. $f^{\\rm s}_{1000}(x)$ where, as in Lab 1 Problem 3(d), $f^{\\rm s}_n(x)$ corresponds to $n$-terms of the following continued fraction:\n",
    "$$\n",
    "1 + {x-1 \\over 2 + {x-1 \\over 2 + {x-1 \\over 2 + ⋱}}}.\n",
    "$$\n",
<<<<<<< Updated upstream
    "at the point $x = 0.1$. Compare with divided differences to give evidence that your implementation is correct."
   ],
   "metadata": {}
=======
    "Compare with divided differences to give evidence that your implementation is correct."
   ]
>>>>>>> Stashed changes
  },
  {
   "cell_type": "code",
   "execution_count": 98,
   "metadata": {},
   "outputs": [
    {
     "data": {
      "text/plain": [
       "#41 (generic function with 1 method)"
      ]
     },
     "execution_count": 98,
     "metadata": {},
     "output_type": "execute_result"
    }
   ],
   "source": [
    "# TODO: Use dual numbers to compute the derivatives of the 3 functions above.f = x -> exp(exp(x)cos(x) + sin(x))\n",
    "f = x -> exp(exp(x)cos(x) + sin(x))"
   ]
  },
  {
   "cell_type": "markdown",
   "metadata": {},
   "source": [
    "------\n",
    "## I.4 Newton's method"
   ]
  },
  {
   "cell_type": "markdown",
   "metadata": {},
   "source": [
    "Newton's method is a simple algorithmic approach that you may have seen before in school for computing roots (or zeros)\n",
    "of functions. The basic idea is given an initial guess $x_0$,\n",
    "find the first-order Taylor approximation $p(x)$ (i.e., find the line that matches the slope of the function at the point)\n",
    "$$\n",
    "f(x) ≈ \\underbrace{f(x_0) + f'(x_0) (x- x_0)}_{p(x)}.\n",
    "$$\n",
    "We can then solve the root finding problem for $p(x)$ exactly:\n",
    "$$\n",
    "p(x) = 0 ⇔ x = x_0 - {f(x_0) \\over f'(x_0)}\n",
    "$$\n",
    "We take this root of $p(x)$ as the new initial guess and repeat. In other words, we have a simple sequence\n",
    "defined by\n",
    "$$\n",
    "x_{k+1} = x_k - {f(x_k) \\over f'(x_k)}\n",
    "$$\n",
    "If the initial guess is \"close enough\" to a root $r$ of $f$ (ie $f(r) = 0$)\n",
    "then it is known that $x_k → r$. Thus for large $N$ we have $x_N ≈ r$. Note the notion of \"close enough\"\n",
    "is a complicated and rich theory beyond the scope of this module, and connects to the theory of [Mandelbrot sets](https://en.wikipedia.org/wiki/Mandelbrot_set)."
   ]
  },
  {
   "cell_type": "markdown",
   "metadata": {},
   "source": [
    "Dual numbers as implemented by `Dual` gives us a powerful tool to compute derivatives and get a simple implementation\n",
    "of Newton's method working:"
   ]
  },
  {
   "cell_type": "code",
   "execution_count": 99,
   "metadata": {},
   "outputs": [
    {
     "data": {
      "text/plain": [
       "-1.193859111321223"
      ]
     },
     "execution_count": 99,
     "metadata": {},
     "output_type": "execute_result"
    }
   ],
   "source": [
    "# derivative(f, x) computes the derivative at a point x using Dual\n",
    "derivative(f, x) = f(Dual(x,1)).b\n",
    "\n",
    "function newton(f, x, N) # x = x_0 is the initial guess\n",
    "    for k = 1:N\n",
    "        x = x - f(x)/derivative(f,x)\n",
    "    end\n",
    "    x\n",
    "end\n",
    "\n",
    "f = x -> x^5 + x^2 + 1\n",
    "r = newton(f, 0.1, 100)"
   ]
  },
  {
   "cell_type": "markdown",
   "metadata": {},
   "source": [
    "We can test that we have indeed found a root:"
   ]
  },
  {
   "cell_type": "code",
   "execution_count": 100,
   "metadata": {},
   "outputs": [
    {
     "data": {
      "text/plain": [
       "6.661338147750939e-16"
      ]
     },
     "execution_count": 100,
     "metadata": {},
     "output_type": "execute_result"
    }
   ],
   "source": [
    "f(r)"
   ]
  },
  {
   "cell_type": "markdown",
   "metadata": {},
   "source": [
    "-----"
   ]
  },
  {
   "cell_type": "markdown",
   "metadata": {},
   "source": [
    "**Problem 5(a)** For $f(x) = x^5 + x^2 + 1$, plot the error of $x_k$ for `k = 1:15` where the\n",
    "y-axis is scaled logarithmically and chosen $x_0 = 0.1$ You may\n",
    "use the computed `r` as the \"exact\" root. What do you think the convergence rate is?"
   ]
  },
  {
   "cell_type": "code",
   "execution_count": 106,
   "metadata": {},
   "outputs": [
    {
     "data": {
      "image/png": "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",
      "image/svg+xml": [
       "<?xml version=\"1.0\" encoding=\"utf-8\"?>\n",
       "<svg xmlns=\"http://www.w3.org/2000/svg\" xmlns:xlink=\"http://www.w3.org/1999/xlink\" width=\"600\" height=\"400\" viewBox=\"0 0 2400 1600\">\n",
       "<defs>\n",
       "  <clipPath id=\"clip240\">\n",
       "    <rect x=\"0\" y=\"0\" width=\"2400\" height=\"1600\"/>\n",
       "  </clipPath>\n",
       "</defs>\n",
       "<path clip-path=\"url(#clip240)\" d=\"M0 1600 L2400 1600 L2400 0 L0 0  Z\" fill=\"#ffffff\" fill-rule=\"evenodd\" fill-opacity=\"1\"/>\n",
       "<defs>\n",
       "  <clipPath id=\"clip241\">\n",
       "    <rect x=\"480\" y=\"0\" width=\"1681\" height=\"1600\"/>\n",
       "  </clipPath>\n",
       "</defs>\n",
       "<path clip-path=\"url(#clip240)\" d=\"M213.607 1486.45 L2352.76 1486.45 L2352.76 47.2441 L213.607 47.2441  Z\" fill=\"#ffffff\" fill-rule=\"evenodd\" fill-opacity=\"1\"/>\n",
       "<defs>\n",
       "  <clipPath id=\"clip242\">\n",
       "    <rect x=\"213\" y=\"47\" width=\"2140\" height=\"1440\"/>\n",
       "  </clipPath>\n",
       "</defs>\n",
       "<polyline clip-path=\"url(#clip242)\" style=\"stroke:#000000; stroke-linecap:round; stroke-linejoin:round; stroke-width:2; stroke-opacity:0.1; fill:none\" points=\"418.297,1486.45 418.297,47.2441 \"/>\n",
       "<polyline clip-path=\"url(#clip242)\" style=\"stroke:#000000; stroke-linecap:round; stroke-linejoin:round; stroke-width:2; stroke-opacity:0.1; fill:none\" points=\"706.592,1486.45 706.592,47.2441 \"/>\n",
       "<polyline clip-path=\"url(#clip242)\" style=\"stroke:#000000; stroke-linecap:round; stroke-linejoin:round; stroke-width:2; stroke-opacity:0.1; fill:none\" points=\"994.887,1486.45 994.887,47.2441 \"/>\n",
       "<polyline clip-path=\"url(#clip242)\" style=\"stroke:#000000; stroke-linecap:round; stroke-linejoin:round; stroke-width:2; stroke-opacity:0.1; fill:none\" points=\"1283.18,1486.45 1283.18,47.2441 \"/>\n",
       "<polyline clip-path=\"url(#clip242)\" style=\"stroke:#000000; stroke-linecap:round; stroke-linejoin:round; stroke-width:2; stroke-opacity:0.1; fill:none\" points=\"1571.48,1486.45 1571.48,47.2441 \"/>\n",
       "<polyline clip-path=\"url(#clip242)\" style=\"stroke:#000000; stroke-linecap:round; stroke-linejoin:round; stroke-width:2; stroke-opacity:0.1; fill:none\" points=\"1859.77,1486.45 1859.77,47.2441 \"/>\n",
       "<polyline clip-path=\"url(#clip242)\" style=\"stroke:#000000; stroke-linecap:round; stroke-linejoin:round; stroke-width:2; stroke-opacity:0.1; fill:none\" points=\"2148.07,1486.45 2148.07,47.2441 \"/>\n",
       "<polyline clip-path=\"url(#clip240)\" style=\"stroke:#000000; stroke-linecap:round; stroke-linejoin:round; stroke-width:4; stroke-opacity:1; fill:none\" points=\"213.607,1486.45 2352.76,1486.45 \"/>\n",
       "<polyline clip-path=\"url(#clip240)\" style=\"stroke:#000000; stroke-linecap:round; stroke-linejoin:round; stroke-width:4; stroke-opacity:1; fill:none\" points=\"418.297,1486.45 418.297,1467.55 \"/>\n",
       "<polyline clip-path=\"url(#clip240)\" style=\"stroke:#000000; stroke-linecap:round; stroke-linejoin:round; stroke-width:4; stroke-opacity:1; fill:none\" points=\"706.592,1486.45 706.592,1467.55 \"/>\n",
       "<polyline clip-path=\"url(#clip240)\" style=\"stroke:#000000; stroke-linecap:round; stroke-linejoin:round; stroke-width:4; stroke-opacity:1; fill:none\" points=\"994.887,1486.45 994.887,1467.55 \"/>\n",
       "<polyline clip-path=\"url(#clip240)\" style=\"stroke:#000000; stroke-linecap:round; stroke-linejoin:round; stroke-width:4; stroke-opacity:1; fill:none\" points=\"1283.18,1486.45 1283.18,1467.55 \"/>\n",
       "<polyline clip-path=\"url(#clip240)\" style=\"stroke:#000000; stroke-linecap:round; stroke-linejoin:round; stroke-width:4; stroke-opacity:1; fill:none\" points=\"1571.48,1486.45 1571.48,1467.55 \"/>\n",
       "<polyline clip-path=\"url(#clip240)\" style=\"stroke:#000000; stroke-linecap:round; stroke-linejoin:round; stroke-width:4; stroke-opacity:1; fill:none\" points=\"1859.77,1486.45 1859.77,1467.55 \"/>\n",
       "<polyline clip-path=\"url(#clip240)\" style=\"stroke:#000000; stroke-linecap:round; stroke-linejoin:round; stroke-width:4; stroke-opacity:1; fill:none\" points=\"2148.07,1486.45 2148.07,1467.55 \"/>\n",
       "<path clip-path=\"url(#clip240)\" d=\"M412.95 1544.91 L429.269 1544.91 L429.269 1548.85 L407.325 1548.85 L407.325 1544.91 Q409.987 1542.16 414.57 1537.53 Q419.177 1532.88 420.357 1531.53 Q422.602 1529.01 423.482 1527.27 Q424.385 1525.51 424.385 1523.82 Q424.385 1521.07 422.44 1519.33 Q420.519 1517.6 417.417 1517.6 Q415.218 1517.6 412.765 1518.36 Q410.334 1519.13 407.556 1520.68 L407.556 1515.95 Q410.38 1514.82 412.834 1514.24 Q415.288 1513.66 417.325 1513.66 Q422.695 1513.66 425.889 1516.35 Q429.084 1519.03 429.084 1523.52 Q429.084 1525.65 428.274 1527.57 Q427.487 1529.47 425.38 1532.07 Q424.801 1532.74 421.7 1535.95 Q418.598 1539.15 412.95 1544.91 Z\" fill=\"#000000\" fill-rule=\"nonzero\" fill-opacity=\"1\" /><path clip-path=\"url(#clip240)\" d=\"M709.601 1518.36 L697.796 1536.81 L709.601 1536.81 L709.601 1518.36 M708.374 1514.29 L714.254 1514.29 L714.254 1536.81 L719.184 1536.81 L719.184 1540.7 L714.254 1540.7 L714.254 1548.85 L709.601 1548.85 L709.601 1540.7 L693.999 1540.7 L693.999 1536.19 L708.374 1514.29 Z\" fill=\"#000000\" fill-rule=\"nonzero\" fill-opacity=\"1\" /><path clip-path=\"url(#clip240)\" d=\"M995.292 1529.7 Q992.144 1529.7 990.292 1531.86 Q988.463 1534.01 988.463 1537.76 Q988.463 1541.49 990.292 1543.66 Q992.144 1545.82 995.292 1545.82 Q998.44 1545.82 1000.27 1543.66 Q1002.12 1541.49 1002.12 1537.76 Q1002.12 1534.01 1000.27 1531.86 Q998.44 1529.7 995.292 1529.7 M1004.57 1515.05 L1004.57 1519.31 Q1002.81 1518.48 1001.01 1518.04 Q999.227 1517.6 997.468 1517.6 Q992.838 1517.6 990.384 1520.72 Q987.954 1523.85 987.607 1530.17 Q988.972 1528.15 991.033 1527.09 Q993.093 1526 995.57 1526 Q1000.78 1526 1003.79 1529.17 Q1006.82 1532.32 1006.82 1537.76 Q1006.82 1543.08 1003.67 1546.3 Q1000.52 1549.52 995.292 1549.52 Q989.297 1549.52 986.125 1544.94 Q982.954 1540.33 982.954 1531.6 Q982.954 1523.41 986.843 1518.55 Q990.732 1513.66 997.283 1513.66 Q999.042 1513.66 1000.82 1514.01 Q1002.63 1514.36 1004.57 1515.05 Z\" fill=\"#000000\" fill-rule=\"nonzero\" fill-opacity=\"1\" /><path clip-path=\"url(#clip240)\" d=\"M1283.18 1532.44 Q1279.85 1532.44 1277.93 1534.22 Q1276.03 1536 1276.03 1539.13 Q1276.03 1542.25 1277.93 1544.03 Q1279.85 1545.82 1283.18 1545.82 Q1286.52 1545.82 1288.44 1544.03 Q1290.36 1542.23 1290.36 1539.13 Q1290.36 1536 1288.44 1534.22 Q1286.54 1532.44 1283.18 1532.44 M1278.51 1530.45 Q1275.5 1529.7 1273.81 1527.64 Q1272.14 1525.58 1272.14 1522.62 Q1272.14 1518.48 1275.08 1516.07 Q1278.04 1513.66 1283.18 1513.66 Q1288.34 1513.66 1291.28 1516.07 Q1294.22 1518.48 1294.22 1522.62 Q1294.22 1525.58 1292.53 1527.64 Q1290.87 1529.7 1287.88 1530.45 Q1291.26 1531.23 1293.14 1533.52 Q1295.03 1535.82 1295.03 1539.13 Q1295.03 1544.15 1291.95 1546.83 Q1288.9 1549.52 1283.18 1549.52 Q1277.46 1549.52 1274.39 1546.83 Q1271.33 1544.15 1271.33 1539.13 Q1271.33 1535.82 1273.23 1533.52 Q1275.13 1531.23 1278.51 1530.45 M1276.79 1523.06 Q1276.79 1525.75 1278.46 1527.25 Q1280.15 1528.76 1283.18 1528.76 Q1286.19 1528.76 1287.88 1527.25 Q1289.59 1525.75 1289.59 1523.06 Q1289.59 1520.38 1287.88 1518.87 Q1286.19 1517.37 1283.18 1517.37 Q1280.15 1517.37 1278.46 1518.87 Q1276.79 1520.38 1276.79 1523.06 Z\" fill=\"#000000\" fill-rule=\"nonzero\" fill-opacity=\"1\" /><path clip-path=\"url(#clip240)\" d=\"M1546.16 1544.91 L1553.8 1544.91 L1553.8 1518.55 L1545.49 1520.21 L1545.49 1515.95 L1553.76 1514.29 L1558.43 1514.29 L1558.43 1544.91 L1566.07 1544.91 L1566.07 1548.85 L1546.16 1548.85 L1546.16 1544.91 Z\" fill=\"#000000\" fill-rule=\"nonzero\" fill-opacity=\"1\" /><path clip-path=\"url(#clip240)\" d=\"M1585.52 1517.37 Q1581.9 1517.37 1580.08 1520.93 Q1578.27 1524.47 1578.27 1531.6 Q1578.27 1538.71 1580.08 1542.27 Q1581.9 1545.82 1585.52 1545.82 Q1589.15 1545.82 1590.96 1542.27 Q1592.78 1538.71 1592.78 1531.6 Q1592.78 1524.47 1590.96 1520.93 Q1589.15 1517.37 1585.52 1517.37 M1585.52 1513.66 Q1591.33 1513.66 1594.38 1518.27 Q1597.46 1522.85 1597.46 1531.6 Q1597.46 1540.33 1594.38 1544.94 Q1591.33 1549.52 1585.52 1549.52 Q1579.71 1549.52 1576.63 1544.94 Q1573.57 1540.33 1573.57 1531.6 Q1573.57 1522.85 1576.63 1518.27 Q1579.71 1513.66 1585.52 1513.66 Z\" fill=\"#000000\" fill-rule=\"nonzero\" fill-opacity=\"1\" /><path clip-path=\"url(#clip240)\" d=\"M1835.26 1544.91 L1842.9 1544.91 L1842.9 1518.55 L1834.59 1520.21 L1834.59 1515.95 L1842.85 1514.29 L1847.53 1514.29 L1847.53 1544.91 L1855.17 1544.91 L1855.17 1548.85 L1835.26 1548.85 L1835.26 1544.91 Z\" fill=\"#000000\" fill-rule=\"nonzero\" fill-opacity=\"1\" /><path clip-path=\"url(#clip240)\" d=\"M1868.64 1544.91 L1884.96 1544.91 L1884.96 1548.85 L1863.01 1548.85 L1863.01 1544.91 Q1865.67 1542.16 1870.26 1537.53 Q1874.86 1532.88 1876.04 1531.53 Q1878.29 1529.01 1879.17 1527.27 Q1880.07 1525.51 1880.07 1523.82 Q1880.07 1521.07 1878.13 1519.33 Q1876.21 1517.6 1873.1 1517.6 Q1870.91 1517.6 1868.45 1518.36 Q1866.02 1519.13 1863.24 1520.68 L1863.24 1515.95 Q1866.07 1514.82 1868.52 1514.24 Q1870.98 1513.66 1873.01 1513.66 Q1878.38 1513.66 1881.58 1516.35 Q1884.77 1519.03 1884.77 1523.52 Q1884.77 1525.65 1883.96 1527.57 Q1883.17 1529.47 1881.07 1532.07 Q1880.49 1532.74 1877.39 1535.95 Q1874.29 1539.15 1868.64 1544.91 Z\" fill=\"#000000\" fill-rule=\"nonzero\" fill-opacity=\"1\" /><path clip-path=\"url(#clip240)\" d=\"M2122.51 1544.91 L2130.15 1544.91 L2130.15 1518.55 L2121.84 1520.21 L2121.84 1515.95 L2130.1 1514.29 L2134.78 1514.29 L2134.78 1544.91 L2142.42 1544.91 L2142.42 1548.85 L2122.51 1548.85 L2122.51 1544.91 Z\" fill=\"#000000\" fill-rule=\"nonzero\" fill-opacity=\"1\" /><path clip-path=\"url(#clip240)\" d=\"M2164.71 1518.36 L2152.9 1536.81 L2164.71 1536.81 L2164.71 1518.36 M2163.48 1514.29 L2169.36 1514.29 L2169.36 1536.81 L2174.29 1536.81 L2174.29 1540.7 L2169.36 1540.7 L2169.36 1548.85 L2164.71 1548.85 L2164.71 1540.7 L2149.11 1540.7 L2149.11 1536.19 L2163.48 1514.29 Z\" fill=\"#000000\" fill-rule=\"nonzero\" fill-opacity=\"1\" /><polyline clip-path=\"url(#clip242)\" style=\"stroke:#000000; stroke-linecap:round; stroke-linejoin:round; stroke-width:2; stroke-opacity:0.1; fill:none\" points=\"213.607,1063.12 2352.76,1063.12 \"/>\n",
       "<polyline clip-path=\"url(#clip242)\" style=\"stroke:#000000; stroke-linecap:round; stroke-linejoin:round; stroke-width:2; stroke-opacity:0.1; fill:none\" points=\"213.607,601.985 2352.76,601.985 \"/>\n",
       "<polyline clip-path=\"url(#clip242)\" style=\"stroke:#000000; stroke-linecap:round; stroke-linejoin:round; stroke-width:2; stroke-opacity:0.1; fill:none\" points=\"213.607,140.849 2352.76,140.849 \"/>\n",
       "<polyline clip-path=\"url(#clip240)\" style=\"stroke:#000000; stroke-linecap:round; stroke-linejoin:round; stroke-width:4; stroke-opacity:1; fill:none\" points=\"213.607,1486.45 213.607,47.2441 \"/>\n",
       "<polyline clip-path=\"url(#clip240)\" style=\"stroke:#000000; stroke-linecap:round; stroke-linejoin:round; stroke-width:4; stroke-opacity:1; fill:none\" points=\"213.607,1063.12 232.505,1063.12 \"/>\n",
       "<polyline clip-path=\"url(#clip240)\" style=\"stroke:#000000; stroke-linecap:round; stroke-linejoin:round; stroke-width:4; stroke-opacity:1; fill:none\" points=\"213.607,601.985 232.505,601.985 \"/>\n",
       "<polyline clip-path=\"url(#clip240)\" style=\"stroke:#000000; stroke-linecap:round; stroke-linejoin:round; stroke-width:4; stroke-opacity:1; fill:none\" points=\"213.607,140.849 232.505,140.849 \"/>\n",
       "<path clip-path=\"url(#clip240)\" d=\"M51.6634 1082.91 L59.3023 1082.91 L59.3023 1056.55 L50.9921 1058.21 L50.9921 1053.95 L59.256 1052.29 L63.9319 1052.29 L63.9319 1082.91 L71.5707 1082.91 L71.5707 1086.85 L51.6634 1086.85 L51.6634 1082.91 Z\" fill=\"#000000\" fill-rule=\"nonzero\" fill-opacity=\"1\" /><path clip-path=\"url(#clip240)\" d=\"M91.0151 1055.37 Q87.404 1055.37 85.5753 1058.93 Q83.7697 1062.47 83.7697 1069.6 Q83.7697 1076.71 85.5753 1080.27 Q87.404 1083.82 91.0151 1083.82 Q94.6493 1083.82 96.4548 1080.27 Q98.2835 1076.71 98.2835 1069.6 Q98.2835 1062.47 96.4548 1058.93 Q94.6493 1055.37 91.0151 1055.37 M91.0151 1051.66 Q96.8252 1051.66 99.8808 1056.27 Q102.959 1060.85 102.959 1069.6 Q102.959 1078.33 99.8808 1082.94 Q96.8252 1087.52 91.0151 1087.52 Q85.2049 1087.52 82.1262 1082.94 Q79.0707 1078.33 79.0707 1069.6 Q79.0707 1060.85 82.1262 1056.27 Q85.2049 1051.66 91.0151 1051.66 Z\" fill=\"#000000\" fill-rule=\"nonzero\" fill-opacity=\"1\" /><path clip-path=\"url(#clip240)\" d=\"M102.959 1045.76 L127.071 1045.76 L127.071 1048.96 L102.959 1048.96 L102.959 1045.76 Z\" fill=\"#000000\" fill-rule=\"nonzero\" fill-opacity=\"1\" /><path clip-path=\"url(#clip240)\" d=\"M135.929 1056.24 L142.136 1056.24 L142.136 1034.82 L135.384 1036.17 L135.384 1032.71 L142.098 1031.36 L145.898 1031.36 L145.898 1056.24 L152.104 1056.24 L152.104 1059.44 L135.929 1059.44 L135.929 1056.24 Z\" fill=\"#000000\" fill-rule=\"nonzero\" fill-opacity=\"1\" /><path clip-path=\"url(#clip240)\" d=\"M167.903 1033.86 Q164.969 1033.86 163.483 1036.75 Q162.016 1039.63 162.016 1045.43 Q162.016 1051.2 163.483 1054.1 Q164.969 1056.97 167.903 1056.97 Q170.855 1056.97 172.322 1054.1 Q173.808 1051.2 173.808 1045.43 Q173.808 1039.63 172.322 1036.75 Q170.855 1033.86 167.903 1033.86 M167.903 1030.85 Q172.623 1030.85 175.106 1034.59 Q177.607 1038.32 177.607 1045.43 Q177.607 1052.52 175.106 1056.26 Q172.623 1059.98 167.903 1059.98 Q163.182 1059.98 160.68 1056.26 Q158.198 1052.52 158.198 1045.43 Q158.198 1038.32 160.68 1034.59 Q163.182 1030.85 167.903 1030.85 Z\" fill=\"#000000\" fill-rule=\"nonzero\" fill-opacity=\"1\" /><path clip-path=\"url(#clip240)\" d=\"M76.9787 621.777 L84.6175 621.777 L84.6175 595.411 L76.3074 597.078 L76.3074 592.819 L84.5712 591.152 L89.2471 591.152 L89.2471 621.777 L96.886 621.777 L96.886 625.712 L76.9787 625.712 L76.9787 621.777 Z\" fill=\"#000000\" fill-rule=\"nonzero\" fill-opacity=\"1\" /><path clip-path=\"url(#clip240)\" d=\"M116.33 594.231 Q112.719 594.231 110.891 597.796 Q109.085 601.337 109.085 608.467 Q109.085 615.573 110.891 619.138 Q112.719 622.68 116.33 622.68 Q119.965 622.68 121.77 619.138 Q123.599 615.573 123.599 608.467 Q123.599 601.337 121.77 597.796 Q119.965 594.231 116.33 594.231 M116.33 590.527 Q122.14 590.527 125.196 595.134 Q128.275 599.717 128.275 608.467 Q128.275 617.194 125.196 621.8 Q122.14 626.383 116.33 626.383 Q110.52 626.383 107.441 621.8 Q104.386 617.194 104.386 608.467 Q104.386 599.717 107.441 595.134 Q110.52 590.527 116.33 590.527 Z\" fill=\"#000000\" fill-rule=\"nonzero\" fill-opacity=\"1\" /><path clip-path=\"url(#clip240)\" d=\"M128.275 584.628 L152.386 584.628 L152.386 587.826 L128.275 587.826 L128.275 584.628 Z\" fill=\"#000000\" fill-rule=\"nonzero\" fill-opacity=\"1\" /><path clip-path=\"url(#clip240)\" d=\"M160.624 570.222 L175.539 570.222 L175.539 573.419 L164.103 573.419 L164.103 580.303 Q164.931 580.021 165.759 579.889 Q166.586 579.738 167.414 579.738 Q172.116 579.738 174.862 582.315 Q177.607 584.892 177.607 589.293 Q177.607 593.825 174.786 596.346 Q171.965 598.847 166.831 598.847 Q165.063 598.847 163.22 598.546 Q161.395 598.245 159.439 597.643 L159.439 593.825 Q161.132 594.747 162.937 595.198 Q164.743 595.65 166.755 595.65 Q170.009 595.65 171.909 593.938 Q173.808 592.227 173.808 589.293 Q173.808 586.359 171.909 584.647 Q170.009 582.936 166.755 582.936 Q165.232 582.936 163.709 583.274 Q162.204 583.613 160.624 584.328 L160.624 570.222 Z\" fill=\"#000000\" fill-rule=\"nonzero\" fill-opacity=\"1\" /><path clip-path=\"url(#clip240)\" d=\"M106.902 160.641 L114.541 160.641 L114.541 134.276 L106.231 135.943 L106.231 131.683 L114.494 130.017 L119.17 130.017 L119.17 160.641 L126.809 160.641 L126.809 164.577 L106.902 164.577 L106.902 160.641 Z\" fill=\"#000000\" fill-rule=\"nonzero\" fill-opacity=\"1\" /><path clip-path=\"url(#clip240)\" d=\"M146.253 133.095 Q142.642 133.095 140.814 136.66 Q139.008 140.202 139.008 147.331 Q139.008 154.438 140.814 158.003 Q142.642 161.544 146.253 161.544 Q149.888 161.544 151.693 158.003 Q153.522 154.438 153.522 147.331 Q153.522 140.202 151.693 136.66 Q149.888 133.095 146.253 133.095 M146.253 129.392 Q152.064 129.392 155.119 133.998 Q158.198 138.581 158.198 147.331 Q158.198 156.058 155.119 160.665 Q152.064 165.248 146.253 165.248 Q140.443 165.248 137.365 160.665 Q134.309 156.058 134.309 147.331 Q134.309 138.581 137.365 133.998 Q140.443 129.392 146.253 129.392 Z\" fill=\"#000000\" fill-rule=\"nonzero\" fill-opacity=\"1\" /><path clip-path=\"url(#clip240)\" d=\"M167.903 111.588 Q164.969 111.588 163.483 114.484 Q162.016 117.362 162.016 123.154 Q162.016 128.928 163.483 131.825 Q164.969 134.702 167.903 134.702 Q170.855 134.702 172.322 131.825 Q173.808 128.928 173.808 123.154 Q173.808 117.362 172.322 114.484 Q170.855 111.588 167.903 111.588 M167.903 108.578 Q172.623 108.578 175.106 112.321 Q177.607 116.045 177.607 123.154 Q177.607 130.245 175.106 133.988 Q172.623 137.712 167.903 137.712 Q163.182 137.712 160.68 133.988 Q158.198 130.245 158.198 123.154 Q158.198 116.045 160.68 112.321 Q163.182 108.578 167.903 108.578 Z\" fill=\"#000000\" fill-rule=\"nonzero\" fill-opacity=\"1\" /><polyline clip-path=\"url(#clip242)\" style=\"stroke:#009af9; stroke-linecap:round; stroke-linejoin:round; stroke-width:4; stroke-opacity:1; fill:none\" points=\"274.149,87.9763 418.297,100.165 562.444,113.511 706.592,128.58 850.739,146.351 994.887,168.65 1139.03,199.203 1283.18,246.28 1427.33,329.011 1571.48,489.047 1715.62,808.288 1859.77,1445.72 \"/>\n",
       "<path clip-path=\"url(#clip240)\" d=\"M284.912 198.898 L551.258 198.898 L551.258 95.2176 L284.912 95.2176  Z\" fill=\"#ffffff\" fill-rule=\"evenodd\" fill-opacity=\"1\"/>\n",
       "<polyline clip-path=\"url(#clip240)\" style=\"stroke:#000000; stroke-linecap:round; stroke-linejoin:round; stroke-width:4; stroke-opacity:1; fill:none\" points=\"284.912,198.898 551.258,198.898 551.258,95.2176 284.912,95.2176 284.912,198.898 \"/>\n",
       "<polyline clip-path=\"url(#clip240)\" style=\"stroke:#009af9; stroke-linecap:round; stroke-linejoin:round; stroke-width:4; stroke-opacity:1; fill:none\" points=\"308.681,147.058 451.291,147.058 \"/>\n",
       "<path clip-path=\"url(#clip240)\" d=\"M488.901 166.745 Q487.096 171.375 485.383 172.787 Q483.67 174.199 480.8 174.199 L477.397 174.199 L477.397 170.634 L479.897 170.634 Q481.656 170.634 482.628 169.8 Q483.601 168.967 484.781 165.865 L485.545 163.921 L475.059 138.412 L479.573 138.412 L487.675 158.689 L495.776 138.412 L500.29 138.412 L488.901 166.745 Z\" fill=\"#000000\" fill-rule=\"nonzero\" fill-opacity=\"1\" /><path clip-path=\"url(#clip240)\" d=\"M507.582 160.402 L515.221 160.402 L515.221 134.037 L506.911 135.703 L506.911 131.444 L515.174 129.778 L519.85 129.778 L519.85 160.402 L527.489 160.402 L527.489 164.338 L507.582 164.338 L507.582 160.402 Z\" fill=\"#000000\" fill-rule=\"nonzero\" fill-opacity=\"1\" /></svg>\n"
      ],
      "text/html": [
       "<?xml version=\"1.0\" encoding=\"utf-8\"?>\n",
       "<svg xmlns=\"http://www.w3.org/2000/svg\" xmlns:xlink=\"http://www.w3.org/1999/xlink\" width=\"600\" height=\"400\" viewBox=\"0 0 2400 1600\">\n",
       "<defs>\n",
       "  <clipPath id=\"clip290\">\n",
       "    <rect x=\"0\" y=\"0\" width=\"2400\" height=\"1600\"/>\n",
       "  </clipPath>\n",
       "</defs>\n",
       "<path clip-path=\"url(#clip290)\" d=\"M0 1600 L2400 1600 L2400 0 L0 0  Z\" fill=\"#ffffff\" fill-rule=\"evenodd\" fill-opacity=\"1\"/>\n",
       "<defs>\n",
       "  <clipPath id=\"clip291\">\n",
       "    <rect x=\"480\" y=\"0\" width=\"1681\" height=\"1600\"/>\n",
       "  </clipPath>\n",
       "</defs>\n",
       "<path clip-path=\"url(#clip290)\" d=\"M213.607 1486.45 L2352.76 1486.45 L2352.76 47.2441 L213.607 47.2441  Z\" fill=\"#ffffff\" fill-rule=\"evenodd\" fill-opacity=\"1\"/>\n",
       "<defs>\n",
       "  <clipPath id=\"clip292\">\n",
       "    <rect x=\"213\" y=\"47\" width=\"2140\" height=\"1440\"/>\n",
       "  </clipPath>\n",
       "</defs>\n",
       "<polyline clip-path=\"url(#clip292)\" style=\"stroke:#000000; stroke-linecap:round; stroke-linejoin:round; stroke-width:2; stroke-opacity:0.1; fill:none\" points=\"418.297,1486.45 418.297,47.2441 \"/>\n",
       "<polyline clip-path=\"url(#clip292)\" style=\"stroke:#000000; stroke-linecap:round; stroke-linejoin:round; stroke-width:2; stroke-opacity:0.1; fill:none\" points=\"706.592,1486.45 706.592,47.2441 \"/>\n",
       "<polyline clip-path=\"url(#clip292)\" style=\"stroke:#000000; stroke-linecap:round; stroke-linejoin:round; stroke-width:2; stroke-opacity:0.1; fill:none\" points=\"994.887,1486.45 994.887,47.2441 \"/>\n",
       "<polyline clip-path=\"url(#clip292)\" style=\"stroke:#000000; stroke-linecap:round; stroke-linejoin:round; stroke-width:2; stroke-opacity:0.1; fill:none\" points=\"1283.18,1486.45 1283.18,47.2441 \"/>\n",
       "<polyline clip-path=\"url(#clip292)\" style=\"stroke:#000000; stroke-linecap:round; stroke-linejoin:round; stroke-width:2; stroke-opacity:0.1; fill:none\" points=\"1571.48,1486.45 1571.48,47.2441 \"/>\n",
       "<polyline clip-path=\"url(#clip292)\" style=\"stroke:#000000; stroke-linecap:round; stroke-linejoin:round; stroke-width:2; stroke-opacity:0.1; fill:none\" points=\"1859.77,1486.45 1859.77,47.2441 \"/>\n",
       "<polyline clip-path=\"url(#clip292)\" style=\"stroke:#000000; stroke-linecap:round; stroke-linejoin:round; stroke-width:2; stroke-opacity:0.1; fill:none\" points=\"2148.07,1486.45 2148.07,47.2441 \"/>\n",
       "<polyline clip-path=\"url(#clip290)\" style=\"stroke:#000000; stroke-linecap:round; stroke-linejoin:round; stroke-width:4; stroke-opacity:1; fill:none\" points=\"213.607,1486.45 2352.76,1486.45 \"/>\n",
       "<polyline clip-path=\"url(#clip290)\" style=\"stroke:#000000; stroke-linecap:round; stroke-linejoin:round; stroke-width:4; stroke-opacity:1; fill:none\" points=\"418.297,1486.45 418.297,1467.55 \"/>\n",
       "<polyline clip-path=\"url(#clip290)\" style=\"stroke:#000000; stroke-linecap:round; stroke-linejoin:round; stroke-width:4; stroke-opacity:1; fill:none\" points=\"706.592,1486.45 706.592,1467.55 \"/>\n",
       "<polyline clip-path=\"url(#clip290)\" style=\"stroke:#000000; stroke-linecap:round; stroke-linejoin:round; stroke-width:4; stroke-opacity:1; fill:none\" points=\"994.887,1486.45 994.887,1467.55 \"/>\n",
       "<polyline clip-path=\"url(#clip290)\" style=\"stroke:#000000; stroke-linecap:round; stroke-linejoin:round; stroke-width:4; stroke-opacity:1; fill:none\" points=\"1283.18,1486.45 1283.18,1467.55 \"/>\n",
       "<polyline clip-path=\"url(#clip290)\" style=\"stroke:#000000; stroke-linecap:round; stroke-linejoin:round; stroke-width:4; stroke-opacity:1; fill:none\" points=\"1571.48,1486.45 1571.48,1467.55 \"/>\n",
       "<polyline clip-path=\"url(#clip290)\" style=\"stroke:#000000; stroke-linecap:round; stroke-linejoin:round; stroke-width:4; stroke-opacity:1; fill:none\" points=\"1859.77,1486.45 1859.77,1467.55 \"/>\n",
       "<polyline clip-path=\"url(#clip290)\" style=\"stroke:#000000; stroke-linecap:round; stroke-linejoin:round; stroke-width:4; stroke-opacity:1; fill:none\" points=\"2148.07,1486.45 2148.07,1467.55 \"/>\n",
       "<path clip-path=\"url(#clip290)\" d=\"M412.95 1544.91 L429.269 1544.91 L429.269 1548.85 L407.325 1548.85 L407.325 1544.91 Q409.987 1542.16 414.57 1537.53 Q419.177 1532.88 420.357 1531.53 Q422.602 1529.01 423.482 1527.27 Q424.385 1525.51 424.385 1523.82 Q424.385 1521.07 422.44 1519.33 Q420.519 1517.6 417.417 1517.6 Q415.218 1517.6 412.765 1518.36 Q410.334 1519.13 407.556 1520.68 L407.556 1515.95 Q410.38 1514.82 412.834 1514.24 Q415.288 1513.66 417.325 1513.66 Q422.695 1513.66 425.889 1516.35 Q429.084 1519.03 429.084 1523.52 Q429.084 1525.65 428.274 1527.57 Q427.487 1529.47 425.38 1532.07 Q424.801 1532.74 421.7 1535.95 Q418.598 1539.15 412.95 1544.91 Z\" fill=\"#000000\" fill-rule=\"nonzero\" fill-opacity=\"1\" /><path clip-path=\"url(#clip290)\" d=\"M709.601 1518.36 L697.796 1536.81 L709.601 1536.81 L709.601 1518.36 M708.374 1514.29 L714.254 1514.29 L714.254 1536.81 L719.184 1536.81 L719.184 1540.7 L714.254 1540.7 L714.254 1548.85 L709.601 1548.85 L709.601 1540.7 L693.999 1540.7 L693.999 1536.19 L708.374 1514.29 Z\" fill=\"#000000\" fill-rule=\"nonzero\" fill-opacity=\"1\" /><path clip-path=\"url(#clip290)\" d=\"M995.292 1529.7 Q992.144 1529.7 990.292 1531.86 Q988.463 1534.01 988.463 1537.76 Q988.463 1541.49 990.292 1543.66 Q992.144 1545.82 995.292 1545.82 Q998.44 1545.82 1000.27 1543.66 Q1002.12 1541.49 1002.12 1537.76 Q1002.12 1534.01 1000.27 1531.86 Q998.44 1529.7 995.292 1529.7 M1004.57 1515.05 L1004.57 1519.31 Q1002.81 1518.48 1001.01 1518.04 Q999.227 1517.6 997.468 1517.6 Q992.838 1517.6 990.384 1520.72 Q987.954 1523.85 987.607 1530.17 Q988.972 1528.15 991.033 1527.09 Q993.093 1526 995.57 1526 Q1000.78 1526 1003.79 1529.17 Q1006.82 1532.32 1006.82 1537.76 Q1006.82 1543.08 1003.67 1546.3 Q1000.52 1549.52 995.292 1549.52 Q989.297 1549.52 986.125 1544.94 Q982.954 1540.33 982.954 1531.6 Q982.954 1523.41 986.843 1518.55 Q990.732 1513.66 997.283 1513.66 Q999.042 1513.66 1000.82 1514.01 Q1002.63 1514.36 1004.57 1515.05 Z\" fill=\"#000000\" fill-rule=\"nonzero\" fill-opacity=\"1\" /><path clip-path=\"url(#clip290)\" d=\"M1283.18 1532.44 Q1279.85 1532.44 1277.93 1534.22 Q1276.03 1536 1276.03 1539.13 Q1276.03 1542.25 1277.93 1544.03 Q1279.85 1545.82 1283.18 1545.82 Q1286.52 1545.82 1288.44 1544.03 Q1290.36 1542.23 1290.36 1539.13 Q1290.36 1536 1288.44 1534.22 Q1286.54 1532.44 1283.18 1532.44 M1278.51 1530.45 Q1275.5 1529.7 1273.81 1527.64 Q1272.14 1525.58 1272.14 1522.62 Q1272.14 1518.48 1275.08 1516.07 Q1278.04 1513.66 1283.18 1513.66 Q1288.34 1513.66 1291.28 1516.07 Q1294.22 1518.48 1294.22 1522.62 Q1294.22 1525.58 1292.53 1527.64 Q1290.87 1529.7 1287.88 1530.45 Q1291.26 1531.23 1293.14 1533.52 Q1295.03 1535.82 1295.03 1539.13 Q1295.03 1544.15 1291.95 1546.83 Q1288.9 1549.52 1283.18 1549.52 Q1277.46 1549.52 1274.39 1546.83 Q1271.33 1544.15 1271.33 1539.13 Q1271.33 1535.82 1273.23 1533.52 Q1275.13 1531.23 1278.51 1530.45 M1276.79 1523.06 Q1276.79 1525.75 1278.46 1527.25 Q1280.15 1528.76 1283.18 1528.76 Q1286.19 1528.76 1287.88 1527.25 Q1289.59 1525.75 1289.59 1523.06 Q1289.59 1520.38 1287.88 1518.87 Q1286.19 1517.37 1283.18 1517.37 Q1280.15 1517.37 1278.46 1518.87 Q1276.79 1520.38 1276.79 1523.06 Z\" fill=\"#000000\" fill-rule=\"nonzero\" fill-opacity=\"1\" /><path clip-path=\"url(#clip290)\" d=\"M1546.16 1544.91 L1553.8 1544.91 L1553.8 1518.55 L1545.49 1520.21 L1545.49 1515.95 L1553.76 1514.29 L1558.43 1514.29 L1558.43 1544.91 L1566.07 1544.91 L1566.07 1548.85 L1546.16 1548.85 L1546.16 1544.91 Z\" fill=\"#000000\" fill-rule=\"nonzero\" fill-opacity=\"1\" /><path clip-path=\"url(#clip290)\" d=\"M1585.52 1517.37 Q1581.9 1517.37 1580.08 1520.93 Q1578.27 1524.47 1578.27 1531.6 Q1578.27 1538.71 1580.08 1542.27 Q1581.9 1545.82 1585.52 1545.82 Q1589.15 1545.82 1590.96 1542.27 Q1592.78 1538.71 1592.78 1531.6 Q1592.78 1524.47 1590.96 1520.93 Q1589.15 1517.37 1585.52 1517.37 M1585.52 1513.66 Q1591.33 1513.66 1594.38 1518.27 Q1597.46 1522.85 1597.46 1531.6 Q1597.46 1540.33 1594.38 1544.94 Q1591.33 1549.52 1585.52 1549.52 Q1579.71 1549.52 1576.63 1544.94 Q1573.57 1540.33 1573.57 1531.6 Q1573.57 1522.85 1576.63 1518.27 Q1579.71 1513.66 1585.52 1513.66 Z\" fill=\"#000000\" fill-rule=\"nonzero\" fill-opacity=\"1\" /><path clip-path=\"url(#clip290)\" d=\"M1835.26 1544.91 L1842.9 1544.91 L1842.9 1518.55 L1834.59 1520.21 L1834.59 1515.95 L1842.85 1514.29 L1847.53 1514.29 L1847.53 1544.91 L1855.17 1544.91 L1855.17 1548.85 L1835.26 1548.85 L1835.26 1544.91 Z\" fill=\"#000000\" fill-rule=\"nonzero\" fill-opacity=\"1\" /><path clip-path=\"url(#clip290)\" d=\"M1868.64 1544.91 L1884.96 1544.91 L1884.96 1548.85 L1863.01 1548.85 L1863.01 1544.91 Q1865.67 1542.16 1870.26 1537.53 Q1874.86 1532.88 1876.04 1531.53 Q1878.29 1529.01 1879.17 1527.27 Q1880.07 1525.51 1880.07 1523.82 Q1880.07 1521.07 1878.13 1519.33 Q1876.21 1517.6 1873.1 1517.6 Q1870.91 1517.6 1868.45 1518.36 Q1866.02 1519.13 1863.24 1520.68 L1863.24 1515.95 Q1866.07 1514.82 1868.52 1514.24 Q1870.98 1513.66 1873.01 1513.66 Q1878.38 1513.66 1881.58 1516.35 Q1884.77 1519.03 1884.77 1523.52 Q1884.77 1525.65 1883.96 1527.57 Q1883.17 1529.47 1881.07 1532.07 Q1880.49 1532.74 1877.39 1535.95 Q1874.29 1539.15 1868.64 1544.91 Z\" fill=\"#000000\" fill-rule=\"nonzero\" fill-opacity=\"1\" /><path clip-path=\"url(#clip290)\" d=\"M2122.51 1544.91 L2130.15 1544.91 L2130.15 1518.55 L2121.84 1520.21 L2121.84 1515.95 L2130.1 1514.29 L2134.78 1514.29 L2134.78 1544.91 L2142.42 1544.91 L2142.42 1548.85 L2122.51 1548.85 L2122.51 1544.91 Z\" fill=\"#000000\" fill-rule=\"nonzero\" fill-opacity=\"1\" /><path clip-path=\"url(#clip290)\" d=\"M2164.71 1518.36 L2152.9 1536.81 L2164.71 1536.81 L2164.71 1518.36 M2163.48 1514.29 L2169.36 1514.29 L2169.36 1536.81 L2174.29 1536.81 L2174.29 1540.7 L2169.36 1540.7 L2169.36 1548.85 L2164.71 1548.85 L2164.71 1540.7 L2149.11 1540.7 L2149.11 1536.19 L2163.48 1514.29 Z\" fill=\"#000000\" fill-rule=\"nonzero\" fill-opacity=\"1\" /><polyline clip-path=\"url(#clip292)\" style=\"stroke:#000000; stroke-linecap:round; stroke-linejoin:round; stroke-width:2; stroke-opacity:0.1; fill:none\" points=\"213.607,1063.12 2352.76,1063.12 \"/>\n",
       "<polyline clip-path=\"url(#clip292)\" style=\"stroke:#000000; stroke-linecap:round; stroke-linejoin:round; stroke-width:2; stroke-opacity:0.1; fill:none\" points=\"213.607,601.985 2352.76,601.985 \"/>\n",
       "<polyline clip-path=\"url(#clip292)\" style=\"stroke:#000000; stroke-linecap:round; stroke-linejoin:round; stroke-width:2; stroke-opacity:0.1; fill:none\" points=\"213.607,140.849 2352.76,140.849 \"/>\n",
       "<polyline clip-path=\"url(#clip290)\" style=\"stroke:#000000; stroke-linecap:round; stroke-linejoin:round; stroke-width:4; stroke-opacity:1; fill:none\" points=\"213.607,1486.45 213.607,47.2441 \"/>\n",
       "<polyline clip-path=\"url(#clip290)\" style=\"stroke:#000000; stroke-linecap:round; stroke-linejoin:round; stroke-width:4; stroke-opacity:1; fill:none\" points=\"213.607,1063.12 232.505,1063.12 \"/>\n",
       "<polyline clip-path=\"url(#clip290)\" style=\"stroke:#000000; stroke-linecap:round; stroke-linejoin:round; stroke-width:4; stroke-opacity:1; fill:none\" points=\"213.607,601.985 232.505,601.985 \"/>\n",
       "<polyline clip-path=\"url(#clip290)\" style=\"stroke:#000000; stroke-linecap:round; stroke-linejoin:round; stroke-width:4; stroke-opacity:1; fill:none\" points=\"213.607,140.849 232.505,140.849 \"/>\n",
       "<path clip-path=\"url(#clip290)\" d=\"M51.6634 1082.91 L59.3023 1082.91 L59.3023 1056.55 L50.9921 1058.21 L50.9921 1053.95 L59.256 1052.29 L63.9319 1052.29 L63.9319 1082.91 L71.5707 1082.91 L71.5707 1086.85 L51.6634 1086.85 L51.6634 1082.91 Z\" fill=\"#000000\" fill-rule=\"nonzero\" fill-opacity=\"1\" /><path clip-path=\"url(#clip290)\" d=\"M91.0151 1055.37 Q87.404 1055.37 85.5753 1058.93 Q83.7697 1062.47 83.7697 1069.6 Q83.7697 1076.71 85.5753 1080.27 Q87.404 1083.82 91.0151 1083.82 Q94.6493 1083.82 96.4548 1080.27 Q98.2835 1076.71 98.2835 1069.6 Q98.2835 1062.47 96.4548 1058.93 Q94.6493 1055.37 91.0151 1055.37 M91.0151 1051.66 Q96.8252 1051.66 99.8808 1056.27 Q102.959 1060.85 102.959 1069.6 Q102.959 1078.33 99.8808 1082.94 Q96.8252 1087.52 91.0151 1087.52 Q85.2049 1087.52 82.1262 1082.94 Q79.0707 1078.33 79.0707 1069.6 Q79.0707 1060.85 82.1262 1056.27 Q85.2049 1051.66 91.0151 1051.66 Z\" fill=\"#000000\" fill-rule=\"nonzero\" fill-opacity=\"1\" /><path clip-path=\"url(#clip290)\" d=\"M102.959 1045.76 L127.071 1045.76 L127.071 1048.96 L102.959 1048.96 L102.959 1045.76 Z\" fill=\"#000000\" fill-rule=\"nonzero\" fill-opacity=\"1\" /><path clip-path=\"url(#clip290)\" d=\"M135.929 1056.24 L142.136 1056.24 L142.136 1034.82 L135.384 1036.17 L135.384 1032.71 L142.098 1031.36 L145.898 1031.36 L145.898 1056.24 L152.104 1056.24 L152.104 1059.44 L135.929 1059.44 L135.929 1056.24 Z\" fill=\"#000000\" fill-rule=\"nonzero\" fill-opacity=\"1\" /><path clip-path=\"url(#clip290)\" d=\"M167.903 1033.86 Q164.969 1033.86 163.483 1036.75 Q162.016 1039.63 162.016 1045.43 Q162.016 1051.2 163.483 1054.1 Q164.969 1056.97 167.903 1056.97 Q170.855 1056.97 172.322 1054.1 Q173.808 1051.2 173.808 1045.43 Q173.808 1039.63 172.322 1036.75 Q170.855 1033.86 167.903 1033.86 M167.903 1030.85 Q172.623 1030.85 175.106 1034.59 Q177.607 1038.32 177.607 1045.43 Q177.607 1052.52 175.106 1056.26 Q172.623 1059.98 167.903 1059.98 Q163.182 1059.98 160.68 1056.26 Q158.198 1052.52 158.198 1045.43 Q158.198 1038.32 160.68 1034.59 Q163.182 1030.85 167.903 1030.85 Z\" fill=\"#000000\" fill-rule=\"nonzero\" fill-opacity=\"1\" /><path clip-path=\"url(#clip290)\" d=\"M76.9787 621.777 L84.6175 621.777 L84.6175 595.411 L76.3074 597.078 L76.3074 592.819 L84.5712 591.152 L89.2471 591.152 L89.2471 621.777 L96.886 621.777 L96.886 625.712 L76.9787 625.712 L76.9787 621.777 Z\" fill=\"#000000\" fill-rule=\"nonzero\" fill-opacity=\"1\" /><path clip-path=\"url(#clip290)\" d=\"M116.33 594.231 Q112.719 594.231 110.891 597.796 Q109.085 601.337 109.085 608.467 Q109.085 615.573 110.891 619.138 Q112.719 622.68 116.33 622.68 Q119.965 622.68 121.77 619.138 Q123.599 615.573 123.599 608.467 Q123.599 601.337 121.77 597.796 Q119.965 594.231 116.33 594.231 M116.33 590.527 Q122.14 590.527 125.196 595.134 Q128.275 599.717 128.275 608.467 Q128.275 617.194 125.196 621.8 Q122.14 626.383 116.33 626.383 Q110.52 626.383 107.441 621.8 Q104.386 617.194 104.386 608.467 Q104.386 599.717 107.441 595.134 Q110.52 590.527 116.33 590.527 Z\" fill=\"#000000\" fill-rule=\"nonzero\" fill-opacity=\"1\" /><path clip-path=\"url(#clip290)\" d=\"M128.275 584.628 L152.386 584.628 L152.386 587.826 L128.275 587.826 L128.275 584.628 Z\" fill=\"#000000\" fill-rule=\"nonzero\" fill-opacity=\"1\" /><path clip-path=\"url(#clip290)\" d=\"M160.624 570.222 L175.539 570.222 L175.539 573.419 L164.103 573.419 L164.103 580.303 Q164.931 580.021 165.759 579.889 Q166.586 579.738 167.414 579.738 Q172.116 579.738 174.862 582.315 Q177.607 584.892 177.607 589.293 Q177.607 593.825 174.786 596.346 Q171.965 598.847 166.831 598.847 Q165.063 598.847 163.22 598.546 Q161.395 598.245 159.439 597.643 L159.439 593.825 Q161.132 594.747 162.937 595.198 Q164.743 595.65 166.755 595.65 Q170.009 595.65 171.909 593.938 Q173.808 592.227 173.808 589.293 Q173.808 586.359 171.909 584.647 Q170.009 582.936 166.755 582.936 Q165.232 582.936 163.709 583.274 Q162.204 583.613 160.624 584.328 L160.624 570.222 Z\" fill=\"#000000\" fill-rule=\"nonzero\" fill-opacity=\"1\" /><path clip-path=\"url(#clip290)\" d=\"M106.902 160.641 L114.541 160.641 L114.541 134.276 L106.231 135.943 L106.231 131.683 L114.494 130.017 L119.17 130.017 L119.17 160.641 L126.809 160.641 L126.809 164.577 L106.902 164.577 L106.902 160.641 Z\" fill=\"#000000\" fill-rule=\"nonzero\" fill-opacity=\"1\" /><path clip-path=\"url(#clip290)\" d=\"M146.253 133.095 Q142.642 133.095 140.814 136.66 Q139.008 140.202 139.008 147.331 Q139.008 154.438 140.814 158.003 Q142.642 161.544 146.253 161.544 Q149.888 161.544 151.693 158.003 Q153.522 154.438 153.522 147.331 Q153.522 140.202 151.693 136.66 Q149.888 133.095 146.253 133.095 M146.253 129.392 Q152.064 129.392 155.119 133.998 Q158.198 138.581 158.198 147.331 Q158.198 156.058 155.119 160.665 Q152.064 165.248 146.253 165.248 Q140.443 165.248 137.365 160.665 Q134.309 156.058 134.309 147.331 Q134.309 138.581 137.365 133.998 Q140.443 129.392 146.253 129.392 Z\" fill=\"#000000\" fill-rule=\"nonzero\" fill-opacity=\"1\" /><path clip-path=\"url(#clip290)\" d=\"M167.903 111.588 Q164.969 111.588 163.483 114.484 Q162.016 117.362 162.016 123.154 Q162.016 128.928 163.483 131.825 Q164.969 134.702 167.903 134.702 Q170.855 134.702 172.322 131.825 Q173.808 128.928 173.808 123.154 Q173.808 117.362 172.322 114.484 Q170.855 111.588 167.903 111.588 M167.903 108.578 Q172.623 108.578 175.106 112.321 Q177.607 116.045 177.607 123.154 Q177.607 130.245 175.106 133.988 Q172.623 137.712 167.903 137.712 Q163.182 137.712 160.68 133.988 Q158.198 130.245 158.198 123.154 Q158.198 116.045 160.68 112.321 Q163.182 108.578 167.903 108.578 Z\" fill=\"#000000\" fill-rule=\"nonzero\" fill-opacity=\"1\" /><polyline clip-path=\"url(#clip292)\" style=\"stroke:#009af9; stroke-linecap:round; stroke-linejoin:round; stroke-width:4; stroke-opacity:1; fill:none\" points=\"274.149,87.9763 418.297,100.165 562.444,113.511 706.592,128.58 850.739,146.351 994.887,168.65 1139.03,199.203 1283.18,246.28 1427.33,329.011 1571.48,489.047 1715.62,808.288 1859.77,1445.72 \"/>\n",
       "<path clip-path=\"url(#clip290)\" d=\"M284.912 198.898 L551.258 198.898 L551.258 95.2176 L284.912 95.2176  Z\" fill=\"#ffffff\" fill-rule=\"evenodd\" fill-opacity=\"1\"/>\n",
       "<polyline clip-path=\"url(#clip290)\" style=\"stroke:#000000; stroke-linecap:round; stroke-linejoin:round; stroke-width:4; stroke-opacity:1; fill:none\" points=\"284.912,198.898 551.258,198.898 551.258,95.2176 284.912,95.2176 284.912,198.898 \"/>\n",
       "<polyline clip-path=\"url(#clip290)\" style=\"stroke:#009af9; stroke-linecap:round; stroke-linejoin:round; stroke-width:4; stroke-opacity:1; fill:none\" points=\"308.681,147.058 451.291,147.058 \"/>\n",
       "<path clip-path=\"url(#clip290)\" d=\"M488.901 166.745 Q487.096 171.375 485.383 172.787 Q483.67 174.199 480.8 174.199 L477.397 174.199 L477.397 170.634 L479.897 170.634 Q481.656 170.634 482.628 169.8 Q483.601 168.967 484.781 165.865 L485.545 163.921 L475.059 138.412 L479.573 138.412 L487.675 158.689 L495.776 138.412 L500.29 138.412 L488.901 166.745 Z\" fill=\"#000000\" fill-rule=\"nonzero\" fill-opacity=\"1\" /><path clip-path=\"url(#clip290)\" d=\"M507.582 160.402 L515.221 160.402 L515.221 134.037 L506.911 135.703 L506.911 131.444 L515.174 129.778 L519.85 129.778 L519.85 160.402 L527.489 160.402 L527.489 164.338 L507.582 164.338 L507.582 160.402 Z\" fill=\"#000000\" fill-rule=\"nonzero\" fill-opacity=\"1\" /></svg>\n"
      ]
     },
     "execution_count": 106,
     "metadata": {},
     "output_type": "execute_result"
    }
   ],
   "source": [
    "# TODO: compute and plot the error of `newton(f, 0.1, k)` for `k = 1:15`\n",
    "plot(1:15, [nanabs(newton(f, 0.1, k) - r) for k = 1:15]; yscale=:log10)"
   ]
  },
  {
   "cell_type": "markdown",
   "metadata": {},
   "source": [
    "**Problem 5(b)** Use `newton` with a complex number to compute\n",
    "an approximation to a complex root of $f(x) = x^5 - x^2 + 1$.\n",
    "Verify the approximation is accurate by testing that it satisfies $f(r)$\n",
    "is approximately zero."
   ]
  },
  {
   "cell_type": "code",
   "execution_count": 107,
   "metadata": {},
   "outputs": [
    {
     "data": {
      "text/plain": [
       "2.220446049250313e-16 + 0.0im"
      ]
     },
     "execution_count": 107,
     "metadata": {},
     "output_type": "execute_result"
    }
   ],
   "source": [
    "# TODO: By making the initial guess complex find a complex root.\n",
    "r = newton(f, 0.1 + 0.2im, 100)\n",
    "f(r)"
   ]
  },
  {
   "cell_type": "markdown",
   "metadata": {},
   "source": [
    "**Problem 5(c)** By changing the initial guesses compute 5 roots to\n",
<<<<<<< Updated upstream
    "$sin(x) - 1/x$. Hint: you may need to add an overload for `/(x::Real, y::Dual)`."
   ],
   "metadata": {}
=======
    "$sin(x) - 1/x$. Hint: you may need add an overload for `/(x::Real, y::Dual)`."
   ]
>>>>>>> Stashed changes
  },
  {
   "cell_type": "code",
<<<<<<< Updated upstream
   "source": [
    "# TODO: Use `newton` to compute roots of `sin(x) - 1/x`."
   ],
=======
   "execution_count": 110,
>>>>>>> Stashed changes
   "metadata": {},
   "outputs": [
    {
     "data": {
      "text/plain": [
       "(1.1141571408719302, -1.1141571408719302, 2.772604708265991, 9.31724294141481, 6.439117238417246)"
      ]
     },
     "execution_count": 110,
     "metadata": {},
     "output_type": "execute_result"
    }
   ],
   "source": [
    "\n",
    "# TODO: Use `newton` to compute roots of `sin(x) - 1/x`.\n",
    "# SOLUTION\n",
    "\n",
    "# We need to add a missing overload for `Dual`:\n",
    "\n",
    "/(x::Real, y::Dual) = Dual(x)/y\n",
    "\n",
    "\n",
    "# Changing the initial guess we get 5 distinct roots\n",
    "newton(x -> sin(x) - 1/x, 1, 100),\n",
    "newton(x -> sin(x) - 1/x, 2, 100),\n",
    "newton(x -> sin(x) - 1/x, 3, 100),\n",
    "newton(x -> sin(x) - 1/x, 5, 100),\n",
    "newton(x -> sin(x) - 1/x, 6, 100)\n",
    "\n",
    "# END"
   ]
  },
  {
   "cell_type": "markdown",
   "metadata": {},
   "source": [
    "---\n",
    "\n",
    "*This notebook was generated using [Literate.jl](https://github.com/fredrikekre/Literate.jl).*"
   ]
  }
 ],
 "metadata": {
  "kernelspec": {
   "display_name": "Julia 1.10.0",
   "language": "julia",
   "name": "julia-1.10"
  },
  "language_info": {
   "file_extension": ".jl",
   "mimetype": "application/julia",
   "name": "julia",
   "version": "1.10.0"
  }
 },
 "nbformat": 4,
 "nbformat_minor": 4
}
